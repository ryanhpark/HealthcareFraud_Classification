{
 "cells": [
  {
   "cell_type": "markdown",
   "metadata": {
    "toc": true
   },
   "source": [
    "<h1>Table of Contents<span class=\"tocSkip\"></span></h1>\n",
    "<div class=\"toc\"><ul class=\"toc-item\"><li><ul class=\"toc-item\"><li><span><a href=\"#Load-Data\" data-toc-modified-id=\"Load-Data-0.1\"><span class=\"toc-item-num\">0.1&nbsp;&nbsp;</span>Load Data</a></span></li><li><span><a href=\"#Set-up-relevant-features\" data-toc-modified-id=\"Set-up-relevant-features-0.2\"><span class=\"toc-item-num\">0.2&nbsp;&nbsp;</span>Set up relevant features</a></span></li></ul></li><li><span><a href=\"#List-of-features-to-create-based-on-EDA\" data-toc-modified-id=\"List-of-features-to-create-based-on-EDA-1\"><span class=\"toc-item-num\">1&nbsp;&nbsp;</span>List of features to create based on EDA</a></span><ul class=\"toc-item\"><li><span><a href=\"#Set-up-a-provider-oriented-data-frame\" data-toc-modified-id=\"Set-up-a-provider-oriented-data-frame-1.1\"><span class=\"toc-item-num\">1.1&nbsp;&nbsp;</span>Set up a provider-oriented data frame</a></span></li><li><span><a href=\"#Create-new-features-for-providers\" data-toc-modified-id=\"Create-new-features-for-providers-1.2\"><span class=\"toc-item-num\">1.2&nbsp;&nbsp;</span>Create new features for providers</a></span></li></ul></li></ul></div>"
   ]
  },
  {
   "cell_type": "code",
   "execution_count": 1,
   "metadata": {},
   "outputs": [],
   "source": [
    "import pandas as pd\n",
    "import numpy as np\n",
    "import matplotlib.pyplot as plt\n",
    "import seaborn as sns\n",
    "import sys\n",
    "sys.path.insert(0, '..')\n",
    "from joblib import load\n",
    "import Functions as fxns\n",
    "from hashable_df import hashable_df\n",
    "%matplotlib inline\n",
    "plt.rcParams['figure.figsize'] = (9, 6)\n",
    "sns.set(style = \"whitegrid\")\n",
    "sns.set_palette(\"icefire\")\n",
    "pd.set_option('display.max_columns', 500)"
   ]
  },
  {
   "cell_type": "markdown",
   "metadata": {},
   "source": [
    "## Load Data"
   ]
  },
  {
   "cell_type": "code",
   "execution_count": 2,
   "metadata": {},
   "outputs": [],
   "source": [
    "# # CREATES A .PKL FILE IN THE MAIN FOLDER - ONLY NEEDS TO BE RUN ONCE/IF PRE-PROCESSING IS UPDATED.\n",
    "# !python ../Preprocessing.py # REMOVE OR COMMENT OUT AFTER PRE-PROCESSING\n",
    "claims = load('../claims.pkl')"
   ]
  },
  {
   "cell_type": "markdown",
   "metadata": {},
   "source": [
    "## Set up relevant features"
   ]
  },
  {
   "cell_type": "code",
   "execution_count": 3,
   "metadata": {},
   "outputs": [],
   "source": [
    "# Create variables for convenience \n",
    "diag_code = claims.columns[claims.columns.str.contains('DiagnosisCode')].tolist()\n",
    "proc_code = claims.columns[claims.columns.str.contains('ProcedureCode')].tolist()\n",
    "codes = diag_code + proc_code\n",
    "chronic = claims.columns[claims.columns.str.contains(\"Chronic\")].tolist()"
   ]
  },
  {
   "cell_type": "code",
   "execution_count": 4,
   "metadata": {},
   "outputs": [],
   "source": [
    "claims[\"ClaimDuration\"] = claims[\"ClaimEndDt\"] - claims[\"ClaimStartDt\"]\n",
    "claims[\"ClaimDuration\"] = claims[\"ClaimDuration\"].dt.days + 1\n",
    "claims[\"NoPhy\"] = claims[['AttendingPhysician', 'OperatingPhysician', 'OtherPhysician']].isna().all(axis =1)\n",
    "claims['AllPhy'] = claims[['AttendingPhysician', 'OperatingPhysician']].notnull().all(axis =1)\n",
    "claims['SameAttOper'] = claims['AttendingPhysician'] == claims['OperatingPhysician']\n",
    "claims[\"AdmisDuration\"] = claims[\"DischargeDt\"] - claims[\"AdmissionDt\"]\n",
    "claims[\"AdmisDuration\"] = claims[\"AdmisDuration\"].dt.days\n",
    "claims[\"AgeAtClm\"] = round((claims[\"ClaimStartDt\"] - claims[\"DOB\"]).dt.days/365,0).astype(int)\n",
    "claims[\"TotalRev\"] = claims['InscClaimAmtReimbursed'] + claims['DeductibleAmtPaid']\n",
    "claims['ClmYear'] = claims.ClaimStartDt.dt.year.rename('Year')\n",
    "claims['ClmMonth'] = claims.ClaimStartDt.dt.month.rename('Month')\n",
    "claims['ClmWeek'] = claims.ClaimStartDt.dt.week.rename('Week')\n",
    "claims['InsCovRatio'] = claims['InscClaimAmtReimbursed']/(claims['InscClaimAmtReimbursed'] + claims[\"DeductibleAmtPaid\"])\n",
    "claims['RevPerDay'] = claims[\"TotalRev\"]/(claims['ClaimDuration']+1)\n",
    "claims['Chronic_Sum'] = claims[chronic].sum(axis = 1)\n",
    "claims['No_Diag_Code'] = claims[diag_code].isna().all(axis = 1)\n",
    "claims['No_Proc_Code'] = claims[proc_code].isna().all(axis = 1)"
   ]
  },
  {
   "cell_type": "code",
   "execution_count": 5,
   "metadata": {},
   "outputs": [],
   "source": [
    "# Create variables for convenience \n",
    "inclaims = claims[claims['IsOutpatient'] == 0]\n",
    "outclaims = claims[claims['IsOutpatient'] == 1]"
   ]
  },
  {
   "cell_type": "markdown",
   "metadata": {},
   "source": [
    "# List of features to create based on EDA"
   ]
  },
  {
   "cell_type": "markdown",
   "metadata": {},
   "source": [
    "* Patient/Physician Ratio\n",
    "\n",
    "* Number of unique inpatient beneficiaries\n",
    "* Number of unique outpatient beneficiaries\n",
    "* Number of unique states for inpatient\n",
    "* Number of unique states for outpatient\n",
    "* Total deductible paid for inpatients\n",
    "* Total deductible paid for outpatients\n",
    "* Whether the provider serves both in/out patients\n",
    "* Percentage of inpatient claims\n",
    "* Percentage of claims that had all physicians involved\n",
    "* Percentage of inpatients with top 5 frequent chronic disease (from PotentialFraud)\n",
    "* Percentage of outpatients with top 5 frequent chronic disease (from PotentialFraud)\n",
    "* Average number of claims per patients\n",
    "* Average number of claims per physicians\n",
    "\n",
    "* Average claim duration for inpatients\n",
    "* Average claim duration for outpatients\n",
    "* Average amount of reimbursed claims for inpatients\n",
    "* Average amount of reimbursed claims for outpatients\n",
    "* Average admission duration for inpatients\n",
    "* Average age of patients\n",
    "* Average number of chronic condition for inpatients\n",
    "* Average number of chronic condition for outpatients\n",
    "* Average Insurance covered Ratio for inpatients (Reimbursement/(Reimbursement+Deductible) \n",
    "* Average Insurance covered Ratio for outpatients\n",
    "* Average revenue per day for inpatients\n",
    "* Average revenue per day for outpatients\n",
    "\n",
    "* Percentage of attending physicians serving for different hospitals (75% threshold)\n",
    "* Percentage of operating physicians serving for different hospitals (75% threshold)\n",
    "* Percentage of other physicians serving for different hospitals (75% threshold)\n",
    "* Percentage of inpatients going to different hospitals (75% threshold)\n",
    "* Percentage of outpatients going to different hospitals (75% threshold)\n",
    "* Percentage of inpatients that receive both in/out patient service\n",
    "* Percentage of outpatients that receive both in/out patient service\n",
    "* Percentage of claims that didn’t have any physician involved\n",
    "* Percentage of inpatient claims with top 5 admtcode (from PotentialFraud)\n",
    "* Percentage of outpatient claims with top 5 admtcode (from PotentialFraud)\n",
    "\n",
    "* Percentage of Inpatient duplicate\n",
    "* Percentage of Outpatient duplicate \n",
    "* Average inpatient claim duration of duplicate\n",
    "* Average outpatient claim duration of duplicate\n",
    "* Percentage of outpatient with no diagnosis codes \n",
    "* Percentage of inpatient with no procedure codes\n",
    "* Percentage of claims from top 5 fraudulent states per provider"
   ]
  },
  {
   "cell_type": "markdown",
   "metadata": {},
   "source": [
    "## Set up a provider-oriented data frame"
   ]
  },
  {
   "cell_type": "code",
   "execution_count": 6,
   "metadata": {},
   "outputs": [],
   "source": [
    "# Create Provider-oriented data frame\n",
    "providers = pd.DataFrame(claims.groupby('Provider')['ClaimID'].size().index)"
   ]
  },
  {
   "cell_type": "markdown",
   "metadata": {},
   "source": [
    "## Create new features for providers"
   ]
  },
  {
   "cell_type": "code",
   "execution_count": 7,
   "metadata": {},
   "outputs": [],
   "source": [
    "# Patient/Physician Ratio\n",
    "PP_Ratio = claims.groupby('Provider')[['BeneID','AttendingPhysician','OperatingPhysician','OtherPhysician']].nunique()\n",
    "PP_Ratio['P_Attphy_Ratio'] = PP_Ratio['BeneID'] - PP_Ratio['AttendingPhysician']\n",
    "PP_Ratio['P_Operphy_Ratio'] = PP_Ratio['BeneID'] - PP_Ratio['OperatingPhysician']\n",
    "PP_Ratio['P_Otherphy_Ratio'] = PP_Ratio['BeneID'] - PP_Ratio['OtherPhysician']\n",
    "providers = providers.merge(PP_Ratio.iloc[:,-3:], how = 'left', on = 'Provider')"
   ]
  },
  {
   "cell_type": "code",
   "execution_count": 8,
   "metadata": {},
   "outputs": [
    {
     "name": "stderr",
     "output_type": "stream",
     "text": [
      "/Users/hb/opt/anaconda3/lib/python3.7/site-packages/ipykernel_launcher.py:6: SettingWithCopyWarning: \n",
      "A value is trying to be set on a copy of a slice from a DataFrame.\n",
      "Try using .loc[row_indexer,col_indexer] = value instead\n",
      "\n",
      "See the caveats in the documentation: https://pandas.pydata.org/pandas-docs/stable/user_guide/indexing.html#returning-a-view-versus-a-copy\n",
      "  \n",
      "/Users/hb/opt/anaconda3/lib/python3.7/site-packages/ipykernel_launcher.py:7: SettingWithCopyWarning: \n",
      "A value is trying to be set on a copy of a slice from a DataFrame.\n",
      "Try using .loc[row_indexer,col_indexer] = value instead\n",
      "\n",
      "See the caveats in the documentation: https://pandas.pydata.org/pandas-docs/stable/user_guide/indexing.html#returning-a-view-versus-a-copy\n",
      "  import sys\n"
     ]
    }
   ],
   "source": [
    "# Create duplicate boolean column\n",
    "claims['code_all_nan'] = claims[diag_code + proc_code].isna().all(axis = 1)\n",
    "claims_withcode = claims[claims['code_all_nan'] == False]\n",
    "dup_combination = claims_withcode[diag_code + proc_code].values.tolist()\n",
    "dup_combination = list(map(lambda x: [code for code in x if str(code) != \"nan\"], dup_combination))\n",
    "claims_withcode['Dup_Combo'] = dup_combination\n",
    "claims_withcode['Duplicate_Bool'] = hashable_df(claims_withcode).duplicated(subset = ['Dup_Combo'], keep = False)"
   ]
  },
  {
   "cell_type": "code",
   "execution_count": 9,
   "metadata": {},
   "outputs": [],
   "source": [
    "# Inpatient duplicate percentage\n",
    "inp_dup_perc = claims_withcode[claims_withcode['IsOutpatient'] == 0].groupby('Provider')[['Duplicate_Bool']].mean().reset_index()\n",
    "inp_dup_perc.columns.values[1] = \"IP_Dup_Perc\"\n",
    "providers = providers.merge(inp_dup_perc, how = 'left', on = 'Provider')\n",
    "# 0's are when there is no duplicate, and NaN's are when there is no inpatients "
   ]
  },
  {
   "cell_type": "code",
   "execution_count": 10,
   "metadata": {},
   "outputs": [],
   "source": [
    "# Outpatient duplicate percentage\n",
    "outp_dup_perc = claims_withcode[claims_withcode['IsOutpatient'] == 1].groupby('Provider')[['Duplicate_Bool']].mean().reset_index()\n",
    "outp_dup_perc.columns.values[1] = \"OP_Dup_Perc\"\n",
    "providers = providers.merge(outp_dup_perc, how = 'left', on = 'Provider')\n",
    "# 0's are when there is no duplicate, and NaN's are when there is no outpatients "
   ]
  },
  {
   "cell_type": "code",
   "execution_count": 11,
   "metadata": {},
   "outputs": [],
   "source": [
    "# Percentage of outpatient with no diagnosis code\n",
    "no_diag_code = outclaims.groupby('Provider')[['No_Diag_Code']].mean().reset_index()\n",
    "no_diag_code.columns.values[1] = \"OP_No_Diag_Perc\"\n",
    "providers = providers.merge(no_diag_code, how = 'left', on = 'Provider')"
   ]
  },
  {
   "cell_type": "code",
   "execution_count": 12,
   "metadata": {},
   "outputs": [],
   "source": [
    "# Percentage of inpatient with no procedure code\n",
    "no_proc_code = inclaims.groupby('Provider')[['No_Proc_Code']].mean().reset_index()\n",
    "no_proc_code.columns.values[1] = \"IP_No_Proc_Perc\"\n",
    "providers = providers.merge(no_proc_code, how = 'left', on = 'Provider')"
   ]
  },
  {
   "cell_type": "code",
   "execution_count": 13,
   "metadata": {},
   "outputs": [],
   "source": [
    "# Percentage of claims from top 5 fraudulent states per provider\n",
    "claims.PotentialFraud = claims.PotentialFraud.astype(int)\n",
    "top_five = claims.groupby('State')[['PotentialFraud']].mean().sort_values(\n",
    "                                    by = 'PotentialFraud', ascending = False).index[:5]\n",
    "claims['In_Top5_State'] = claims['State'].isin(top_five)\n",
    "top_five_states = claims.groupby('Provider')[['In_Top5_State']].mean().reset_index()\n",
    "top_five_states.columns.values[1] = \"In_Top5_St_Perc\"\n",
    "providers = providers.merge(top_five_states, how = 'left', on = 'Provider')"
   ]
  },
  {
   "cell_type": "code",
   "execution_count": null,
   "metadata": {},
   "outputs": [],
   "source": []
  }
 ],
 "metadata": {
  "kernelspec": {
   "display_name": "Python 3",
   "language": "python",
   "name": "python3"
  },
  "language_info": {
   "codemirror_mode": {
    "name": "ipython",
    "version": 3
   },
   "file_extension": ".py",
   "mimetype": "text/x-python",
   "name": "python",
   "nbconvert_exporter": "python",
   "pygments_lexer": "ipython3",
   "version": "3.7.6"
  },
  "toc": {
   "base_numbering": 1,
   "nav_menu": {},
   "number_sections": true,
   "sideBar": true,
   "skip_h1_title": false,
   "title_cell": "Table of Contents",
   "title_sidebar": "Contents",
   "toc_cell": true,
   "toc_position": {},
   "toc_section_display": true,
   "toc_window_display": false
  },
  "varInspector": {
   "cols": {
    "lenName": 16,
    "lenType": 16,
    "lenVar": 40
   },
   "kernels_config": {
    "python": {
     "delete_cmd_postfix": "",
     "delete_cmd_prefix": "del ",
     "library": "var_list.py",
     "varRefreshCmd": "print(var_dic_list())"
    },
    "r": {
     "delete_cmd_postfix": ") ",
     "delete_cmd_prefix": "rm(",
     "library": "var_list.r",
     "varRefreshCmd": "cat(var_dic_list()) "
    }
   },
   "types_to_exclude": [
    "module",
    "function",
    "builtin_function_or_method",
    "instance",
    "_Feature"
   ],
   "window_display": false
  }
 },
 "nbformat": 4,
 "nbformat_minor": 4
}
