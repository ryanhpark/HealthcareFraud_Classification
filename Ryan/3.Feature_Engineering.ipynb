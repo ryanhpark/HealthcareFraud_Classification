{
 "cells": [
  {
   "cell_type": "markdown",
   "metadata": {
    "toc": true
   },
   "source": [
    "<h1>Table of Contents<span class=\"tocSkip\"></span></h1>\n",
    "<div class=\"toc\"><ul class=\"toc-item\"><li><span><a href=\"#List-of-Features-to-Create\" data-toc-modified-id=\"List-of-Features-to-Create-1\"><span class=\"toc-item-num\">1&nbsp;&nbsp;</span>List of Features to Create</a></span></li></ul></div>"
   ]
  },
  {
   "cell_type": "markdown",
   "metadata": {},
   "source": [
    "# List of Features to Create"
   ]
  },
  {
   "cell_type": "markdown",
   "metadata": {},
   "source": [
    "* \\# of unique inpatient beneficiaries\n",
    "* \\# of unique outpatient beneficiaries\n",
    "* Ratio of inpatient claims\n",
    "* Whether the provider serves both in/out patients\n",
    "* Ratio of attending physicians serving for different hospitals (75% threshold)\n",
    "* Ratio of operating physicians serving for different hospitals (75% threshold)\n",
    "* Ratio of other physicians serving for different hospitals (75% threshold)\n",
    "* Ratio of inpatients going to different hospitals (75% threshold)\n",
    "* Ratio of outpatients going to different hospitals (75% threshold)\n",
    "* Ratio of inpatients that receive both in/out patient service\n",
    "* Ratio of outpatients that receive both in/out patient service\n",
    "* Mean claim duration for inpatients\n",
    "* Mean claim duration for outpatients\n",
    "* Mean amount of reimbursed claims in dollars for inpatients\n",
    "* Mean amount of reimbursed claims in dollars for outpatients\n",
    "* Total (or mean) deductible paid for inpatients\n",
    "* Total (or mean) deductible paid for outpatients\n",
    "* Ratio of claims that didn’t have any physician involved\n",
    "* Ratio of claims that had all physicians involved\n",
    "* Mean admission duration for inpatients\n",
    "* Ratio of patients over age 65 (or average age)\n",
    "* Ratio of inpatients with top 5 frequent chronic disease (from PotentialFraud)\n",
    "* Ratio of outpatients with top 5 frequent chronic disease (from PotentialFraud)\n",
    "* The mean number of chronic condition for inpatients\n",
    "* The mean number of chronic condition for outpatients\n",
    "* Ratio of inpatient claims with top 5 admtcode (from PotentialFraud)\n",
    "* Ratio of outpatient claims with top 5 admtcode (from PotentialFraud)\n",
    "* avg Insurance covered Ratio for inpatients (Reimbursement/(Reimbursement+Deductible) \n",
    "* avg Insurance covered Ratio for outpatients\n",
    "* Avg revenue per day for inpatients\n",
    "* Avg revenue per day for outpatients\n",
    "* Inpatient duplicate ratio\n",
    "* Outpatient duplicate ratio\n",
    "* All Diag codes are NaN ratio\n",
    "* All Proc codes are NaN ratio\n",
    "* The mean number of chronic condition\t\n"
   ]
  },
  {
   "cell_type": "code",
   "execution_count": null,
   "metadata": {},
   "outputs": [],
   "source": []
  },
  {
   "cell_type": "code",
   "execution_count": null,
   "metadata": {},
   "outputs": [],
   "source": []
  },
  {
   "cell_type": "code",
   "execution_count": null,
   "metadata": {},
   "outputs": [],
   "source": []
  },
  {
   "cell_type": "code",
   "execution_count": null,
   "metadata": {},
   "outputs": [],
   "source": []
  },
  {
   "cell_type": "code",
   "execution_count": null,
   "metadata": {},
   "outputs": [],
   "source": []
  },
  {
   "cell_type": "code",
   "execution_count": null,
   "metadata": {},
   "outputs": [],
   "source": []
  }
 ],
 "metadata": {
  "kernelspec": {
   "display_name": "Python 3",
   "language": "python",
   "name": "python3"
  },
  "language_info": {
   "codemirror_mode": {
    "name": "ipython",
    "version": 3
   },
   "file_extension": ".py",
   "mimetype": "text/x-python",
   "name": "python",
   "nbconvert_exporter": "python",
   "pygments_lexer": "ipython3",
   "version": "3.7.6"
  },
  "toc": {
   "base_numbering": 1,
   "nav_menu": {},
   "number_sections": true,
   "sideBar": true,
   "skip_h1_title": false,
   "title_cell": "Table of Contents",
   "title_sidebar": "Contents",
   "toc_cell": true,
   "toc_position": {},
   "toc_section_display": true,
   "toc_window_display": false
  },
  "varInspector": {
   "cols": {
    "lenName": 16,
    "lenType": 16,
    "lenVar": 40
   },
   "kernels_config": {
    "python": {
     "delete_cmd_postfix": "",
     "delete_cmd_prefix": "del ",
     "library": "var_list.py",
     "varRefreshCmd": "print(var_dic_list())"
    },
    "r": {
     "delete_cmd_postfix": ") ",
     "delete_cmd_prefix": "rm(",
     "library": "var_list.r",
     "varRefreshCmd": "cat(var_dic_list()) "
    }
   },
   "types_to_exclude": [
    "module",
    "function",
    "builtin_function_or_method",
    "instance",
    "_Feature"
   ],
   "window_display": false
  }
 },
 "nbformat": 4,
 "nbformat_minor": 4
}
