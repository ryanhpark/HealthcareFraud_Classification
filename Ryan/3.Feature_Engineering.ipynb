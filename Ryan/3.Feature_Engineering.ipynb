{
 "cells": [
  {
   "cell_type": "markdown",
   "metadata": {
    "toc": true
   },
   "source": [
    "<h1>Table of Contents<span class=\"tocSkip\"></span></h1>\n",
    "<div class=\"toc\"><ul class=\"toc-item\"><li><ul class=\"toc-item\"><li><span><a href=\"#Load-Data\" data-toc-modified-id=\"Load-Data-0.1\"><span class=\"toc-item-num\">0.1&nbsp;&nbsp;</span>Load Data</a></span></li><li><span><a href=\"#Set-up-relevant-features\" data-toc-modified-id=\"Set-up-relevant-features-0.2\"><span class=\"toc-item-num\">0.2&nbsp;&nbsp;</span>Set up relevant features</a></span></li></ul></li><li><span><a href=\"#List-of-features-to-create-based-on-EDA\" data-toc-modified-id=\"List-of-features-to-create-based-on-EDA-1\"><span class=\"toc-item-num\">1&nbsp;&nbsp;</span>List of features to create based on EDA</a></span><ul class=\"toc-item\"><li><span><a href=\"#Set-up-a-provider-oriented-data-frame\" data-toc-modified-id=\"Set-up-a-provider-oriented-data-frame-1.1\"><span class=\"toc-item-num\">1.1&nbsp;&nbsp;</span>Set up a provider-oriented data frame</a></span></li><li><span><a href=\"#Create-new-features-for-providers\" data-toc-modified-id=\"Create-new-features-for-providers-1.2\"><span class=\"toc-item-num\">1.2&nbsp;&nbsp;</span>Create new features for providers</a></span></li></ul></li><li><span><a href=\"#Merge-with-target-variable\" data-toc-modified-id=\"Merge-with-target-variable-2\"><span class=\"toc-item-num\">2&nbsp;&nbsp;</span>Merge with target variable</a></span></li><li><span><a href=\"#Second-Iter-of-Feature-Engineering-Based-on-Initial-Modeling-Results\" data-toc-modified-id=\"Second-Iter-of-Feature-Engineering-Based-on-Initial-Modeling-Results-3\"><span class=\"toc-item-num\">3&nbsp;&nbsp;</span>Second Iter of Feature Engineering Based on Initial Modeling Results</a></span></li></ul></div>"
   ]
  },
  {
   "cell_type": "code",
   "execution_count": null,
   "metadata": {},
   "outputs": [],
   "source": [
    "import pandas as pd\n",
    "import numpy as np\n",
    "import matplotlib.pyplot as plt\n",
    "import seaborn as sns\n",
    "import sys\n",
    "sys.path.insert(0, '..')\n",
    "from joblib import load\n",
    "import Functions as fxns\n",
    "from hashable_df import hashable_df\n",
    "%matplotlib inline\n",
    "plt.rcParams['figure.figsize'] = (9, 6)\n",
    "sns.set(style = \"whitegrid\")\n",
    "sns.set_palette(\"icefire\")\n",
    "pd.set_option('display.max_columns', 500)\n",
    "import warnings\n",
    "warnings.filterwarnings(action=\"ignore\")"
   ]
  },
  {
   "cell_type": "markdown",
   "metadata": {},
   "source": [
    "## Load Data"
   ]
  },
  {
   "cell_type": "code",
   "execution_count": null,
   "metadata": {},
   "outputs": [],
   "source": [
    "# # CREATES A .PKL FILE IN THE MAIN FOLDER - ONLY NEEDS TO BE RUN ONCE/IF PRE-PROCESSING IS UPDATED.\n",
    "# !python ../Preprocessing.py # REMOVE OR COMMENT OUT AFTER PRE-PROCESSING\n",
    "claims = load('../claims.pkl')"
   ]
  },
  {
   "cell_type": "markdown",
   "metadata": {},
   "source": [
    "## Set up relevant features"
   ]
  },
  {
   "cell_type": "code",
   "execution_count": null,
   "metadata": {},
   "outputs": [],
   "source": [
    "# Create variables for convenience \n",
    "diag_code = claims.columns[claims.columns.str.contains('DiagnosisCode')].tolist()\n",
    "proc_code = claims.columns[claims.columns.str.contains('ProcedureCode')].tolist()\n",
    "codes = diag_code + proc_code\n",
    "chronic = claims.columns[claims.columns.str.contains(\"Chronic\")].tolist()"
   ]
  },
  {
   "cell_type": "code",
   "execution_count": null,
   "metadata": {},
   "outputs": [],
   "source": [
    "claims[\"ClaimDuration\"] = claims[\"ClaimEndDt\"] - claims[\"ClaimStartDt\"]\n",
    "claims[\"ClaimDuration\"] = claims[\"ClaimDuration\"].dt.days + 1\n",
    "claims[\"NoPhy\"] = claims[['AttendingPhysician', 'OperatingPhysician', 'OtherPhysician']].isna().all(axis =1)\n",
    "claims['AllPhy'] = claims[['AttendingPhysician', 'OperatingPhysician','OtherPhysician']].notnull().all(axis =1)\n",
    "claims['SameAttOper'] = claims['AttendingPhysician'] == claims['OperatingPhysician']\n",
    "claims[\"AdmisDuration\"] = claims[\"DischargeDt\"] - claims[\"AdmissionDt\"]\n",
    "claims[\"AdmisDuration\"] = claims[\"AdmisDuration\"].dt.days\n",
    "claims[\"AgeAtClm\"] = round((claims[\"ClaimStartDt\"] - claims[\"DOB\"]).dt.days/365,0).astype(int)\n",
    "claims[\"TotalRev\"] = claims['InscClaimAmtReimbursed'] + claims['DeductibleAmtPaid']\n",
    "claims['ClmYear'] = claims.ClaimStartDt.dt.year.rename('Year')\n",
    "claims['ClmMonth'] = claims.ClaimStartDt.dt.month.rename('Month')\n",
    "claims['ClmWeek'] = claims.ClaimStartDt.dt.week.rename('Week')\n",
    "claims['InsCovRatio'] = claims['InscClaimAmtReimbursed']/(claims['InscClaimAmtReimbursed'] + claims[\"DeductibleAmtPaid\"])\n",
    "claims['RevPerDay'] = claims[\"TotalRev\"]/(claims['ClaimDuration']+1)\n",
    "claims['Chronic_Sum'] = claims[chronic].sum(axis = 1)\n",
    "claims['No_Diag_Code'] = claims[diag_code].isna().all(axis = 1)\n",
    "claims['No_Proc_Code'] = claims[proc_code].isna().all(axis = 1)"
   ]
  },
  {
   "cell_type": "code",
   "execution_count": null,
   "metadata": {},
   "outputs": [],
   "source": [
    "# Create variables for convenience \n",
    "inclaims = claims[claims['IsOutpatient'] == 0]\n",
    "outclaims = claims[claims['IsOutpatient'] == 1]"
   ]
  },
  {
   "cell_type": "markdown",
   "metadata": {},
   "source": [
    "# List of features to create based on EDA"
   ]
  },
  {
   "cell_type": "markdown",
   "metadata": {},
   "source": [
    "* Patient/Physician Ratio\n",
    "* Average number of claims per patients\n",
    "* Average number of claims per physicians\n",
    "* Percentage of inpatients going to different hospitals \n",
    "* Percentage of outpatients going to different hospitals\n",
    "* Percentage of patients that receive both in/out patient service\n",
    "* Whether the provider serves both in/out patients\n",
    "* Percentage of attending physicians serving for different hospitals\n",
    "* Percentage of operating physicians serving for different hospitals\n",
    "* Percentage of other physicians serving for different hospitals\n",
    "* Number of unique inpatient beneficiaries\n",
    "* Number of unique outpatient beneficiaries\n",
    "* Number of unique states for inpatients\n",
    "* Number of unique states for outpatients\n",
    "* Percentage of inpatient claims\n",
    "* Percentage of claims that had all physicians involved\n",
    "* Percentage of claims that had no physicians involved\n",
    "* Average claim duration for inpatients\n",
    "* Average claim duration for outpatients\n",
    "* Average amount of reimbursed claims for inpatients\n",
    "* Average amount of reimbursed claims for outpatients\n",
    "* Average deductible paid for inpatients\n",
    "* Average deductible paid for outpatients\n",
    "* Average admission duration for inpatients\n",
    "* Average age of inpatients\n",
    "* Average age of outpatients\n",
    "* Average number of chronic condition for inpatients\n",
    "* Average number of chronic condition for outpatients\n",
    "* Average Insurance covered Ratio for inpatients (Reimbursement/(Reimbursement+Deductible) \n",
    "* Average Insurance covered Ratio for outpatients\n",
    "* Average revenue per day for inpatients\n",
    "* Average revenue per day for outpatients\n",
    "* Percentage of Inpatient duplicate\n",
    "* Percentage of Outpatient duplicate \n",
    "* Average inpatient claim duration of duplicate\n",
    "* Average outpatient claim duration of duplicate\n",
    "* Percentage of outpatient with no diagnosis codes \n",
    "* Percentage of inpatient with no procedure codes\n",
    "* Percentage of claims from top 5 fraudulent states per provider\n",
    "\n",
    "* Percentage of inpatients with top 5 frequent chronic disease (from PotentialFraud)\n",
    "* Percentage of outpatients with top 5 frequent chronic disease (from PotentialFraud)\n",
    "* Percentage of inpatient claims with top 5 admtcode (from PotentialFraud)\n",
    "* Percentage of outpatient claims with top 5 admtcode (from PotentialFraud)\n"
   ]
  },
  {
   "cell_type": "markdown",
   "metadata": {},
   "source": [
    "## Set up a provider-oriented data frame"
   ]
  },
  {
   "cell_type": "code",
   "execution_count": null,
   "metadata": {},
   "outputs": [],
   "source": [
    "# Create Provider-oriented data frame\n",
    "providers = pd.DataFrame(claims.groupby('Provider')['ClaimID'].size().index)"
   ]
  },
  {
   "cell_type": "markdown",
   "metadata": {},
   "source": [
    "## Create new features for providers"
   ]
  },
  {
   "cell_type": "code",
   "execution_count": null,
   "metadata": {},
   "outputs": [],
   "source": [
    "# Patient/Physician Ratio\n",
    "PP_Ratio = claims.groupby('Provider')[[\n",
    "            'BeneID','AttendingPhysician',\n",
    "            'OperatingPhysician','OtherPhysician']].nunique().reset_index()\n",
    "PP_Ratio['Patient_Attphy_Ratio'] = PP_Ratio['BeneID']/PP_Ratio['AttendingPhysician']\n",
    "PP_Ratio['Patient_Operphy_Ratio'] = PP_Ratio['BeneID']/ PP_Ratio['OperatingPhysician']\n",
    "PP_Ratio['Patient_Otherphy_Ratio'] = PP_Ratio['BeneID']/ PP_Ratio['OtherPhysician']\n",
    "\n",
    "PP_Ratio.drop(['BeneID','AttendingPhysician','OperatingPhysician','OtherPhysician'],1,inplace=True)\n",
    "providers = providers.merge(PP_Ratio, how = 'left', on = 'Provider')"
   ]
  },
  {
   "cell_type": "code",
   "execution_count": null,
   "metadata": {},
   "outputs": [],
   "source": [
    "# Average number of claims per patients\n",
    "claim_bene = claims.groupby('Provider')[[\n",
    "    'ClaimID','BeneID']].agg({'ClaimID':'count','BeneID':'nunique'}).reset_index()\n",
    "claim_bene['Claim_Patient_Ratio'] = claim_bene['ClaimID']/claim_bene['BeneID']\n",
    "claim_bene.drop(['ClaimID','BeneID'],1,inplace=True)\n",
    "providers = providers.merge(claim_bene, how = 'left', on = 'Provider')\n",
    "\n",
    "# Average number of claims per physicians\n",
    "claim_attphy = claims.groupby('Provider')[[\n",
    "    'ClaimID','AttendingPhysician']].agg({\n",
    "    'ClaimID':'count','AttendingPhysician':'nunique'}).reset_index()\n",
    "claim_attphy['Claim_AttPhy_Ratio'] = claim_attphy['ClaimID']/claim_attphy['AttendingPhysician']\n",
    "claim_attphy.drop(['ClaimID','AttendingPhysician'],1,inplace=True)\n",
    "providers = providers.merge(claim_attphy, how = 'left', on = 'Provider')"
   ]
  },
  {
   "cell_type": "code",
   "execution_count": null,
   "metadata": {},
   "outputs": [],
   "source": [
    "# Percentage of outpatient claims\n",
    "OP_Perc = claims.groupby('Provider')[['IsOutpatient']].mean().add_suffix('_Perc').reset_index()\n",
    "providers = providers.merge(OP_Perc, how = 'left', on = 'Provider')"
   ]
  },
  {
   "cell_type": "code",
   "execution_count": null,
   "metadata": {},
   "outputs": [],
   "source": [
    "# Number of unique inpatient beneficiaries\n",
    "# Number of unique states for inpatients\n",
    "IP_nunique = inclaims.groupby('Provider')[[\n",
    "    'BeneID','State']].nunique().add_suffix('_Nunique_IP').reset_index()\n",
    "\n",
    "# Number of unique outpatient beneficiaries\n",
    "# Number of unique states for outpatients\n",
    "OP_nunique = outclaims.groupby('Provider')[[\n",
    "    'BeneID','State']].nunique().add_suffix('_Nunique_OP').reset_index()\n",
    "\n",
    "providers = providers.merge(IP_nunique, how = 'left', on = 'Provider').\\\n",
    "                        merge(OP_nunique, how = 'left', on = 'Provider')"
   ]
  },
  {
   "cell_type": "code",
   "execution_count": null,
   "metadata": {},
   "outputs": [],
   "source": [
    "# Percentage of claims that had all physicians involved\n",
    "# Percentage of claims that had no physicians involved\n",
    "# Average claim duration for inpatients\n",
    "# Average claim duration for outpatients\n",
    "# Average amount of reimbursed claims for inpatients\n",
    "# Average amount of reimbursed claims for outpatients\n",
    "# Average admission duration for inpatients\n",
    "# Average age of inpatients\n",
    "# Average age of outpatients\n",
    "# Average number of chronic condition for inpatients\n",
    "# Average number of chronic condition for outpatients\n",
    "# Average Insurance covered Ratio for inpatients (Reimbursement/(Reimbursement+Deductible) \n",
    "# Average Insurance covered Ratio for outpatients\n",
    "# Average revenue per day for inpatients\n",
    "# Average revenue per day for outpatients\n",
    "# Average deductible paid for inpatients\n",
    "# Average deductible paid for outpatients\n",
    "ip_mean = inclaims.groupby('Provider')[['AllPhy','NoPhy',\n",
    "                                        'ClaimDuration','InscClaimAmtReimbursed',\n",
    "                                        'AdmisDuration','AgeAtClm','DeductibleAmtPaid',\n",
    "                                        'Chronic_Sum','InsCovRatio','RevPerDay'\n",
    "                                       ]].mean().add_suffix('_mean_IP').reset_index()\n",
    "\n",
    "op_mean = outclaims.groupby('Provider')[['AllPhy','NoPhy',\n",
    "                                         'ClaimDuration','InscClaimAmtReimbursed',\n",
    "                                         'AdmisDuration','AgeAtClm','DeductibleAmtPaid',\n",
    "                                         'Chronic_Sum','InsCovRatio','RevPerDay'\n",
    "                                        ]].mean().add_suffix('_mean_OP').reset_index()\n",
    "\n",
    "providers = providers.merge(ip_mean, how = 'left', on = 'Provider').merge(op_mean, how = 'left', on = 'Provider')"
   ]
  },
  {
   "cell_type": "code",
   "execution_count": null,
   "metadata": {},
   "outputs": [],
   "source": [
    "# Percentage of attending physicians serving for different hospitals\n",
    "nuniq_prov = claims.groupby('AttendingPhysician')[\"Provider\"].nunique().reset_index()\n",
    "phy_more = nuniq_prov[nuniq_prov.Provider > 1].AttendingPhysician.tolist()\n",
    "claims.loc[claims[\"AttendingPhysician\"].isin(phy_more),\"Att_Phy_Mult\"] = 1\n",
    "claims.loc[~claims[\"AttendingPhysician\"].isin(phy_more),\"Att_Phy_Mult\"] = 0\n",
    "\n",
    "# Percentage of operating physicians serving for different hospitals\n",
    "nuniq_prov = claims.groupby('OperatingPhysician')[\"Provider\"].nunique().reset_index()\n",
    "phy_more = nuniq_prov[nuniq_prov.Provider > 1].OperatingPhysician.tolist()\n",
    "claims.loc[claims[\"OperatingPhysician\"].isin(phy_more),\"Oper_Phy_Mult\"] = 1\n",
    "claims.loc[~claims[\"OperatingPhysician\"].isin(phy_more),\"Oper_Phy_Mult\"] = 0\n",
    "\n",
    "# Percentage of other physicians serving for different hospitals\n",
    "nuniq_prov = claims.groupby('OtherPhysician')[\"Provider\"].nunique().reset_index()\n",
    "phy_more = nuniq_prov[nuniq_prov.Provider > 1].OtherPhysician.tolist()\n",
    "claims.loc[claims[\"OtherPhysician\"].isin(phy_more),\"Other_Phy_Mult\"] = 1\n",
    "claims.loc[~claims[\"OtherPhysician\"].isin(phy_more),\"Other_Phy_Mult\"] = 0\n",
    "\n",
    "physician_mult_prov = claims.groupby('Provider')[[\n",
    "                'Att_Phy_Mult','Oper_Phy_Mult','Other_Phy_Mult'\n",
    "                ]].mean().add_suffix('_Prec').reset_index()\n",
    "providers = providers.merge(physician_mult_prov, how = 'left', on = 'Provider')"
   ]
  },
  {
   "cell_type": "code",
   "execution_count": null,
   "metadata": {},
   "outputs": [],
   "source": [
    "# Percentage of inpatients going to different hospitals \n",
    "nuniq_prov = inclaims.groupby('BeneID')[\"Provider\"].nunique().reset_index()\n",
    "bene_more = nuniq_prov[nuniq_prov['Provider'] > 1]['BeneID'].tolist()\n",
    "claims.loc[claims[\"BeneID\"].isin(bene_more),\"IP_Multiple_Hospital\"] = 1\n",
    "claims.loc[~claims[\"BeneID\"].isin(bene_more),\"IP_Multiple_Hospital\"] = 0\n",
    "\n",
    "# Percentage of outpatients going to different hospitals\n",
    "nuniq_prov = outclaims.groupby('BeneID')[\"Provider\"].nunique().reset_index()\n",
    "bene_more = nuniq_prov[nuniq_prov['Provider'] > 1]['BeneID'].tolist()\n",
    "claims.loc[claims[\"BeneID\"].isin(bene_more),\"OP_Multiple_Hospital\"] = 1\n",
    "claims.loc[~claims[\"BeneID\"].isin(bene_more),\"OP_Multiple_Hospital\"] = 0\n",
    "\n",
    "patients_mult_hospital = claims.groupby('Provider')[[\n",
    "    'IP_Multiple_Hospital','OP_Multiple_Hospital']].mean().add_suffix('_Prec').reset_index()\n",
    "providers = providers.merge(patients_mult_hospital, how = 'left', on = 'Provider')"
   ]
  },
  {
   "cell_type": "code",
   "execution_count": null,
   "metadata": {},
   "outputs": [],
   "source": [
    "# Percentage of patients that receive both in/out patient service\n",
    "bene_inp = inclaims['BeneID'].unique().tolist()\n",
    "bene_both = outclaims[outclaims['BeneID'].isin(bene_inp)]['BeneID'].tolist()\n",
    "claims.loc[claims[\"BeneID\"].isin(bene_both),\"Bene_Receive_Both_IO\"] = 1\n",
    "claims.loc[~claims[\"BeneID\"].isin(bene_both),\"Bene_Receive_Both_IO\"] = 0\n",
    "\n",
    "bene_receive_both = claims.groupby('Provider')[[\n",
    "            'Bene_Receive_Both_IO']].mean().add_suffix('_Perc').reset_index()\n",
    "providers = providers.merge(bene_receive_both, how = 'left', on = 'Provider')"
   ]
  },
  {
   "cell_type": "code",
   "execution_count": null,
   "metadata": {},
   "outputs": [],
   "source": [
    "# Whether the provider serves both in/out patients\n",
    "prov_inp = inclaims['Provider'].unique().tolist()\n",
    "prov_both = outclaims[outclaims['Provider'].isin(prov_inp)]['Provider'].tolist()\n",
    "claims.loc[claims[\"Provider\"].isin(prov_both),\"Provider_Serve_BothIO\"] = 1\n",
    "claims.loc[~claims[\"Provider\"].isin(prov_both),\"Provider_Serve_BothIO\"] = 0\n",
    "\n",
    "provider_serve_both = claims.groupby('Provider')['Provider_Serve_BothIO'].mean()\n",
    "providers = providers.merge(provider_serve_both, how = 'left', on = 'Provider')"
   ]
  },
  {
   "cell_type": "code",
   "execution_count": null,
   "metadata": {},
   "outputs": [],
   "source": [
    "# Create duplicate boolean column\n",
    "claims['code_all_nan'] = claims[diag_code + proc_code].isna().all(axis = 1)\n",
    "claims_withcode = claims[claims['code_all_nan'] == False]\n",
    "dup_combination = claims_withcode[diag_code + proc_code].values.tolist()\n",
    "dup_combination = list(\n",
    "    map(lambda x: [code for code in x if str(code) != \"nan\"], dup_combination))\n",
    "claims_withcode['Dup_Combo'] = dup_combination\n",
    "claims_withcode['Duplicate_Bool'] = hashable_df(\n",
    "    claims_withcode).duplicated(subset = ['Dup_Combo'], keep = False)"
   ]
  },
  {
   "cell_type": "code",
   "execution_count": null,
   "metadata": {},
   "outputs": [],
   "source": [
    "# Inpatient duplicate percentage\n",
    "inp_dup_perc = claims_withcode[claims_withcode[\n",
    "    'IsOutpatient'] == 0].groupby('Provider')[['Duplicate_Bool']].mean().reset_index()\n",
    "inp_dup_perc.columns.values[1] = \"IP_Dup_Perc\"\n",
    "providers = providers.merge(inp_dup_perc, how = 'left', on = 'Provider')\n",
    "# 0's are when there is no duplicate, and NaN's are when there is no inpatients "
   ]
  },
  {
   "cell_type": "code",
   "execution_count": null,
   "metadata": {},
   "outputs": [],
   "source": [
    "# Outpatient duplicate percentage\n",
    "outp_dup_perc = claims_withcode[claims_withcode[\n",
    "    'IsOutpatient'] == 1].groupby('Provider')[['Duplicate_Bool']].mean().reset_index()\n",
    "outp_dup_perc.columns.values[1] = \"OP_Dup_Perc\"\n",
    "providers = providers.merge(outp_dup_perc, how = 'left', on = 'Provider')\n",
    "# 0's are when there is no duplicate, and NaN's are when there is no outpatients "
   ]
  },
  {
   "cell_type": "code",
   "execution_count": null,
   "metadata": {},
   "outputs": [],
   "source": [
    "# Percentage of outpatient with no diagnosis code\n",
    "no_diag_code = outclaims.groupby('Provider')[['No_Diag_Code']].mean().reset_index()\n",
    "no_diag_code.columns.values[1] = \"OP_No_Diag_Perc\"\n",
    "providers = providers.merge(no_diag_code, how = 'left', on = 'Provider')"
   ]
  },
  {
   "cell_type": "code",
   "execution_count": null,
   "metadata": {},
   "outputs": [],
   "source": [
    "# Percentage of inpatient with no procedure code\n",
    "no_proc_code = inclaims.groupby('Provider')[['No_Proc_Code']].mean().reset_index()\n",
    "no_proc_code.columns.values[1] = \"IP_No_Proc_Perc\"\n",
    "providers = providers.merge(no_proc_code, how = 'left', on = 'Provider')"
   ]
  },
  {
   "cell_type": "code",
   "execution_count": null,
   "metadata": {},
   "outputs": [],
   "source": [
    "# Percentage of claims from top 5 fraudulent states per provider\n",
    "claims.PotentialFraud = claims.PotentialFraud.astype(int)\n",
    "top_five = claims.groupby('State')[['PotentialFraud']].mean().sort_values(\n",
    "                                    by = 'PotentialFraud', ascending = False).index[:5]\n",
    "claims['In_Top5_State'] = claims['State'].isin(top_five)\n",
    "\n",
    "top_five_states = claims.groupby('Provider')[[\n",
    "    'In_Top5_State']].mean().add_suffix('_Perc').reset_index()\n",
    "providers = providers.merge(top_five_states, how = 'left', on = 'Provider')"
   ]
  },
  {
   "cell_type": "markdown",
   "metadata": {},
   "source": [
    "# Merge with target variable"
   ]
  },
  {
   "cell_type": "code",
   "execution_count": null,
   "metadata": {},
   "outputs": [],
   "source": [
    "# target = pd.read_csv('./data/Train-1542865627584.csv')\n",
    "# target['PotentialFraud'] = target['PotentialFraud'].apply(lambda x: np.where(x == \"Yes\",1,0))\n",
    "# providers_final = providers.merge(target, how = 'left', on = 'Provider')"
   ]
  },
  {
   "cell_type": "code",
   "execution_count": null,
   "metadata": {},
   "outputs": [],
   "source": [
    "# providers_final.to_csv('providers_final.csv')"
   ]
  },
  {
   "cell_type": "markdown",
   "metadata": {},
   "source": [
    "# Second Iter of Feature Engineering Based on Initial Modeling Results"
   ]
  },
  {
   "cell_type": "markdown",
   "metadata": {},
   "source": [
    "* Percentage of duplicates from different states for inpatients\n",
    "* Percentage of duplicates from different states for outpatients\n",
    "* Percentage of duplicates from different providers for inpatients\n",
    "* Percentage of duplicates from different providers for outpatients\n",
    "* Mean duplicates per patient for inpatients\n",
    "* Mean duplicates per physician for outpatients\n",
    "* Mean duplicates per patient for inpatients\n",
    "* Mean duplicates per physician for outpatients\n",
    "\n",
    "* Mean Cost per unique patient\n",
    "* Percentage of claims that have the same attending and operating physician for outpatient\n"
   ]
  },
  {
   "cell_type": "code",
   "execution_count": null,
   "metadata": {},
   "outputs": [],
   "source": [
    "# Creating boolean columns for Percentage of duplicates from different states\n",
    "dup_same_state = claims_withcode[['State'] + diag_code + proc_code].values.tolist()\n",
    "dup_same_state = list(map(lambda x: [code for code in x if str(code) != \"nan\"], dup_same_state))\n",
    "claims_withcode['dup_same_state'] = dup_same_state\n",
    "claims_withcode['duplicate_bool_st'] = hashable_df(claims_withcode).duplicated(subset = ['dup_same_state'], keep = False)\n",
    "from_same_state = claims_withcode[claims_withcode['duplicate_bool_st'] == 1].index\n",
    "claims_withcode = claims_withcode.loc[~claims_withcode.index.isin(from_same_state)]\n",
    "dup_diff_state = claims_withcode[diag_code + proc_code].values.tolist()\n",
    "dup_diff_state = list(map(lambda x: [code for code in x if str(code) != \"nan\"], dup_diff_state))\n",
    "claims_withcode['dup_diff_state'] = dup_diff_state\n",
    "claims_withcode['dup_diff_state_bool'] = \\\n",
    "                hashable_df(claims_withcode).duplicated(subset = ['dup_diff_state'], keep = False)"
   ]
  },
  {
   "cell_type": "code",
   "execution_count": null,
   "metadata": {},
   "outputs": [],
   "source": [
    "# Percentage of duplicates from different states for inpatients\n",
    "inp_dup_diff_state = claims_withcode[claims_withcode[\n",
    "    'IsOutpatient'] == 0].groupby('Provider')[['dup_diff_state_bool']].mean().reset_index()\n",
    "inp_dup_diff_state.columns.values[1] = \"IP_Perc_Dup_Diff_State\"\n",
    "providers = providers.merge(inp_dup_diff_state, how = 'left', on = 'Provider')\n",
    "# 0's are when there is no duplicate, and NaN's are when there is no inpatients "
   ]
  },
  {
   "cell_type": "code",
   "execution_count": null,
   "metadata": {},
   "outputs": [],
   "source": [
    "# Percentage of duplicates from different states for outpatients\n",
    "outp_dup_diff_state = claims_withcode[claims_withcode[\n",
    "    'IsOutpatient'] == 1].groupby('Provider')[['dup_diff_state_bool']].mean().reset_index()\n",
    "outp_dup_diff_state.columns.values[1] = \"OP_Perc_Dup_Diff_State\"\n",
    "providers = providers.merge(outp_dup_diff_state, how = 'left', on = 'Provider')\n",
    "# 0's are when there is no duplicate, and NaN's are when there is no outpatients "
   ]
  },
  {
   "cell_type": "code",
   "execution_count": null,
   "metadata": {},
   "outputs": [],
   "source": [
    "# Creating boolean columns for Percentage of duplicates from different provider\n",
    "dup_same_provider = claims_withcode[['Provider'] + diag_code + proc_code].values.tolist()\n",
    "dup_same_provider = list(map(lambda x: [code for code in x if str(code) != \"nan\"], dup_same_provider))\n",
    "claims_withcode['dup_same_provider'] = dup_same_provider\n",
    "claims_withcode['duplicate_bool_pr'] = hashable_df(claims_withcode).duplicated(subset = ['dup_same_provider'], keep = False)\n",
    "from_same_provider = claims_withcode[claims_withcode['duplicate_bool_pr'] == 1].index\n",
    "claims_withcode = claims_withcode.loc[~claims_withcode.index.isin(from_same_provider)]\n",
    "dup_diff_provider = claims_withcode[diag_code + proc_code].values.tolist()\n",
    "dup_diff_provider = list(map(lambda x: [code for code in x if str(code) != \"nan\"], dup_diff_provider))\n",
    "claims_withcode['dup_diff_provider'] = dup_diff_provider\n",
    "claims_withcode['dup_diff_provider_bool'] = \\\n",
    "                hashable_df(claims_withcode).duplicated(subset = ['dup_diff_provider'], keep = False)"
   ]
  },
  {
   "cell_type": "code",
   "execution_count": null,
   "metadata": {},
   "outputs": [],
   "source": [
    "# Percentage of duplicates from different providers for inpatients\n",
    "inp_dup_diff_provider = claims_withcode[claims_withcode[\n",
    "    'IsOutpatient'] == 0].groupby('Provider')[['dup_diff_provider_bool']].mean().reset_index()\n",
    "inp_dup_diff_provider.columns.values[1] = \"IP_Perc_Dup_Diff_Provider\"\n",
    "providers = providers.merge(inp_dup_diff_provider, how = 'left', on = 'Provider')\n",
    "# 0's are when there is no duplicate, and NaN's are when there is no inpatients "
   ]
  },
  {
   "cell_type": "code",
   "execution_count": null,
   "metadata": {},
   "outputs": [],
   "source": [
    "# Percentage of duplicates from different providers for outpatients\n",
    "outp_dup_diff_provider = claims_withcode[claims_withcode[\n",
    "    'IsOutpatient'] == 1].groupby('Provider')[['dup_diff_provider_bool']].mean().reset_index()\n",
    "outp_dup_diff_provider.columns.values[1] = \"OP_Perc_Dup_Diff_Provider\"\n",
    "providers = providers.merge(outp_dup_diff_provider, how = 'left', on = 'Provider')\n",
    "# 0's are when there is no duplicate, and NaN's are when there is no outpatients "
   ]
  },
  {
   "cell_type": "code",
   "execution_count": null,
   "metadata": {},
   "outputs": [],
   "source": [
    "# Mean count of duplicates per inpatient\n",
    "ip_dup_count = claims_withcode[(claims_withcode['IsOutpatient'] == 0) & (claims_withcode['Duplicate_Bool'] == 1)\n",
    "                              ].groupby(['Provider','BeneID'])[['ClaimID']].count().reset_index()\n",
    "ip_dup_count = ip_dup_count.groupby('Provider')[['ClaimID']].mean()\n",
    "ip_dup_count.columns.values[0] = \"IP_Mean_Duplicate_per_Patient\"\n",
    "ip_dup_count = ip_dup_count.reset_index()\n",
    "providers = providers.merge(ip_dup_count, how = 'left', on = 'Provider')"
   ]
  },
  {
   "cell_type": "code",
   "execution_count": null,
   "metadata": {},
   "outputs": [],
   "source": [
    "# Mean count of duplicates per outpatient\n",
    "op_dup_count = claims_withcode[(claims_withcode['IsOutpatient'] == 1) & (claims_withcode['Duplicate_Bool'] == 1)\n",
    "                              ].groupby(['Provider','BeneID'])[['ClaimID']].count().reset_index()\n",
    "op_dup_count = op_dup_count.groupby('Provider')[['ClaimID']].mean()\n",
    "op_dup_count.columns.values[0] = \"OP_Mean_Duplicate_per_Patient\"\n",
    "op_dup_count = op_dup_count.reset_index()\n",
    "providers = providers.merge(op_dup_count, how = 'left', on = 'Provider')"
   ]
  },
  {
   "cell_type": "code",
   "execution_count": null,
   "metadata": {},
   "outputs": [],
   "source": [
    "# Mean duplicates per physician for inpatient\n",
    "ip_dup_count_phy = claims_withcode[(claims_withcode['IsOutpatient'] == 0) & (claims_withcode['Duplicate_Bool'] == 1)\n",
    "                              ].groupby(['Provider','AttendingPhysician'])[['ClaimID']].count().reset_index()\n",
    "ip_dup_count_phy = ip_dup_count_phy.groupby('Provider')[['ClaimID']].mean()\n",
    "ip_dup_count_phy.columns.values[0] = \"IP_Mean_Duplicate_per_AttPhy\"\n",
    "ip_dup_count_phy = ip_dup_count_phy.reset_index()\n",
    "providers = providers.merge(ip_dup_count_phy, how = 'left', on = 'Provider')"
   ]
  },
  {
   "cell_type": "code",
   "execution_count": null,
   "metadata": {},
   "outputs": [],
   "source": [
    "# Mean duplicates per physician for outpatient\n",
    "op_dup_count_phy = claims_withcode[(claims_withcode['IsOutpatient'] == 1) & (claims_withcode['Duplicate_Bool'] == 1)\n",
    "                              ].groupby(['Provider','AttendingPhysician'])[['ClaimID']].count().reset_index()\n",
    "op_dup_count_phy = op_dup_count_phy.groupby('Provider')[['ClaimID']].mean()\n",
    "op_dup_count_phy.columns.values[0] = \"OP_Mean_Duplicate_per_AttPhy\"\n",
    "op_dup_count_phy = op_dup_count_phy.reset_index()\n",
    "providers = providers.merge(op_dup_count_phy, how = 'left', on = 'Provider')"
   ]
  },
  {
   "cell_type": "code",
   "execution_count": null,
   "metadata": {},
   "outputs": [],
   "source": [
    "# providers = providers.fillna(0)"
   ]
  },
  {
   "cell_type": "code",
   "execution_count": null,
   "metadata": {},
   "outputs": [],
   "source": [
    "# providers.to_csv('new_features_ryan.csv')"
   ]
  },
  {
   "cell_type": "code",
   "execution_count": null,
   "metadata": {},
   "outputs": [],
   "source": []
  }
 ],
 "metadata": {
  "kernelspec": {
   "display_name": "Python 3",
   "language": "python",
   "name": "python3"
  },
  "language_info": {
   "codemirror_mode": {
    "name": "ipython",
    "version": 3
   },
   "file_extension": ".py",
   "mimetype": "text/x-python",
   "name": "python",
   "nbconvert_exporter": "python",
   "pygments_lexer": "ipython3",
   "version": "3.7.6"
  },
  "toc": {
   "base_numbering": 1,
   "nav_menu": {},
   "number_sections": true,
   "sideBar": true,
   "skip_h1_title": false,
   "title_cell": "Table of Contents",
   "title_sidebar": "Contents",
   "toc_cell": true,
   "toc_position": {},
   "toc_section_display": true,
   "toc_window_display": false
  },
  "varInspector": {
   "cols": {
    "lenName": 16,
    "lenType": 16,
    "lenVar": 40
   },
   "kernels_config": {
    "python": {
     "delete_cmd_postfix": "",
     "delete_cmd_prefix": "del ",
     "library": "var_list.py",
     "varRefreshCmd": "print(var_dic_list())"
    },
    "r": {
     "delete_cmd_postfix": ") ",
     "delete_cmd_prefix": "rm(",
     "library": "var_list.r",
     "varRefreshCmd": "cat(var_dic_list()) "
    }
   },
   "types_to_exclude": [
    "module",
    "function",
    "builtin_function_or_method",
    "instance",
    "_Feature"
   ],
   "window_display": false
  }
 },
 "nbformat": 4,
 "nbformat_minor": 4
}
