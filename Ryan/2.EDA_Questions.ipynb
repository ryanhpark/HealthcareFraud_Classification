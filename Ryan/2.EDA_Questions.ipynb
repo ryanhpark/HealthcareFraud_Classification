{
 "cells": [
  {
   "cell_type": "code",
   "execution_count": 1,
   "metadata": {},
   "outputs": [],
   "source": [
    "import pandas as pd\n",
    "import numpy as np\n",
    "import matplotlib.pyplot as plt\n",
    "import seaborn as sns\n",
    "import joblib\n",
    "%matplotlib inline\n",
    "plt.rcParams['figure.figsize'] = (9, 6)\n",
    "sns.set(style = \"whitegrid\")\n",
    "sns.set_palette(\"icefire\")\n",
    "pd.set_option('display.max_columns', 500)"
   ]
  },
  {
   "cell_type": "markdown",
   "metadata": {},
   "source": [
    "# Load Data"
   ]
  },
  {
   "cell_type": "code",
   "execution_count": 2,
   "metadata": {},
   "outputs": [],
   "source": [
    "patient = joblib.load(\"patient.pkl\")"
   ]
  },
  {
   "cell_type": "code",
   "execution_count": 3,
   "metadata": {},
   "outputs": [
    {
     "name": "stdout",
     "output_type": "stream",
     "text": [
      "(558211, 56)\n"
     ]
    },
    {
     "data": {
      "text/html": [
       "<div>\n",
       "<style scoped>\n",
       "    .dataframe tbody tr th:only-of-type {\n",
       "        vertical-align: middle;\n",
       "    }\n",
       "\n",
       "    .dataframe tbody tr th {\n",
       "        vertical-align: top;\n",
       "    }\n",
       "\n",
       "    .dataframe thead th {\n",
       "        text-align: right;\n",
       "    }\n",
       "</style>\n",
       "<table border=\"1\" class=\"dataframe\">\n",
       "  <thead>\n",
       "    <tr style=\"text-align: right;\">\n",
       "      <th></th>\n",
       "      <th>BeneID</th>\n",
       "      <th>ClaimID</th>\n",
       "      <th>ClaimStartDt</th>\n",
       "      <th>ClaimEndDt</th>\n",
       "      <th>Provider</th>\n",
       "      <th>InscClaimAmtReimbursed</th>\n",
       "      <th>AttendingPhysician</th>\n",
       "      <th>OperatingPhysician</th>\n",
       "      <th>OtherPhysician</th>\n",
       "      <th>AdmissionDt</th>\n",
       "      <th>ClmAdmitDiagnosisCode</th>\n",
       "      <th>DeductibleAmtPaid</th>\n",
       "      <th>DischargeDt</th>\n",
       "      <th>DiagnosisGroupCode</th>\n",
       "      <th>ClmDiagnosisCode_1</th>\n",
       "      <th>ClmDiagnosisCode_2</th>\n",
       "      <th>ClmDiagnosisCode_3</th>\n",
       "      <th>ClmDiagnosisCode_4</th>\n",
       "      <th>ClmDiagnosisCode_5</th>\n",
       "      <th>ClmDiagnosisCode_6</th>\n",
       "      <th>ClmDiagnosisCode_7</th>\n",
       "      <th>ClmDiagnosisCode_8</th>\n",
       "      <th>ClmDiagnosisCode_9</th>\n",
       "      <th>ClmDiagnosisCode_10</th>\n",
       "      <th>ClmProcedureCode_1</th>\n",
       "      <th>ClmProcedureCode_2</th>\n",
       "      <th>ClmProcedureCode_3</th>\n",
       "      <th>ClmProcedureCode_4</th>\n",
       "      <th>ClmProcedureCode_5</th>\n",
       "      <th>ClmProcedureCode_6</th>\n",
       "      <th>IsOutpatient</th>\n",
       "      <th>DOB</th>\n",
       "      <th>DOD</th>\n",
       "      <th>Gender</th>\n",
       "      <th>Race</th>\n",
       "      <th>RenalDiseaseIndicator</th>\n",
       "      <th>State</th>\n",
       "      <th>County</th>\n",
       "      <th>NoOfMonths_PartACov</th>\n",
       "      <th>NoOfMonths_PartBCov</th>\n",
       "      <th>ChronicCond_Alzheimer</th>\n",
       "      <th>ChronicCond_Heartfailure</th>\n",
       "      <th>ChronicCond_KidneyDisease</th>\n",
       "      <th>ChronicCond_Cancer</th>\n",
       "      <th>ChronicCond_ObstrPulmonary</th>\n",
       "      <th>ChronicCond_Depression</th>\n",
       "      <th>ChronicCond_Diabetes</th>\n",
       "      <th>ChronicCond_IschemicHeart</th>\n",
       "      <th>ChronicCond_Osteoporasis</th>\n",
       "      <th>ChronicCond_rheumatoidarthritis</th>\n",
       "      <th>ChronicCond_stroke</th>\n",
       "      <th>IPAnnualReimbursementAmt</th>\n",
       "      <th>IPAnnualDeductibleAmt</th>\n",
       "      <th>OPAnnualReimbursementAmt</th>\n",
       "      <th>OPAnnualDeductibleAmt</th>\n",
       "      <th>PotentialFraud</th>\n",
       "    </tr>\n",
       "  </thead>\n",
       "  <tbody>\n",
       "    <tr>\n",
       "      <th>0</th>\n",
       "      <td>BENE11001</td>\n",
       "      <td>CLM46614</td>\n",
       "      <td>2009-04-12</td>\n",
       "      <td>2009-04-18</td>\n",
       "      <td>PRV55912</td>\n",
       "      <td>26000</td>\n",
       "      <td>PHY390922</td>\n",
       "      <td>NaN</td>\n",
       "      <td>NaN</td>\n",
       "      <td>2009-04-12</td>\n",
       "      <td>7866</td>\n",
       "      <td>1068.0</td>\n",
       "      <td>2009-04-18</td>\n",
       "      <td>201</td>\n",
       "      <td>1970</td>\n",
       "      <td>4019</td>\n",
       "      <td>5853</td>\n",
       "      <td>7843</td>\n",
       "      <td>2768</td>\n",
       "      <td>71590</td>\n",
       "      <td>2724</td>\n",
       "      <td>19889</td>\n",
       "      <td>5849</td>\n",
       "      <td>NaN</td>\n",
       "      <td>NaN</td>\n",
       "      <td>NaN</td>\n",
       "      <td>NaN</td>\n",
       "      <td>NaN</td>\n",
       "      <td>NaN</td>\n",
       "      <td>NaN</td>\n",
       "      <td>0</td>\n",
       "      <td>1943-01-01</td>\n",
       "      <td>NaT</td>\n",
       "      <td>1</td>\n",
       "      <td>1</td>\n",
       "      <td>0</td>\n",
       "      <td>39</td>\n",
       "      <td>230</td>\n",
       "      <td>12</td>\n",
       "      <td>12</td>\n",
       "      <td>1</td>\n",
       "      <td>0</td>\n",
       "      <td>1</td>\n",
       "      <td>0</td>\n",
       "      <td>0</td>\n",
       "      <td>1</td>\n",
       "      <td>1</td>\n",
       "      <td>1</td>\n",
       "      <td>0</td>\n",
       "      <td>1</td>\n",
       "      <td>1</td>\n",
       "      <td>36000</td>\n",
       "      <td>3204</td>\n",
       "      <td>60</td>\n",
       "      <td>70</td>\n",
       "      <td>Yes</td>\n",
       "    </tr>\n",
       "    <tr>\n",
       "      <th>1</th>\n",
       "      <td>BENE11001</td>\n",
       "      <td>CLM66048</td>\n",
       "      <td>2009-08-31</td>\n",
       "      <td>2009-09-02</td>\n",
       "      <td>PRV55907</td>\n",
       "      <td>5000</td>\n",
       "      <td>PHY318495</td>\n",
       "      <td>PHY318495</td>\n",
       "      <td>NaN</td>\n",
       "      <td>2009-08-31</td>\n",
       "      <td>6186</td>\n",
       "      <td>1068.0</td>\n",
       "      <td>2009-09-02</td>\n",
       "      <td>750</td>\n",
       "      <td>6186</td>\n",
       "      <td>2948</td>\n",
       "      <td>56400</td>\n",
       "      <td>NaN</td>\n",
       "      <td>NaN</td>\n",
       "      <td>NaN</td>\n",
       "      <td>NaN</td>\n",
       "      <td>NaN</td>\n",
       "      <td>NaN</td>\n",
       "      <td>NaN</td>\n",
       "      <td>7092</td>\n",
       "      <td>NaN</td>\n",
       "      <td>NaN</td>\n",
       "      <td>NaN</td>\n",
       "      <td>NaN</td>\n",
       "      <td>NaN</td>\n",
       "      <td>0</td>\n",
       "      <td>1943-01-01</td>\n",
       "      <td>NaT</td>\n",
       "      <td>1</td>\n",
       "      <td>1</td>\n",
       "      <td>0</td>\n",
       "      <td>39</td>\n",
       "      <td>230</td>\n",
       "      <td>12</td>\n",
       "      <td>12</td>\n",
       "      <td>1</td>\n",
       "      <td>0</td>\n",
       "      <td>1</td>\n",
       "      <td>0</td>\n",
       "      <td>0</td>\n",
       "      <td>1</td>\n",
       "      <td>1</td>\n",
       "      <td>1</td>\n",
       "      <td>0</td>\n",
       "      <td>1</td>\n",
       "      <td>1</td>\n",
       "      <td>36000</td>\n",
       "      <td>3204</td>\n",
       "      <td>60</td>\n",
       "      <td>70</td>\n",
       "      <td>No</td>\n",
       "    </tr>\n",
       "    <tr>\n",
       "      <th>2</th>\n",
       "      <td>BENE11001</td>\n",
       "      <td>CLM68358</td>\n",
       "      <td>2009-09-17</td>\n",
       "      <td>2009-09-20</td>\n",
       "      <td>PRV56046</td>\n",
       "      <td>5000</td>\n",
       "      <td>PHY372395</td>\n",
       "      <td>NaN</td>\n",
       "      <td>PHY324689</td>\n",
       "      <td>2009-09-17</td>\n",
       "      <td>29590</td>\n",
       "      <td>1068.0</td>\n",
       "      <td>2009-09-20</td>\n",
       "      <td>883</td>\n",
       "      <td>29623</td>\n",
       "      <td>30390</td>\n",
       "      <td>71690</td>\n",
       "      <td>34590</td>\n",
       "      <td>V1581</td>\n",
       "      <td>32723</td>\n",
       "      <td>NaN</td>\n",
       "      <td>NaN</td>\n",
       "      <td>NaN</td>\n",
       "      <td>NaN</td>\n",
       "      <td>NaN</td>\n",
       "      <td>NaN</td>\n",
       "      <td>NaN</td>\n",
       "      <td>NaN</td>\n",
       "      <td>NaN</td>\n",
       "      <td>NaN</td>\n",
       "      <td>0</td>\n",
       "      <td>1943-01-01</td>\n",
       "      <td>NaT</td>\n",
       "      <td>1</td>\n",
       "      <td>1</td>\n",
       "      <td>0</td>\n",
       "      <td>39</td>\n",
       "      <td>230</td>\n",
       "      <td>12</td>\n",
       "      <td>12</td>\n",
       "      <td>1</td>\n",
       "      <td>0</td>\n",
       "      <td>1</td>\n",
       "      <td>0</td>\n",
       "      <td>0</td>\n",
       "      <td>1</td>\n",
       "      <td>1</td>\n",
       "      <td>1</td>\n",
       "      <td>0</td>\n",
       "      <td>1</td>\n",
       "      <td>1</td>\n",
       "      <td>36000</td>\n",
       "      <td>3204</td>\n",
       "      <td>60</td>\n",
       "      <td>70</td>\n",
       "      <td>No</td>\n",
       "    </tr>\n",
       "    <tr>\n",
       "      <th>3</th>\n",
       "      <td>BENE11011</td>\n",
       "      <td>CLM38412</td>\n",
       "      <td>2009-02-14</td>\n",
       "      <td>2009-02-22</td>\n",
       "      <td>PRV52405</td>\n",
       "      <td>5000</td>\n",
       "      <td>PHY369659</td>\n",
       "      <td>PHY392961</td>\n",
       "      <td>PHY349768</td>\n",
       "      <td>2009-02-14</td>\n",
       "      <td>431</td>\n",
       "      <td>1068.0</td>\n",
       "      <td>2009-02-22</td>\n",
       "      <td>067</td>\n",
       "      <td>43491</td>\n",
       "      <td>2762</td>\n",
       "      <td>7843</td>\n",
       "      <td>32723</td>\n",
       "      <td>V1041</td>\n",
       "      <td>4254</td>\n",
       "      <td>25062</td>\n",
       "      <td>40390</td>\n",
       "      <td>4019</td>\n",
       "      <td>NaN</td>\n",
       "      <td>331</td>\n",
       "      <td>NaN</td>\n",
       "      <td>NaN</td>\n",
       "      <td>NaN</td>\n",
       "      <td>NaN</td>\n",
       "      <td>NaN</td>\n",
       "      <td>0</td>\n",
       "      <td>1914-03-01</td>\n",
       "      <td>NaT</td>\n",
       "      <td>0</td>\n",
       "      <td>2</td>\n",
       "      <td>0</td>\n",
       "      <td>1</td>\n",
       "      <td>360</td>\n",
       "      <td>12</td>\n",
       "      <td>12</td>\n",
       "      <td>0</td>\n",
       "      <td>1</td>\n",
       "      <td>1</td>\n",
       "      <td>0</td>\n",
       "      <td>0</td>\n",
       "      <td>1</td>\n",
       "      <td>1</td>\n",
       "      <td>0</td>\n",
       "      <td>0</td>\n",
       "      <td>1</td>\n",
       "      <td>1</td>\n",
       "      <td>5000</td>\n",
       "      <td>1068</td>\n",
       "      <td>250</td>\n",
       "      <td>320</td>\n",
       "      <td>No</td>\n",
       "    </tr>\n",
       "    <tr>\n",
       "      <th>4</th>\n",
       "      <td>BENE11014</td>\n",
       "      <td>CLM63689</td>\n",
       "      <td>2009-08-13</td>\n",
       "      <td>2009-08-30</td>\n",
       "      <td>PRV56614</td>\n",
       "      <td>10000</td>\n",
       "      <td>PHY379376</td>\n",
       "      <td>PHY398258</td>\n",
       "      <td>NaN</td>\n",
       "      <td>2009-08-13</td>\n",
       "      <td>78321</td>\n",
       "      <td>1068.0</td>\n",
       "      <td>2009-08-30</td>\n",
       "      <td>975</td>\n",
       "      <td>042</td>\n",
       "      <td>3051</td>\n",
       "      <td>34400</td>\n",
       "      <td>5856</td>\n",
       "      <td>42732</td>\n",
       "      <td>486</td>\n",
       "      <td>5119</td>\n",
       "      <td>29620</td>\n",
       "      <td>20300</td>\n",
       "      <td>NaN</td>\n",
       "      <td>3893</td>\n",
       "      <td>NaN</td>\n",
       "      <td>NaN</td>\n",
       "      <td>NaN</td>\n",
       "      <td>NaN</td>\n",
       "      <td>NaN</td>\n",
       "      <td>0</td>\n",
       "      <td>1938-04-01</td>\n",
       "      <td>NaT</td>\n",
       "      <td>0</td>\n",
       "      <td>1</td>\n",
       "      <td>1</td>\n",
       "      <td>45</td>\n",
       "      <td>780</td>\n",
       "      <td>12</td>\n",
       "      <td>12</td>\n",
       "      <td>0</td>\n",
       "      <td>1</td>\n",
       "      <td>1</td>\n",
       "      <td>0</td>\n",
       "      <td>1</td>\n",
       "      <td>1</td>\n",
       "      <td>0</td>\n",
       "      <td>1</td>\n",
       "      <td>0</td>\n",
       "      <td>0</td>\n",
       "      <td>0</td>\n",
       "      <td>21260</td>\n",
       "      <td>2136</td>\n",
       "      <td>120</td>\n",
       "      <td>100</td>\n",
       "      <td>No</td>\n",
       "    </tr>\n",
       "  </tbody>\n",
       "</table>\n",
       "</div>"
      ],
      "text/plain": [
       "      BeneID   ClaimID ClaimStartDt ClaimEndDt  Provider  \\\n",
       "0  BENE11001  CLM46614   2009-04-12 2009-04-18  PRV55912   \n",
       "1  BENE11001  CLM66048   2009-08-31 2009-09-02  PRV55907   \n",
       "2  BENE11001  CLM68358   2009-09-17 2009-09-20  PRV56046   \n",
       "3  BENE11011  CLM38412   2009-02-14 2009-02-22  PRV52405   \n",
       "4  BENE11014  CLM63689   2009-08-13 2009-08-30  PRV56614   \n",
       "\n",
       "   InscClaimAmtReimbursed AttendingPhysician OperatingPhysician  \\\n",
       "0                   26000          PHY390922                NaN   \n",
       "1                    5000          PHY318495          PHY318495   \n",
       "2                    5000          PHY372395                NaN   \n",
       "3                    5000          PHY369659          PHY392961   \n",
       "4                   10000          PHY379376          PHY398258   \n",
       "\n",
       "  OtherPhysician AdmissionDt ClmAdmitDiagnosisCode  DeductibleAmtPaid  \\\n",
       "0            NaN  2009-04-12                  7866             1068.0   \n",
       "1            NaN  2009-08-31                  6186             1068.0   \n",
       "2      PHY324689  2009-09-17                 29590             1068.0   \n",
       "3      PHY349768  2009-02-14                   431             1068.0   \n",
       "4            NaN  2009-08-13                 78321             1068.0   \n",
       "\n",
       "  DischargeDt DiagnosisGroupCode ClmDiagnosisCode_1 ClmDiagnosisCode_2  \\\n",
       "0  2009-04-18                201               1970               4019   \n",
       "1  2009-09-02                750               6186               2948   \n",
       "2  2009-09-20                883              29623              30390   \n",
       "3  2009-02-22                067              43491               2762   \n",
       "4  2009-08-30                975                042               3051   \n",
       "\n",
       "  ClmDiagnosisCode_3 ClmDiagnosisCode_4 ClmDiagnosisCode_5 ClmDiagnosisCode_6  \\\n",
       "0               5853               7843               2768              71590   \n",
       "1              56400                NaN                NaN                NaN   \n",
       "2              71690              34590              V1581              32723   \n",
       "3               7843              32723              V1041               4254   \n",
       "4              34400               5856              42732                486   \n",
       "\n",
       "  ClmDiagnosisCode_7 ClmDiagnosisCode_8 ClmDiagnosisCode_9  \\\n",
       "0               2724              19889               5849   \n",
       "1                NaN                NaN                NaN   \n",
       "2                NaN                NaN                NaN   \n",
       "3              25062              40390               4019   \n",
       "4               5119              29620              20300   \n",
       "\n",
       "  ClmDiagnosisCode_10 ClmProcedureCode_1 ClmProcedureCode_2  \\\n",
       "0                 NaN                NaN                NaN   \n",
       "1                 NaN               7092                NaN   \n",
       "2                 NaN                NaN                NaN   \n",
       "3                 NaN                331                NaN   \n",
       "4                 NaN               3893                NaN   \n",
       "\n",
       "  ClmProcedureCode_3 ClmProcedureCode_4 ClmProcedureCode_5 ClmProcedureCode_6  \\\n",
       "0                NaN                NaN                NaN                NaN   \n",
       "1                NaN                NaN                NaN                NaN   \n",
       "2                NaN                NaN                NaN                NaN   \n",
       "3                NaN                NaN                NaN                NaN   \n",
       "4                NaN                NaN                NaN                NaN   \n",
       "\n",
       "   IsOutpatient        DOB DOD  Gender Race  RenalDiseaseIndicator State  \\\n",
       "0             0 1943-01-01 NaT       1    1                      0    39   \n",
       "1             0 1943-01-01 NaT       1    1                      0    39   \n",
       "2             0 1943-01-01 NaT       1    1                      0    39   \n",
       "3             0 1914-03-01 NaT       0    2                      0     1   \n",
       "4             0 1938-04-01 NaT       0    1                      1    45   \n",
       "\n",
       "  County  NoOfMonths_PartACov  NoOfMonths_PartBCov  ChronicCond_Alzheimer  \\\n",
       "0    230                   12                   12                      1   \n",
       "1    230                   12                   12                      1   \n",
       "2    230                   12                   12                      1   \n",
       "3    360                   12                   12                      0   \n",
       "4    780                   12                   12                      0   \n",
       "\n",
       "   ChronicCond_Heartfailure  ChronicCond_KidneyDisease  ChronicCond_Cancer  \\\n",
       "0                         0                          1                   0   \n",
       "1                         0                          1                   0   \n",
       "2                         0                          1                   0   \n",
       "3                         1                          1                   0   \n",
       "4                         1                          1                   0   \n",
       "\n",
       "   ChronicCond_ObstrPulmonary  ChronicCond_Depression  ChronicCond_Diabetes  \\\n",
       "0                           0                       1                     1   \n",
       "1                           0                       1                     1   \n",
       "2                           0                       1                     1   \n",
       "3                           0                       1                     1   \n",
       "4                           1                       1                     0   \n",
       "\n",
       "   ChronicCond_IschemicHeart  ChronicCond_Osteoporasis  \\\n",
       "0                          1                         0   \n",
       "1                          1                         0   \n",
       "2                          1                         0   \n",
       "3                          0                         0   \n",
       "4                          1                         0   \n",
       "\n",
       "   ChronicCond_rheumatoidarthritis  ChronicCond_stroke  \\\n",
       "0                                1                   1   \n",
       "1                                1                   1   \n",
       "2                                1                   1   \n",
       "3                                1                   1   \n",
       "4                                0                   0   \n",
       "\n",
       "   IPAnnualReimbursementAmt  IPAnnualDeductibleAmt  OPAnnualReimbursementAmt  \\\n",
       "0                     36000                   3204                        60   \n",
       "1                     36000                   3204                        60   \n",
       "2                     36000                   3204                        60   \n",
       "3                      5000                   1068                       250   \n",
       "4                     21260                   2136                       120   \n",
       "\n",
       "   OPAnnualDeductibleAmt PotentialFraud  \n",
       "0                     70            Yes  \n",
       "1                     70             No  \n",
       "2                     70             No  \n",
       "3                    320             No  \n",
       "4                    100             No  "
      ]
     },
     "execution_count": 3,
     "metadata": {},
     "output_type": "execute_result"
    }
   ],
   "source": [
    "print(patient.shape)\n",
    "patient.head()"
   ]
  },
  {
   "cell_type": "markdown",
   "metadata": {},
   "source": [
    "## How many medical doctors are there in the train outpatient dataset?"
   ]
  },
  {
   "cell_type": "code",
   "execution_count": 6,
   "metadata": {},
   "outputs": [
    {
     "name": "stdout",
     "output_type": "stream",
     "text": [
      "Physician Count for Outpaitents\n",
      "Attending Physician: 516341\n",
      "Operating Physician: 90617\n",
      "Other Physician: 195046\n"
     ]
    }
   ],
   "source": [
    "print(\"Physician Count for Outpaitents\")\n",
    "print(\"Attending Physician:\", patient[patient[\"IsOutpatient\"] == 1][\"AttendingPhysician\"].count())\n",
    "print(\"Operating Physician:\", patient[patient[\"IsOutpatient\"] == 1][\"OperatingPhysician\"].count())\n",
    "print(\"Other Physician:\", patient[patient[\"IsOutpatient\"] == 1][\"OtherPhysician\"].count())"
   ]
  },
  {
   "cell_type": "markdown",
   "metadata": {},
   "source": [
    "## How many medical doctors are there in the train inpatient dataset? Do they match with those from the outpatient record?"
   ]
  },
  {
   "cell_type": "code",
   "execution_count": 7,
   "metadata": {},
   "outputs": [
    {
     "name": "stdout",
     "output_type": "stream",
     "text": [
      "Physician Count for Inpaitents\n",
      "Attending Physician: 40362\n",
      "Operating Physician: 23830\n",
      "Other Physician: 4690\n"
     ]
    }
   ],
   "source": [
    "print(\"Physician Count for Inpaitents\")\n",
    "print(\"Attending Physician:\", patient[patient[\"IsOutpatient\"] == 0][\"AttendingPhysician\"].count())\n",
    "print(\"Operating Physician:\", patient[patient[\"IsOutpatient\"] == 0][\"OperatingPhysician\"].count())\n",
    "print(\"Other Physician:\", patient[patient[\"IsOutpatient\"] == 0][\"OtherPhysician\"].count())"
   ]
  },
  {
   "cell_type": "markdown",
   "metadata": {},
   "source": [
    "## Do those inpatient patients show worse health conditions (in terms of chronic diseases) than typical outpatient patients?"
   ]
  },
  {
   "cell_type": "code",
   "execution_count": 8,
   "metadata": {},
   "outputs": [
    {
     "name": "stdout",
     "output_type": "stream",
     "text": [
      "Percentage of inpatients with certain chronic disease\n"
     ]
    },
    {
     "data": {
      "text/plain": [
       "ChronicCond_Alzheimer              0.504052\n",
       "ChronicCond_Heartfailure           0.721821\n",
       "ChronicCond_KidneyDisease          0.601769\n",
       "ChronicCond_Cancer                 0.190962\n",
       "ChronicCond_ObstrPulmonary         0.479147\n",
       "ChronicCond_Depression             0.502224\n",
       "ChronicCond_Diabetes               0.802046\n",
       "ChronicCond_IschemicHeart          0.856698\n",
       "ChronicCond_Osteoporasis           0.351559\n",
       "ChronicCond_rheumatoidarthritis    0.360355\n",
       "ChronicCond_stroke                 0.169837\n",
       "dtype: float64"
      ]
     },
     "execution_count": 8,
     "metadata": {},
     "output_type": "execute_result"
    }
   ],
   "source": [
    "chronic = patient.columns[patient.columns.str.contains(\"Chronic\")].tolist()\n",
    "print(\"Percentage of inpatients with certain chronic disease\")\n",
    "patient[patient[\"IsOutpatient\"] == 0][chronic].sum()/(patient[patient[\"IsOutpatient\"] == 0].shape[0])"
   ]
  },
  {
   "cell_type": "code",
   "execution_count": 9,
   "metadata": {},
   "outputs": [
    {
     "name": "stdout",
     "output_type": "stream",
     "text": [
      "Percentage of outpatients with certain chronic disease\n"
     ]
    },
    {
     "data": {
      "text/plain": [
       "ChronicCond_Alzheimer              0.393880\n",
       "ChronicCond_Heartfailure           0.580156\n",
       "ChronicCond_KidneyDisease          0.397167\n",
       "ChronicCond_Cancer                 0.148292\n",
       "ChronicCond_ObstrPulmonary         0.299936\n",
       "ChronicCond_Depression             0.429537\n",
       "ChronicCond_Diabetes               0.697839\n",
       "ChronicCond_IschemicHeart          0.751648\n",
       "ChronicCond_Osteoporasis           0.314996\n",
       "ChronicCond_rheumatoidarthritis    0.307326\n",
       "ChronicCond_stroke                 0.096395\n",
       "dtype: float64"
      ]
     },
     "execution_count": 9,
     "metadata": {},
     "output_type": "execute_result"
    }
   ],
   "source": [
    "print(\"Percentage of outpatients with certain chronic disease\")\n",
    "patient[patient[\"IsOutpatient\"] == 1][chronic].sum()/(patient[patient[\"IsOutpatient\"] == 1].shape[0])"
   ]
  },
  {
   "cell_type": "markdown",
   "metadata": {},
   "source": [
    "## or do those who have more visits to the providers have worse health conditions?"
   ]
  },
  {
   "cell_type": "code",
   "execution_count": 11,
   "metadata": {},
   "outputs": [],
   "source": [
    "xx = patient.groupby('BeneID').count().ClaimID.reset_index()\n",
    "bene_more = xx[xx.ClaimID > 1].BeneID.tolist()"
   ]
  },
  {
   "cell_type": "code",
   "execution_count": 12,
   "metadata": {},
   "outputs": [
    {
     "name": "stdout",
     "output_type": "stream",
     "text": [
      "Patients who visited the hospital more than once\n"
     ]
    },
    {
     "data": {
      "text/plain": [
       "ChronicCond_Alzheimer              0.412986\n",
       "ChronicCond_Heartfailure           0.606022\n",
       "ChronicCond_KidneyDisease          0.426724\n",
       "ChronicCond_Cancer                 0.156361\n",
       "ChronicCond_ObstrPulmonary         0.324514\n",
       "ChronicCond_Depression             0.447159\n",
       "ChronicCond_Diabetes               0.723132\n",
       "ChronicCond_IschemicHeart          0.774370\n",
       "ChronicCond_Osteoporasis           0.325096\n",
       "ChronicCond_rheumatoidarthritis    0.320488\n",
       "ChronicCond_stroke                 0.105220\n",
       "dtype: float64"
      ]
     },
     "execution_count": 12,
     "metadata": {},
     "output_type": "execute_result"
    }
   ],
   "source": [
    "print(\"Patients who visited the hospital more than once\")\n",
    "patient[patient[\"BeneID\"].isin(bene_more)][chronic].sum()/(patient[patient[\"BeneID\"].isin(bene_more)].shape[0])"
   ]
  },
  {
   "cell_type": "code",
   "execution_count": 13,
   "metadata": {},
   "outputs": [
    {
     "name": "stdout",
     "output_type": "stream",
     "text": [
      "Patients who visited the hospital only once\n"
     ]
    },
    {
     "data": {
      "text/plain": [
       "ChronicCond_Alzheimer              0.224189\n",
       "ChronicCond_Heartfailure           0.341212\n",
       "ChronicCond_KidneyDisease          0.176735\n",
       "ChronicCond_Cancer                 0.071881\n",
       "ChronicCond_ObstrPulmonary         0.127821\n",
       "ChronicCond_Depression             0.237422\n",
       "ChronicCond_Diabetes               0.421944\n",
       "ChronicCond_IschemicHeart          0.517886\n",
       "ChronicCond_Osteoporasis           0.198607\n",
       "ChronicCond_rheumatoidarthritis    0.162286\n",
       "ChronicCond_stroke                 0.045781\n",
       "dtype: float64"
      ]
     },
     "execution_count": 13,
     "metadata": {},
     "output_type": "execute_result"
    }
   ],
   "source": [
    "print(\"Patients who visited the hospital only once\")\n",
    "patient[~patient[\"BeneID\"].isin(bene_more)][chronic].sum()/(patient[~patient[\"BeneID\"].isin(bene_more)].shape[0])"
   ]
  },
  {
   "cell_type": "markdown",
   "metadata": {},
   "source": [
    "## How many distinct patients (BeneIDs) are there in the in/out-patient datasets?\n"
   ]
  },
  {
   "cell_type": "code",
   "execution_count": 14,
   "metadata": {},
   "outputs": [
    {
     "name": "stdout",
     "output_type": "stream",
     "text": [
      "Inpatient unique beneficiaries: 31289\n",
      "Outpatient unique beneficiaries: 133980\n"
     ]
    }
   ],
   "source": [
    "print(\"Inpatient unique beneficiaries:\", patient[patient[\"IsOutpatient\"] == 0][\"BeneID\"].nunique())\n",
    "print(\"Outpatient unique beneficiaries:\", patient[patient[\"IsOutpatient\"] == 1][\"BeneID\"].nunique())"
   ]
  },
  {
   "cell_type": "markdown",
   "metadata": {},
   "source": [
    "## Do doctors serve for different providers? Study the distribution of hospital counts/doctor? Is it possible to characterize those doctors who move around among different providers?\n"
   ]
  },
  {
   "cell_type": "code",
   "execution_count": 30,
   "metadata": {},
   "outputs": [
    {
     "data": {
      "text/plain": [
       "count    82063.000000\n",
       "mean         6.783849\n",
       "std         29.907658\n",
       "min          1.000000\n",
       "25%          1.000000\n",
       "50%          2.000000\n",
       "75%          4.000000\n",
       "max       2534.000000\n",
       "Name: Provider, dtype: float64"
      ]
     },
     "execution_count": 30,
     "metadata": {},
     "output_type": "execute_result"
    }
   ],
   "source": [
    "patient.groupby('AttendingPhysician')[\"Provider\"].count().describe()"
   ]
  },
  {
   "cell_type": "code",
   "execution_count": 31,
   "metadata": {},
   "outputs": [
    {
     "data": {
      "text/plain": [
       "count    35315.000000\n",
       "mean         3.240748\n",
       "std          8.812700\n",
       "min          1.000000\n",
       "25%          1.000000\n",
       "50%          1.000000\n",
       "75%          2.000000\n",
       "max        424.000000\n",
       "Name: Provider, dtype: float64"
      ]
     },
     "execution_count": 31,
     "metadata": {},
     "output_type": "execute_result"
    }
   ],
   "source": [
    "patient.groupby('OperatingPhysician')[\"Provider\"].count().describe()"
   ]
  },
  {
   "cell_type": "code",
   "execution_count": 32,
   "metadata": {},
   "outputs": [
    {
     "data": {
      "text/plain": [
       "count    46457.000000\n",
       "mean         4.299374\n",
       "std         19.218763\n",
       "min          1.000000\n",
       "25%          1.000000\n",
       "50%          1.000000\n",
       "75%          3.000000\n",
       "max       1247.000000\n",
       "Name: Provider, dtype: float64"
      ]
     },
     "execution_count": 32,
     "metadata": {},
     "output_type": "execute_result"
    }
   ],
   "source": [
    "patient.groupby('OtherPhysician')[\"Provider\"].count().describe()"
   ]
  },
  {
   "cell_type": "code",
   "execution_count": 39,
   "metadata": {},
   "outputs": [],
   "source": [
    "# Finding patterns of attending physicians who move around more than 4 hospitals\n",
    "xx = patient.groupby('AttendingPhysician')[\"Provider\"].count().reset_index()\n",
    "phy_more = xx[xx.Provider > 4].AttendingPhysician.tolist()"
   ]
  },
  {
   "cell_type": "code",
   "execution_count": 47,
   "metadata": {},
   "outputs": [],
   "source": [
    "patient.loc[patient[\"AttendingPhysician\"].isin(phy_more),\"Att_Phy_Mult\"] = 1\n",
    "patient.loc[~patient[\"AttendingPhysician\"].isin(phy_more),\"Att_Phy_Mult\"] = 0"
   ]
  },
  {
   "cell_type": "code",
   "execution_count": 54,
   "metadata": {},
   "outputs": [
    {
     "data": {
      "text/html": [
       "<div>\n",
       "<style scoped>\n",
       "    .dataframe tbody tr th:only-of-type {\n",
       "        vertical-align: middle;\n",
       "    }\n",
       "\n",
       "    .dataframe tbody tr th {\n",
       "        vertical-align: top;\n",
       "    }\n",
       "\n",
       "    .dataframe thead th {\n",
       "        text-align: right;\n",
       "    }\n",
       "</style>\n",
       "<table border=\"1\" class=\"dataframe\">\n",
       "  <thead>\n",
       "    <tr style=\"text-align: right;\">\n",
       "      <th></th>\n",
       "      <th>PotentialFraud</th>\n",
       "      <th>IsOutpatient</th>\n",
       "      <th>Provider</th>\n",
       "      <th>NumAttPhyMult</th>\n",
       "    </tr>\n",
       "  </thead>\n",
       "  <tbody>\n",
       "    <tr>\n",
       "      <th>0</th>\n",
       "      <td>No</td>\n",
       "      <td>0</td>\n",
       "      <td>PRV51001</td>\n",
       "      <td>0.0</td>\n",
       "    </tr>\n",
       "    <tr>\n",
       "      <th>1</th>\n",
       "      <td>No</td>\n",
       "      <td>0</td>\n",
       "      <td>PRV51007</td>\n",
       "      <td>0.0</td>\n",
       "    </tr>\n",
       "    <tr>\n",
       "      <th>2</th>\n",
       "      <td>No</td>\n",
       "      <td>0</td>\n",
       "      <td>PRV51008</td>\n",
       "      <td>0.0</td>\n",
       "    </tr>\n",
       "    <tr>\n",
       "      <th>3</th>\n",
       "      <td>No</td>\n",
       "      <td>0</td>\n",
       "      <td>PRV51011</td>\n",
       "      <td>0.0</td>\n",
       "    </tr>\n",
       "    <tr>\n",
       "      <th>4</th>\n",
       "      <td>No</td>\n",
       "      <td>0</td>\n",
       "      <td>PRV51023</td>\n",
       "      <td>6.0</td>\n",
       "    </tr>\n",
       "    <tr>\n",
       "      <th>...</th>\n",
       "      <td>...</td>\n",
       "      <td>...</td>\n",
       "      <td>...</td>\n",
       "      <td>...</td>\n",
       "    </tr>\n",
       "    <tr>\n",
       "      <th>7099</th>\n",
       "      <td>Yes</td>\n",
       "      <td>1</td>\n",
       "      <td>PRV57569</td>\n",
       "      <td>33.0</td>\n",
       "    </tr>\n",
       "    <tr>\n",
       "      <th>7100</th>\n",
       "      <td>Yes</td>\n",
       "      <td>1</td>\n",
       "      <td>PRV57642</td>\n",
       "      <td>132.0</td>\n",
       "    </tr>\n",
       "    <tr>\n",
       "      <th>7101</th>\n",
       "      <td>Yes</td>\n",
       "      <td>1</td>\n",
       "      <td>PRV57672</td>\n",
       "      <td>424.0</td>\n",
       "    </tr>\n",
       "    <tr>\n",
       "      <th>7102</th>\n",
       "      <td>Yes</td>\n",
       "      <td>1</td>\n",
       "      <td>PRV57697</td>\n",
       "      <td>2.0</td>\n",
       "    </tr>\n",
       "    <tr>\n",
       "      <th>7103</th>\n",
       "      <td>Yes</td>\n",
       "      <td>1</td>\n",
       "      <td>PRV57709</td>\n",
       "      <td>167.0</td>\n",
       "    </tr>\n",
       "  </tbody>\n",
       "</table>\n",
       "<p>7104 rows × 4 columns</p>\n",
       "</div>"
      ],
      "text/plain": [
       "     PotentialFraud  IsOutpatient  Provider  NumAttPhyMult\n",
       "0                No             0  PRV51001            0.0\n",
       "1                No             0  PRV51007            0.0\n",
       "2                No             0  PRV51008            0.0\n",
       "3                No             0  PRV51011            0.0\n",
       "4                No             0  PRV51023            6.0\n",
       "...             ...           ...       ...            ...\n",
       "7099            Yes             1  PRV57569           33.0\n",
       "7100            Yes             1  PRV57642          132.0\n",
       "7101            Yes             1  PRV57672          424.0\n",
       "7102            Yes             1  PRV57697            2.0\n",
       "7103            Yes             1  PRV57709          167.0\n",
       "\n",
       "[7104 rows x 4 columns]"
      ]
     },
     "execution_count": 54,
     "metadata": {},
     "output_type": "execute_result"
    }
   ],
   "source": [
    "num_attphy = patient.groupby(['PotentialFraud','IsOutpatient','Provider'])[['Att_Phy_Mult']].sum()\n",
    "num_attphy.columns.values[0] = 'NumAttPhyMult'\n",
    "num_attphy = pd.DataFrame(num_attphy).reset_index()\n",
    "num_attphy"
   ]
  },
  {
   "cell_type": "code",
   "execution_count": 55,
   "metadata": {},
   "outputs": [
    {
     "data": {
      "text/plain": [
       "Text(0.5, 1.0, 'Number of Attending Physician Jumping Around for Onpaitents by Providers')"
      ]
     },
     "execution_count": 55,
     "metadata": {},
     "output_type": "execute_result"
    },
    {
     "data": {
      "image/png": "[encoded data removed]",
      "text/plain": [
       "<Figure size 864x432 with 2 Axes>"
      ]
     },
     "metadata": {},
     "output_type": "display_data"
    }
   ],
   "source": [
    "fig, ax = plt.subplots(1, 2, figsize=(12, 6))\n",
    "sns.boxplot(data = num_attphy[num_attphy['IsOutpatient'] == 0], \n",
    "            x = \"NumAttPhyMult\", y = 'PotentialFraud', ax = ax[0], fliersize= 1);\n",
    "sns.boxplot(data = num_attphy[num_attphy['IsOutpatient'] == 1], \n",
    "            x = \"NumAttPhyMult\", y = 'PotentialFraud', ax = ax[1], fliersize= 1);\n",
    "ax[0].set_title(\"Number of Attending Physician Jumping Around for Inpaitents by Providers\")\n",
    "ax[1].set_title(\"Number of Attending Physician Jumping Around for Onpaitents by Providers\")"
   ]
  },
  {
   "cell_type": "markdown",
   "metadata": {},
   "source": [
    "## Do patients go to different hospitals? Study the distribution of hospital counts/patient? Is it possible to characterize those patients who receive services from a lot of different hospitals?"
   ]
  },
  {
   "cell_type": "code",
   "execution_count": 56,
   "metadata": {},
   "outputs": [
    {
     "data": {
      "text/plain": [
       "count    138556.000000\n",
       "mean          4.028775\n",
       "std           3.229291\n",
       "min           1.000000\n",
       "25%           2.000000\n",
       "50%           3.000000\n",
       "75%           5.000000\n",
       "max          29.000000\n",
       "Name: Provider, dtype: float64"
      ]
     },
     "execution_count": 56,
     "metadata": {},
     "output_type": "execute_result"
    }
   ],
   "source": [
    "patient.groupby('BeneID')[\"Provider\"].count().describe()"
   ]
  },
  {
   "cell_type": "code",
   "execution_count": 57,
   "metadata": {},
   "outputs": [],
   "source": [
    "# Finding patterns of beneficiaries who move around more than 5 hospitals\n",
    "xx = patient.groupby('BeneID')[\"Provider\"].count().reset_index()\n",
    "bene_more = xx[xx.Provider > 5].BeneID.tolist()"
   ]
  },
  {
   "cell_type": "code",
   "execution_count": 60,
   "metadata": {},
   "outputs": [],
   "source": [
    "patient.loc[patient[\"BeneID\"].isin(bene_more),\"Bene_Mult\"] = 1\n",
    "patient.loc[~patient[\"BeneID\"].isin(bene_more),\"Bene_Mult\"] = 0"
   ]
  },
  {
   "cell_type": "code",
   "execution_count": 67,
   "metadata": {},
   "outputs": [
    {
     "data": {
      "text/html": [
       "<div>\n",
       "<style scoped>\n",
       "    .dataframe tbody tr th:only-of-type {\n",
       "        vertical-align: middle;\n",
       "    }\n",
       "\n",
       "    .dataframe tbody tr th {\n",
       "        vertical-align: top;\n",
       "    }\n",
       "\n",
       "    .dataframe thead th {\n",
       "        text-align: right;\n",
       "    }\n",
       "</style>\n",
       "<table border=\"1\" class=\"dataframe\">\n",
       "  <thead>\n",
       "    <tr style=\"text-align: right;\">\n",
       "      <th></th>\n",
       "      <th>PotentialFraud</th>\n",
       "      <th>IsOutpatient</th>\n",
       "      <th>Provider</th>\n",
       "      <th>NumBeneMult</th>\n",
       "    </tr>\n",
       "  </thead>\n",
       "  <tbody>\n",
       "    <tr>\n",
       "      <th>0</th>\n",
       "      <td>No</td>\n",
       "      <td>0</td>\n",
       "      <td>PRV51001</td>\n",
       "      <td>2.0</td>\n",
       "    </tr>\n",
       "    <tr>\n",
       "      <th>1</th>\n",
       "      <td>No</td>\n",
       "      <td>0</td>\n",
       "      <td>PRV51007</td>\n",
       "      <td>2.0</td>\n",
       "    </tr>\n",
       "    <tr>\n",
       "      <th>2</th>\n",
       "      <td>No</td>\n",
       "      <td>0</td>\n",
       "      <td>PRV51008</td>\n",
       "      <td>1.0</td>\n",
       "    </tr>\n",
       "    <tr>\n",
       "      <th>3</th>\n",
       "      <td>No</td>\n",
       "      <td>0</td>\n",
       "      <td>PRV51011</td>\n",
       "      <td>0.0</td>\n",
       "    </tr>\n",
       "    <tr>\n",
       "      <th>4</th>\n",
       "      <td>No</td>\n",
       "      <td>0</td>\n",
       "      <td>PRV51023</td>\n",
       "      <td>4.0</td>\n",
       "    </tr>\n",
       "    <tr>\n",
       "      <th>...</th>\n",
       "      <td>...</td>\n",
       "      <td>...</td>\n",
       "      <td>...</td>\n",
       "      <td>...</td>\n",
       "    </tr>\n",
       "    <tr>\n",
       "      <th>7099</th>\n",
       "      <td>Yes</td>\n",
       "      <td>1</td>\n",
       "      <td>PRV57569</td>\n",
       "      <td>39.0</td>\n",
       "    </tr>\n",
       "    <tr>\n",
       "      <th>7100</th>\n",
       "      <td>Yes</td>\n",
       "      <td>1</td>\n",
       "      <td>PRV57642</td>\n",
       "      <td>96.0</td>\n",
       "    </tr>\n",
       "    <tr>\n",
       "      <th>7101</th>\n",
       "      <td>Yes</td>\n",
       "      <td>1</td>\n",
       "      <td>PRV57672</td>\n",
       "      <td>258.0</td>\n",
       "    </tr>\n",
       "    <tr>\n",
       "      <th>7102</th>\n",
       "      <td>Yes</td>\n",
       "      <td>1</td>\n",
       "      <td>PRV57697</td>\n",
       "      <td>11.0</td>\n",
       "    </tr>\n",
       "    <tr>\n",
       "      <th>7103</th>\n",
       "      <td>Yes</td>\n",
       "      <td>1</td>\n",
       "      <td>PRV57709</td>\n",
       "      <td>100.0</td>\n",
       "    </tr>\n",
       "  </tbody>\n",
       "</table>\n",
       "<p>7104 rows × 4 columns</p>\n",
       "</div>"
      ],
      "text/plain": [
       "     PotentialFraud  IsOutpatient  Provider  NumBeneMult\n",
       "0                No             0  PRV51001          2.0\n",
       "1                No             0  PRV51007          2.0\n",
       "2                No             0  PRV51008          1.0\n",
       "3                No             0  PRV51011          0.0\n",
       "4                No             0  PRV51023          4.0\n",
       "...             ...           ...       ...          ...\n",
       "7099            Yes             1  PRV57569         39.0\n",
       "7100            Yes             1  PRV57642         96.0\n",
       "7101            Yes             1  PRV57672        258.0\n",
       "7102            Yes             1  PRV57697         11.0\n",
       "7103            Yes             1  PRV57709        100.0\n",
       "\n",
       "[7104 rows x 4 columns]"
      ]
     },
     "execution_count": 67,
     "metadata": {},
     "output_type": "execute_result"
    }
   ],
   "source": [
    "num_bene = patient.groupby(['PotentialFraud','IsOutpatient','Provider'])[['Bene_Mult']].sum()\n",
    "num_bene.columns.values[0] = 'NumBeneMult'\n",
    "num_bene = pd.DataFrame(num_bene).reset_index()\n",
    "num_bene"
   ]
  },
  {
   "cell_type": "code",
   "execution_count": 68,
   "metadata": {},
   "outputs": [
    {
     "data": {
      "text/plain": [
       "Text(0.5, 1.0, 'Number of beneficiaries Jumping Around hospitals for Outpatients by Providers')"
      ]
     },
     "execution_count": 68,
     "metadata": {},
     "output_type": "execute_result"
    },
    {
     "data": {
      "image/png": "[encoded data removed]",
      "text/plain": [
       "<Figure size 864x432 with 2 Axes>"
      ]
     },
     "metadata": {},
     "output_type": "display_data"
    }
   ],
   "source": [
    "fig, ax = plt.subplots(1, 2, figsize=(12, 6))\n",
    "sns.boxplot(data = num_bene[num_bene['IsOutpatient'] == 0], \n",
    "            x = \"NumBeneMult\", y = 'PotentialFraud', ax = ax[0], fliersize= 1);\n",
    "sns.boxplot(data = num_bene[num_bene['IsOutpatient'] == 1], \n",
    "            x = \"NumBeneMult\", y = 'PotentialFraud', ax = ax[1], fliersize= 1);\n",
    "ax[0].set_title(\"Number of beneficiaries Jumping Around hospitals for Inpaitents by Providers\")\n",
    "ax[1].set_title(\"Number of beneficiaries Jumping Around hospitals for Outpatients by Providers\")"
   ]
  },
  {
   "cell_type": "markdown",
   "metadata": {},
   "source": [
    "## Do the same providers provide both inpatient and outpatient services? "
   ]
  },
  {
   "cell_type": "code",
   "execution_count": 93,
   "metadata": {},
   "outputs": [],
   "source": [
    "# Unique providers who serve inpatients\n",
    "prov_inp = patient[patient['IsOutpatient']== 0].Provider.unique().tolist()"
   ]
  },
  {
   "cell_type": "code",
   "execution_count": 94,
   "metadata": {},
   "outputs": [],
   "source": [
    "# providers who provide both inpatient and outpatient services\n",
    "prov_both = patient[(patient.IsOutpatient == 1) & (patient.Provider.isin(prov_inp))].Provider.tolist()"
   ]
  },
  {
   "cell_type": "code",
   "execution_count": 95,
   "metadata": {},
   "outputs": [],
   "source": [
    "# Boolean column for serving both types of patients\n",
    "patient.loc[patient[\"Provider\"].isin(prov_both),\"Prov_Both\"] = 1\n",
    "patient.loc[~patient[\"Provider\"].isin(prov_both),\"Prov_Both\"] = 0"
   ]
  },
  {
   "cell_type": "code",
   "execution_count": 110,
   "metadata": {},
   "outputs": [
    {
     "data": {
      "text/html": [
       "<div>\n",
       "<style scoped>\n",
       "    .dataframe tbody tr th:only-of-type {\n",
       "        vertical-align: middle;\n",
       "    }\n",
       "\n",
       "    .dataframe tbody tr th {\n",
       "        vertical-align: top;\n",
       "    }\n",
       "\n",
       "    .dataframe thead th {\n",
       "        text-align: right;\n",
       "    }\n",
       "</style>\n",
       "<table border=\"1\" class=\"dataframe\">\n",
       "  <thead>\n",
       "    <tr style=\"text-align: right;\">\n",
       "      <th></th>\n",
       "      <th>Prov_Both</th>\n",
       "      <th>length</th>\n",
       "      <th>Prov_Both_Ratio</th>\n",
       "    </tr>\n",
       "    <tr>\n",
       "      <th>PotentialFraud</th>\n",
       "      <th></th>\n",
       "      <th></th>\n",
       "      <th></th>\n",
       "    </tr>\n",
       "  </thead>\n",
       "  <tbody>\n",
       "    <tr>\n",
       "      <th>No</th>\n",
       "      <td>121782.0</td>\n",
       "      <td>345415</td>\n",
       "      <td>0.352567</td>\n",
       "    </tr>\n",
       "    <tr>\n",
       "      <th>Yes</th>\n",
       "      <td>134682.0</td>\n",
       "      <td>212796</td>\n",
       "      <td>0.632916</td>\n",
       "    </tr>\n",
       "  </tbody>\n",
       "</table>\n",
       "</div>"
      ],
      "text/plain": [
       "                Prov_Both  length  Prov_Both_Ratio\n",
       "PotentialFraud                                    \n",
       "No               121782.0  345415         0.352567\n",
       "Yes              134682.0  212796         0.632916"
      ]
     },
     "execution_count": 110,
     "metadata": {},
     "output_type": "execute_result"
    }
   ],
   "source": [
    "num_prov_both = patient.groupby(['PotentialFraud'])[['Prov_Both']].sum()\n",
    "\n",
    "num_prov_both['length'] = \\\n",
    "        [patient[patient['PotentialFraud'] == \"No\"].shape[0],patient[patient['PotentialFraud'] == \"Yes\"].shape[0]]\n",
    "num_prov_both['Prov_Both_Ratio'] = num_prov_both[\"Prov_Both\"]/num_prov_both[\"length\"]\n",
    "num_prov_both"
   ]
  },
  {
   "cell_type": "code",
   "execution_count": 112,
   "metadata": {},
   "outputs": [
    {
     "data": {
      "image/png": "[encoded data removed]",
      "text/plain": [
       "<Figure size 648x432 with 1 Axes>"
      ]
     },
     "metadata": {},
     "output_type": "display_data"
    }
   ],
   "source": [
    "num_prov_both.Prov_Both_Ratio.plot(kind='bar');"
   ]
  },
  {
   "cell_type": "markdown",
   "metadata": {},
   "source": [
    "## Do Some of the same patients receive both inpatient and outpatient services? "
   ]
  },
  {
   "cell_type": "code",
   "execution_count": 114,
   "metadata": {},
   "outputs": [],
   "source": [
    "# Unique beneficiaries that receive inpatient service\n",
    "bene_inp = patient[patient['IsOutpatient']== 0].BeneID.unique().tolist()"
   ]
  },
  {
   "cell_type": "code",
   "execution_count": 115,
   "metadata": {},
   "outputs": [],
   "source": [
    "# Beneficiaries that receive both in/out patient service\n",
    "bene_both = patient[(patient['IsOutpatient'] == 1) & (patient.BeneID.isin(bene_inp))].BeneID.tolist()"
   ]
  },
  {
   "cell_type": "code",
   "execution_count": 118,
   "metadata": {},
   "outputs": [],
   "source": [
    "patient.loc[patient[\"BeneID\"].isin(bene_both),\"Bene_Both\"] = 1\n",
    "patient.loc[~patient[\"BeneID\"].isin(bene_both),\"Bene_Both\"] = 0"
   ]
  },
  {
   "cell_type": "code",
   "execution_count": 120,
   "metadata": {},
   "outputs": [
    {
     "data": {
      "text/html": [
       "<div>\n",
       "<style scoped>\n",
       "    .dataframe tbody tr th:only-of-type {\n",
       "        vertical-align: middle;\n",
       "    }\n",
       "\n",
       "    .dataframe tbody tr th {\n",
       "        vertical-align: top;\n",
       "    }\n",
       "\n",
       "    .dataframe thead th {\n",
       "        text-align: right;\n",
       "    }\n",
       "</style>\n",
       "<table border=\"1\" class=\"dataframe\">\n",
       "  <thead>\n",
       "    <tr style=\"text-align: right;\">\n",
       "      <th></th>\n",
       "      <th>Bene_Both</th>\n",
       "      <th>length</th>\n",
       "      <th>Bene_Both_Ratio</th>\n",
       "    </tr>\n",
       "    <tr>\n",
       "      <th>PotentialFraud</th>\n",
       "      <th></th>\n",
       "      <th></th>\n",
       "      <th></th>\n",
       "    </tr>\n",
       "  </thead>\n",
       "  <tbody>\n",
       "    <tr>\n",
       "      <th>No</th>\n",
       "      <td>94283.0</td>\n",
       "      <td>345415</td>\n",
       "      <td>0.272956</td>\n",
       "    </tr>\n",
       "    <tr>\n",
       "      <th>Yes</th>\n",
       "      <td>66599.0</td>\n",
       "      <td>212796</td>\n",
       "      <td>0.312971</td>\n",
       "    </tr>\n",
       "  </tbody>\n",
       "</table>\n",
       "</div>"
      ],
      "text/plain": [
       "                Bene_Both  length  Bene_Both_Ratio\n",
       "PotentialFraud                                    \n",
       "No                94283.0  345415         0.272956\n",
       "Yes               66599.0  212796         0.312971"
      ]
     },
     "execution_count": 120,
     "metadata": {},
     "output_type": "execute_result"
    }
   ],
   "source": [
    "num_bene_both = patient.groupby(['PotentialFraud'])[['Bene_Both']].sum()\n",
    "\n",
    "num_bene_both['length'] = \\\n",
    "        [patient[patient['PotentialFraud'] == \"No\"].shape[0],patient[patient['PotentialFraud'] == \"Yes\"].shape[0]]\n",
    "num_bene_both['Bene_Both_Ratio'] = num_bene_both[\"Bene_Both\"]/num_bene_both[\"length\"]\n",
    "num_bene_both"
   ]
  },
  {
   "cell_type": "code",
   "execution_count": 124,
   "metadata": {},
   "outputs": [
    {
     "data": {
      "text/plain": [
       "Text(0, 0.5, 'dd')"
      ]
     },
     "execution_count": 124,
     "metadata": {},
     "output_type": "execute_result"
    },
    {
     "data": {
      "image/png": "[encoded data removed]",
      "text/plain": [
       "<Figure size 648x432 with 1 Axes>"
      ]
     },
     "metadata": {},
     "output_type": "display_data"
    }
   ],
   "source": [
    "num_bene_both.Bene_Both_Ratio.plot(kind='bar');\n",
    "plt.ylabel(\"\")"
   ]
  },
  {
   "cell_type": "markdown",
   "metadata": {},
   "source": [
    "## Study the relationship between the patient ages (at the time of their service) and the counts of medical claims.\n"
   ]
  },
  {
   "cell_type": "code",
   "execution_count": 135,
   "metadata": {},
   "outputs": [],
   "source": [
    "from dateutil.relativedelta import relativedelta"
   ]
  },
  {
   "cell_type": "code",
   "execution_count": 153,
   "metadata": {},
   "outputs": [],
   "source": [
    "patient[\"AgeAtClm\"] = round((patient[\"ClaimStartDt\"] - patient[\"DOB\"]).dt.days/365,0).astype(int)"
   ]
  },
  {
   "cell_type": "code",
   "execution_count": 170,
   "metadata": {},
   "outputs": [
    {
     "data": {
      "text/html": [
       "<div>\n",
       "<style scoped>\n",
       "    .dataframe tbody tr th:only-of-type {\n",
       "        vertical-align: middle;\n",
       "    }\n",
       "\n",
       "    .dataframe tbody tr th {\n",
       "        vertical-align: top;\n",
       "    }\n",
       "\n",
       "    .dataframe thead th {\n",
       "        text-align: right;\n",
       "    }\n",
       "</style>\n",
       "<table border=\"1\" class=\"dataframe\">\n",
       "  <thead>\n",
       "    <tr style=\"text-align: right;\">\n",
       "      <th></th>\n",
       "      <th>PotentialFraud</th>\n",
       "      <th>AgeAtClm</th>\n",
       "      <th>Count</th>\n",
       "    </tr>\n",
       "  </thead>\n",
       "  <tbody>\n",
       "    <tr>\n",
       "      <th>0</th>\n",
       "      <td>No</td>\n",
       "      <td>25</td>\n",
       "      <td>44</td>\n",
       "    </tr>\n",
       "    <tr>\n",
       "      <th>1</th>\n",
       "      <td>No</td>\n",
       "      <td>26</td>\n",
       "      <td>358</td>\n",
       "    </tr>\n",
       "    <tr>\n",
       "      <th>2</th>\n",
       "      <td>No</td>\n",
       "      <td>27</td>\n",
       "      <td>468</td>\n",
       "    </tr>\n",
       "    <tr>\n",
       "      <th>3</th>\n",
       "      <td>No</td>\n",
       "      <td>28</td>\n",
       "      <td>526</td>\n",
       "    </tr>\n",
       "    <tr>\n",
       "      <th>4</th>\n",
       "      <td>No</td>\n",
       "      <td>29</td>\n",
       "      <td>538</td>\n",
       "    </tr>\n",
       "    <tr>\n",
       "      <th>...</th>\n",
       "      <td>...</td>\n",
       "      <td>...</td>\n",
       "      <td>...</td>\n",
       "    </tr>\n",
       "    <tr>\n",
       "      <th>149</th>\n",
       "      <td>Yes</td>\n",
       "      <td>97</td>\n",
       "      <td>1305</td>\n",
       "    </tr>\n",
       "    <tr>\n",
       "      <th>150</th>\n",
       "      <td>Yes</td>\n",
       "      <td>98</td>\n",
       "      <td>1242</td>\n",
       "    </tr>\n",
       "    <tr>\n",
       "      <th>151</th>\n",
       "      <td>Yes</td>\n",
       "      <td>99</td>\n",
       "      <td>1238</td>\n",
       "    </tr>\n",
       "    <tr>\n",
       "      <th>152</th>\n",
       "      <td>Yes</td>\n",
       "      <td>100</td>\n",
       "      <td>1166</td>\n",
       "    </tr>\n",
       "    <tr>\n",
       "      <th>153</th>\n",
       "      <td>Yes</td>\n",
       "      <td>101</td>\n",
       "      <td>212</td>\n",
       "    </tr>\n",
       "  </tbody>\n",
       "</table>\n",
       "<p>154 rows × 3 columns</p>\n",
       "</div>"
      ],
      "text/plain": [
       "    PotentialFraud  AgeAtClm  Count\n",
       "0               No        25     44\n",
       "1               No        26    358\n",
       "2               No        27    468\n",
       "3               No        28    526\n",
       "4               No        29    538\n",
       "..             ...       ...    ...\n",
       "149            Yes        97   1305\n",
       "150            Yes        98   1242\n",
       "151            Yes        99   1238\n",
       "152            Yes       100   1166\n",
       "153            Yes       101    212\n",
       "\n",
       "[154 rows x 3 columns]"
      ]
     },
     "execution_count": 170,
     "metadata": {},
     "output_type": "execute_result"
    }
   ],
   "source": [
    "bene_age = patient.groupby(['PotentialFraud','AgeAtClm'])[['ClaimID']].count()\n",
    "bene_age.columns.values[0] = 'Count'\n",
    "bene_age = bene_age.reset_index()\n",
    "bene_age"
   ]
  },
  {
   "cell_type": "code",
   "execution_count": 172,
   "metadata": {},
   "outputs": [
    {
     "data": {
      "image/png": "[encoded data removed]",
      "text/plain": [
       "<Figure size 648x432 with 1 Axes>"
      ]
     },
     "metadata": {},
     "output_type": "display_data"
    }
   ],
   "source": [
    "sns.lineplot(data = bene_age,x = \"AgeAtClm\", y = 'Count', hue='PotentialFraud');"
   ]
  },
  {
   "cell_type": "code",
   "execution_count": 181,
   "metadata": {},
   "outputs": [
    {
     "data": {
      "text/html": [
       "<div>\n",
       "<style scoped>\n",
       "    .dataframe tbody tr th:only-of-type {\n",
       "        vertical-align: middle;\n",
       "    }\n",
       "\n",
       "    .dataframe tbody tr th {\n",
       "        vertical-align: top;\n",
       "    }\n",
       "\n",
       "    .dataframe thead th {\n",
       "        text-align: right;\n",
       "    }\n",
       "</style>\n",
       "<table border=\"1\" class=\"dataframe\">\n",
       "  <thead>\n",
       "    <tr style=\"text-align: right;\">\n",
       "      <th></th>\n",
       "      <th>PotentialFraud</th>\n",
       "      <th>IsOutpatient</th>\n",
       "      <th>Provider</th>\n",
       "      <th>AvgAge</th>\n",
       "    </tr>\n",
       "  </thead>\n",
       "  <tbody>\n",
       "    <tr>\n",
       "      <th>0</th>\n",
       "      <td>No</td>\n",
       "      <td>0</td>\n",
       "      <td>PRV51001</td>\n",
       "      <td>77.800000</td>\n",
       "    </tr>\n",
       "    <tr>\n",
       "      <th>1</th>\n",
       "      <td>No</td>\n",
       "      <td>0</td>\n",
       "      <td>PRV51007</td>\n",
       "      <td>78.000000</td>\n",
       "    </tr>\n",
       "    <tr>\n",
       "      <th>2</th>\n",
       "      <td>No</td>\n",
       "      <td>0</td>\n",
       "      <td>PRV51008</td>\n",
       "      <td>51.000000</td>\n",
       "    </tr>\n",
       "    <tr>\n",
       "      <th>3</th>\n",
       "      <td>No</td>\n",
       "      <td>0</td>\n",
       "      <td>PRV51011</td>\n",
       "      <td>98.000000</td>\n",
       "    </tr>\n",
       "    <tr>\n",
       "      <th>4</th>\n",
       "      <td>No</td>\n",
       "      <td>0</td>\n",
       "      <td>PRV51023</td>\n",
       "      <td>73.444444</td>\n",
       "    </tr>\n",
       "    <tr>\n",
       "      <th>...</th>\n",
       "      <td>...</td>\n",
       "      <td>...</td>\n",
       "      <td>...</td>\n",
       "      <td>...</td>\n",
       "    </tr>\n",
       "    <tr>\n",
       "      <th>7099</th>\n",
       "      <td>Yes</td>\n",
       "      <td>1</td>\n",
       "      <td>PRV57569</td>\n",
       "      <td>76.867647</td>\n",
       "    </tr>\n",
       "    <tr>\n",
       "      <th>7100</th>\n",
       "      <td>Yes</td>\n",
       "      <td>1</td>\n",
       "      <td>PRV57642</td>\n",
       "      <td>73.137056</td>\n",
       "    </tr>\n",
       "    <tr>\n",
       "      <th>7101</th>\n",
       "      <td>Yes</td>\n",
       "      <td>1</td>\n",
       "      <td>PRV57672</td>\n",
       "      <td>74.583529</td>\n",
       "    </tr>\n",
       "    <tr>\n",
       "      <th>7102</th>\n",
       "      <td>Yes</td>\n",
       "      <td>1</td>\n",
       "      <td>PRV57697</td>\n",
       "      <td>70.722222</td>\n",
       "    </tr>\n",
       "    <tr>\n",
       "      <th>7103</th>\n",
       "      <td>Yes</td>\n",
       "      <td>1</td>\n",
       "      <td>PRV57709</td>\n",
       "      <td>72.534759</td>\n",
       "    </tr>\n",
       "  </tbody>\n",
       "</table>\n",
       "<p>7104 rows × 4 columns</p>\n",
       "</div>"
      ],
      "text/plain": [
       "     PotentialFraud  IsOutpatient  Provider     AvgAge\n",
       "0                No             0  PRV51001  77.800000\n",
       "1                No             0  PRV51007  78.000000\n",
       "2                No             0  PRV51008  51.000000\n",
       "3                No             0  PRV51011  98.000000\n",
       "4                No             0  PRV51023  73.444444\n",
       "...             ...           ...       ...        ...\n",
       "7099            Yes             1  PRV57569  76.867647\n",
       "7100            Yes             1  PRV57642  73.137056\n",
       "7101            Yes             1  PRV57672  74.583529\n",
       "7102            Yes             1  PRV57697  70.722222\n",
       "7103            Yes             1  PRV57709  72.534759\n",
       "\n",
       "[7104 rows x 4 columns]"
      ]
     },
     "execution_count": 181,
     "metadata": {},
     "output_type": "execute_result"
    }
   ],
   "source": [
    "avg_age = patient.groupby(['PotentialFraud','IsOutpatient','Provider'])[['AgeAtClm']].mean()\n",
    "avg_age.columns.values[0] = 'AvgAge'\n",
    "avg_age = avg_age.reset_index()\n",
    "avg_age"
   ]
  },
  {
   "cell_type": "code",
   "execution_count": 183,
   "metadata": {},
   "outputs": [
    {
     "data": {
      "text/plain": [
       "Text(0.5, 1.0, 'Average Age of Outpatients by Providers')"
      ]
     },
     "execution_count": 183,
     "metadata": {},
     "output_type": "execute_result"
    },
    {
     "data": {
      "image/png": "[encoded data removed]",
      "text/plain": [
       "<Figure size 864x432 with 2 Axes>"
      ]
     },
     "metadata": {},
     "output_type": "display_data"
    }
   ],
   "source": [
    "fig, ax = plt.subplots(1, 2, figsize=(12, 6))\n",
    "sns.boxplot(data = avg_age[avg_age['IsOutpatient'] == 0], \n",
    "            x = \"AvgAge\", y = 'PotentialFraud', ax = ax[0], fliersize= 1);\n",
    "sns.boxplot(data = avg_age[avg_age['IsOutpatient'] == 1], \n",
    "            x = \"AvgAge\", y = 'PotentialFraud', ax = ax[1], fliersize= 1);\n",
    "ax[0].set_title(\"Average Age of Inpaitents by Providers\")\n",
    "ax[1].set_title(\"Average Age of Outpatients by Providers\")"
   ]
  },
  {
   "cell_type": "markdown",
   "metadata": {},
   "source": [
    "## Study the relationship between the patient age and their chornic conditions. Within the train-samples, do these chronic conditions show a definite trend with respect to increasing ages?\n"
   ]
  },
  {
   "cell_type": "code",
   "execution_count": 201,
   "metadata": {},
   "outputs": [
    {
     "data": {
      "image/png": "[encoded data removed]",
      "text/plain": [
       "<Figure size 648x432 with 1 Axes>"
      ]
     },
     "metadata": {},
     "output_type": "display_data"
    }
   ],
   "source": [
    "patient.groupby('AgeAtClm')[chronic].sum().plot(kind = 'line');"
   ]
  },
  {
   "cell_type": "markdown",
   "metadata": {},
   "source": [
    "## In order to make sure the insurance premiums can cover the claims, the insurance company would need to categorize the patients according to their resource usage. In answering the question that what types of patients would make more in/outpatient visits?"
   ]
  },
  {
   "cell_type": "code",
   "execution_count": 215,
   "metadata": {},
   "outputs": [
    {
     "data": {
      "image/png": "[encoded data removed]",
      "text/plain": [
       "<Figure size 648x432 with 1 Axes>"
      ]
     },
     "metadata": {},
     "output_type": "display_data"
    }
   ],
   "source": [
    "patient.groupby(['PotentialFraud','IsOutpatient'])[chronic].sum().plot(kind = 'bar');\n",
    "plt.legend(fontsize = 12, bbox_to_anchor=(1,0.8));"
   ]
  },
  {
   "cell_type": "markdown",
   "metadata": {},
   "source": [
    "## From the prospect of the insurance company, the reimbursed amounts are their coverage on the claims. Please analyze the patterns of the total reimbursed amounts (or average reimbursed amounts/visit) vs different types of patients.\n",
    "\n",
    "## From the prospect of the providers, the sum of reimbursed amounts and deductibles are flowing to the providers. Based on this, analyze which types of patients contribute more to the providers in terms of the aggregate charges or the average charge per visit\n"
   ]
  },
  {
   "cell_type": "code",
   "execution_count": 251,
   "metadata": {},
   "outputs": [],
   "source": [
    "patient[\"TotalRev\"] = patient['InscClaimAmtReimbursed'] + patient['DeductibleAmtPaid']"
   ]
  },
  {
   "cell_type": "code",
   "execution_count": 258,
   "metadata": {
    "scrolled": false
   },
   "outputs": [
    {
     "name": "stdout",
     "output_type": "stream",
     "text": [
      "No Potential Fraud\n",
      "Mean Revenue from ChronicCond_Alzheimer : 926.31\n",
      "Mean Revenue from ChronicCond_Heartfailure : 936.02\n",
      "Mean Revenue from ChronicCond_KidneyDisease : 1136.21\n",
      "Mean Revenue from ChronicCond_Cancer : 956.58\n",
      "Mean Revenue from ChronicCond_ObstrPulmonary : 1074.88\n",
      "Mean Revenue from ChronicCond_Depression : 853.71\n",
      "Mean Revenue from ChronicCond_Diabetes : 880.61\n",
      "Mean Revenue from ChronicCond_IschemicHeart : 879.87\n",
      "Mean Revenue from ChronicCond_Osteoporasis : 834.89\n",
      "Mean Revenue from ChronicCond_rheumatoidarthritis : 863.17\n",
      "Mean Revenue from ChronicCond_stroke : 1194.84\n"
     ]
    }
   ],
   "source": [
    "print(\"No Potential Fraud\")\n",
    "for col in chronic:\n",
    "    print('Mean Revenue from', col, ':', \n",
    "          round(patient[(patient[col] == 1)&(patient['PotentialFraud'] == \"No\")][[\"TotalRev\"]].mean()[0],2))"
   ]
  },
  {
   "cell_type": "code",
   "execution_count": 257,
   "metadata": {},
   "outputs": [
    {
     "name": "stdout",
     "output_type": "stream",
     "text": [
      "Potential Fraud\n",
      "Mean Revenue from ChronicCond_Alzheimer : 1707.72\n",
      "Mean Revenue from ChronicCond_Heartfailure : 1758.86\n",
      "Mean Revenue from ChronicCond_KidneyDisease : 2118.92\n",
      "Mean Revenue from ChronicCond_Cancer : 1872.85\n",
      "Mean Revenue from ChronicCond_ObstrPulmonary : 2084.93\n",
      "Mean Revenue from ChronicCond_Depression : 1604.08\n",
      "Mean Revenue from ChronicCond_Diabetes : 1647.61\n",
      "Mean Revenue from ChronicCond_IschemicHeart : 1652.27\n",
      "Mean Revenue from ChronicCond_Osteoporasis : 1591.94\n",
      "Mean Revenue from ChronicCond_rheumatoidarthritis : 1647.73\n",
      "Mean Revenue from ChronicCond_stroke : 2336.44\n"
     ]
    }
   ],
   "source": [
    "print(\"Potential Fraud\")\n",
    "for col in chronic:\n",
    "    print('Mean Revenue from', col, ':', \n",
    "          round(patient[(patient[col] == 1)&(patient['PotentialFraud'] == \"Yes\")][[\"TotalRev\"]].mean()[0],2))"
   ]
  },
  {
   "cell_type": "markdown",
   "metadata": {},
   "source": [
    "## Based on the attribute ClaimStartDt, analyze the weekly service volume variations.\n"
   ]
  },
  {
   "cell_type": "code",
   "execution_count": null,
   "metadata": {},
   "outputs": [],
   "source": []
  },
  {
   "cell_type": "markdown",
   "metadata": {},
   "source": [
    "## What are the weekly patterns (weekly seasonalities) you observe for the demands on inpatient or outpatient services?\n"
   ]
  },
  {
   "cell_type": "code",
   "execution_count": null,
   "metadata": {},
   "outputs": [],
   "source": []
  },
  {
   "cell_type": "markdown",
   "metadata": {},
   "source": [
    "## Identify the top  5  most frequent ClmAdmitDiagnosisCodes and trace their weekly seasonalities. Display the patterns you find.\n"
   ]
  },
  {
   "cell_type": "code",
   "execution_count": null,
   "metadata": {},
   "outputs": [],
   "source": []
  },
  {
   "cell_type": "markdown",
   "metadata": {},
   "source": [
    "## For the inpatient patients, is there any pattern between the durations of the treatments and the patient attributes?\n"
   ]
  },
  {
   "cell_type": "code",
   "execution_count": null,
   "metadata": {},
   "outputs": [],
   "source": []
  },
  {
   "cell_type": "markdown",
   "metadata": {},
   "source": [
    "## For the monthly inpatient/outpatient claim counts of all the providers, please analyze the table of provider-month matrices and report any interesting findings.\n"
   ]
  },
  {
   "cell_type": "code",
   "execution_count": null,
   "metadata": {},
   "outputs": [],
   "source": []
  },
  {
   "cell_type": "code",
   "execution_count": null,
   "metadata": {},
   "outputs": [],
   "source": []
  },
  {
   "cell_type": "code",
   "execution_count": null,
   "metadata": {},
   "outputs": [],
   "source": []
  },
  {
   "cell_type": "code",
   "execution_count": null,
   "metadata": {},
   "outputs": [],
   "source": []
  },
  {
   "cell_type": "code",
   "execution_count": null,
   "metadata": {},
   "outputs": [],
   "source": []
  }
 ],
 "metadata": {
  "kernelspec": {
   "display_name": "Python 3",
   "language": "python",
   "name": "python3"
  },
  "language_info": {
   "codemirror_mode": {
    "name": "ipython",
    "version": 3
   },
   "file_extension": ".py",
   "mimetype": "text/x-python",
   "name": "python",
   "nbconvert_exporter": "python",
   "pygments_lexer": "ipython3",
   "version": "3.7.6"
  },
  "toc": {
   "base_numbering": 1,
   "nav_menu": {},
   "number_sections": true,
   "sideBar": true,
   "skip_h1_title": false,
   "title_cell": "Table of Contents",
   "title_sidebar": "Contents",
   "toc_cell": false,
   "toc_position": {},
   "toc_section_display": true,
   "toc_window_display": false
  },
  "varInspector": {
   "cols": {
    "lenName": 16,
    "lenType": 16,
    "lenVar": 40
   },
   "kernels_config": {
    "python": {
     "delete_cmd_postfix": "",
     "delete_cmd_prefix": "del ",
     "library": "var_list.py",
     "varRefreshCmd": "print(var_dic_list())"
    },
    "r": {
     "delete_cmd_postfix": ") ",
     "delete_cmd_prefix": "rm(",
     "library": "var_list.r",
     "varRefreshCmd": "cat(var_dic_list()) "
    }
   },
   "types_to_exclude": [
    "module",
    "function",
    "builtin_function_or_method",
    "instance",
    "_Feature"
   ],
   "window_display": false
  }
 },
 "nbformat": 4,
 "nbformat_minor": 4
}
