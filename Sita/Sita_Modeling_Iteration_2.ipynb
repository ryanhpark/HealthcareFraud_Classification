{
 "cells": [
  {
   "cell_type": "markdown",
   "metadata": {},
   "source": [
    "## Setup and Data Import"
   ]
  },
  {
   "cell_type": "code",
   "execution_count": null,
   "metadata": {},
   "outputs": [],
   "source": [
    "import sys\n",
    "sys.path.insert(0, '..')\n",
    "\n",
    "from joblib import dump, load\n",
    "\n",
    "import numpy as np\n",
    "\n",
    "import pandas as pd\n",
    "pd.set_option('display.max_columns', None)\n",
    "\n",
    "import sklearn.model_selection as ms\n",
    "from sklearn import preprocessing as pp\n",
    "from sklearn.linear_model import \\\n",
    "    LogisticRegressionCV, LogisticRegression\n",
    "from sklearn.ensemble import \\\n",
    "    RandomForestClassifier, GradientBoostingClassifier\n",
    "from sklearn.metrics import recall_score\n",
    "\n",
    "import imblearn\n",
    "\n",
    "import plotly.express as px"
   ]
  },
  {
   "cell_type": "code",
   "execution_count": null,
   "metadata": {},
   "outputs": [],
   "source": [
    "providers = load('./data/Providers_Final.pkl')\n",
    "providers.set_index('Provider', inplace=True)"
   ]
  },
  {
   "cell_type": "markdown",
   "metadata": {},
   "source": [
    "## Pre-processing"
   ]
  },
  {
   "cell_type": "code",
   "execution_count": null,
   "metadata": {},
   "outputs": [],
   "source": [
    "X = providers.drop('PotentialFraud', axis=1)\n",
    "y = providers.PotentialFraud"
   ]
  },
  {
   "cell_type": "code",
   "execution_count": null,
   "metadata": {},
   "outputs": [],
   "source": [
    "X_train, X_test, y_train, y_test = ms.train_test_split(\n",
    "    X, y, test_size = 0.3, random_state = 0, stratify=y)\n",
    "\n",
    "# # 70/30 split gives roughly the same baseline model results\n",
    "# # but saves grid_search time"
   ]
  },
  {
   "cell_type": "code",
   "execution_count": null,
   "metadata": {},
   "outputs": [],
   "source": [
    "# # Scale only the training data to avoid data leakage\n",
    "scaler = pp.MinMaxScaler()\n",
    "\n",
    "X_train = pd.DataFrame(scaler.fit_transform(X_train), columns=X.columns)\n",
    "X_test = pd.DataFrame(scaler.transform(X_test), columns=X.columns)"
   ]
  },
  {
   "cell_type": "code",
   "execution_count": null,
   "metadata": {},
   "outputs": [],
   "source": [
    "# # Stratify folds so that classes always have the same sample ratio\n",
    "skfold = ms.StratifiedKFold(n_splits=10, random_state=0, shuffle=True);"
   ]
  },
  {
   "cell_type": "markdown",
   "metadata": {},
   "source": [
    "## Modeling"
   ]
  },
  {
   "cell_type": "markdown",
   "metadata": {},
   "source": [
    "### Logistic Regression"
   ]
  },
  {
   "cell_type": "markdown",
   "metadata": {},
   "source": [
    "#### Models"
   ]
  },
  {
   "cell_type": "code",
   "execution_count": null,
   "metadata": {},
   "outputs": [],
   "source": [
    "# baseline model\n",
    "\n",
    "# L1 penalty for feature selection, liblinear solver faster than saga\n",
    "# logRegCV = \\\n",
    "#     LogisticRegressionCV(penalty='l1', solver='liblinear', cv=skfold,\n",
    "#                          class_weight='balanced', scoring='recall',\n",
    "#                          random_state=0, n_jobs=(-1), verbose=1)\n",
    "\n",
    "# logRegCV.fit(X_train, y_train)\n",
    "\n",
    "# dump(logRegCV, './data/logRegCV.pkl')"
   ]
  },
  {
   "cell_type": "code",
   "execution_count": null,
   "metadata": {},
   "outputs": [],
   "source": [
    "# # grid search with accuracy scoring metric\n",
    "\n",
    "# logRegGSAccuracy = ms.GridSearchCV(logRegModel, param_grid=params,\n",
    "#                                    cv=skfold, n_jobs=(-1), verbose=1)\n",
    "\n",
    "# logRegAccuracy = logRegGSAccuracy.fit(X_train, y_train)\n",
    "# bestLogRegAccuracy = logRegAccuracy.best_estimator_\n",
    "\n",
    "# # dump(bestLogRegAccuracy, './data/bestLogRegAccuracy.pkl')"
   ]
  },
  {
   "cell_type": "code",
   "execution_count": null,
   "metadata": {
    "scrolled": false
   },
   "outputs": [],
   "source": [
    "# # grid search with recall scoring metric\n",
    "\n",
    "# # can't use scoring param, need to use recall_score()\n",
    "# logRegModel = \\\n",
    "#     LogisticRegression(penalty='l1', solver='liblinear',\n",
    "#                        class_weight='balanced', random_state=0,\n",
    "#                        n_jobs=(-1), verbose=1)\n",
    "\n",
    "# params = {'C': np.logspace(-2, 2, 50),\n",
    "#           'max_iter': [100, 500, 1000]}\n",
    "\n",
    "# logRegGS = ms.GridSearchCV(logRegModel, param_grid=params,\n",
    "#                            scoring='recall', cv=skfold, verbose=1)\n",
    "\n",
    "# logReg = logRegGS.fit(X_train, y_train)\n",
    "# bestLogReg = logReg.best_estimator_\n",
    "\n",
    "# # dump(bestLogReg, './data/bestLogReg.pkl')"
   ]
  },
  {
   "cell_type": "markdown",
   "metadata": {},
   "source": [
    "#### Results"
   ]
  },
  {
   "cell_type": "code",
   "execution_count": null,
   "metadata": {},
   "outputs": [],
   "source": [
    "# # baseline model\n",
    "logRegCV = load('./data/logRegCV.pkl')\n",
    "\n",
    "print(recall_score(y_train, logRegCV.predict(X_train)))\n",
    "print(recall_score(y_test, logRegCV.predict(X_test)))"
   ]
  },
  {
   "cell_type": "code",
   "execution_count": null,
   "metadata": {},
   "outputs": [],
   "source": [
    "# # grid search with accuracy scoring metric\n",
    "bestLogRegAccuracy = load('./data/bestLogRegAccuracy.pkl')\n",
    "\n",
    "# print(bestLogRegAccuracy)\n",
    "print(recall_score(y_train, bestLogRegAccuracy.predict(X_train)))\n",
    "print(recall_score(y_test, bestLogRegAccuracy.predict(X_test)))"
   ]
  },
  {
   "cell_type": "code",
   "execution_count": null,
   "metadata": {},
   "outputs": [],
   "source": [
    "# # grid search with recall scoring metric\n",
    "bestLogReg = load('./data/bestLogReg.pkl')\n",
    "\n",
    "# print(bestLogReg)\n",
    "print(recall_score(y_train, bestLogReg.predict(X_train)))\n",
    "print(recall_score(y_test, bestLogReg.predict(X_test)))"
   ]
  },
  {
   "cell_type": "code",
   "execution_count": null,
   "metadata": {
    "scrolled": true
   },
   "outputs": [],
   "source": [
    "coefficients = pd.DataFrame(bestLogReg.coef_.T, index=X.columns\n",
    "                           ).rename(columns = {0:'Coefficient'}\n",
    "                           ).abs().sort_values(by='Coefficient',\n",
    "                                               ascending=False)\n",
    "coefficients[coefficients.Coefficient > 0]"
   ]
  },
  {
   "cell_type": "markdown",
   "metadata": {},
   "source": [
    "### Random Forest"
   ]
  },
  {
   "cell_type": "code",
   "execution_count": null,
   "metadata": {
    "scrolled": true
   },
   "outputs": [],
   "source": [
    "def feature_importances(model):\n",
    "    df = pd.DataFrame({'feature': np.array(X.columns),\n",
    "                       'importance': model.feature_importances_}\n",
    "                     ).sort_values('importance')\n",
    "    return px.bar(df, 'importance', 'feature', height=1000)\n",
    "feature_importances(bestRandForestReduced)"
   ]
  },
  {
   "cell_type": "code",
   "execution_count": null,
   "metadata": {},
   "outputs": [],
   "source": [
    "# weight balanced SUBSAMPLE"
   ]
  },
  {
   "cell_type": "code",
   "execution_count": null,
   "metadata": {},
   "outputs": [],
   "source": [
    "# max_features default is 'auto' (sqrt(n_features))\n",
    "# randForestModel = \\\n",
    "#     RandomForestClassifier(class_weight='balanced', random_state=0)\n",
    "\n",
    "# randForestModel.fit(X_train, y_train)\n",
    "\n",
    "# dump(randForestModel, './data/randForestModel.pkl')\n",
    "\n",
    "randForestModel = load('./data/randForestModel.pkl')\n",
    "print(recall_score(y_train, randForestModel.predict(X_train)))\n",
    "print(recall_score(y_test, randForestModel.predict(X_test)))"
   ]
  },
  {
   "cell_type": "code",
   "execution_count": null,
   "metadata": {
    "scrolled": true
   },
   "outputs": [],
   "source": [
    "# params = {'n_estimators': [100, 500],\n",
    "#           'max_depth': np.linspace(3, 5, 8)}\n",
    "\n",
    "# randForestGS = ms.GridSearchCV(randForestModel, param_grid=params,\n",
    "#                                     scoring='recall', cv=skfold,\n",
    "#                                     n_jobs=-1, verbose=1)\n",
    "\n",
    "# randForest = randForestGS.fit(X_train, y_train)\n",
    "\n",
    "# bestRandForest = randForest.best_estimator_\n",
    "# dump(bestRandForest, './data/bestRandForest.pkl')\n",
    "\n",
    "bestRandForest = load('./data/bestRandForest.pkl')\n",
    "print(bestRandForest)\n",
    "print(recall_score(y_train, bestRandForest.predict(X_train)))\n",
    "print(recall_score(y_test, bestRandForest.predict(X_test)))"
   ]
  },
  {
   "cell_type": "code",
   "execution_count": null,
   "metadata": {},
   "outputs": [],
   "source": [
    "X_train_reduced_manual = pd.DataFrame(X_train, columns=X.columns)\n",
    "X_train_reduced_manual = X_train_reduced_manual.drop(['IP_Perc_RaceOne',\n",
    "'IP_Perc_RaceThree',\n",
    "'IP_Perc_RaceTwo',\n",
    "'OP_Perc_RaceOne',\n",
    "'OP_Perc_RaceThree',\n",
    "'OP_Perc_RaceTwo',\n",
    "'OP_Perc_Alzheimers_Chronic',\n",
    "'OP_Perc_Cancer_Chronic',\n",
    "'OP_Perc_Depression_Chronic',\n",
    "'OP_Perc_Diabetes_Chronic',\n",
    "'OP_Perc_HeartFailure_Chronic',\n",
    "'OP_Perc_IschemicHeart_Chronic',\n",
    "'OP_Perc_KidneyDisease_Chronic',\n",
    "'OP_Perc_ObstrPulmonary_Chronic',\n",
    "'OP_Perc_Osteoporosis_Chronic',\n",
    "'OP_Perc_RheumatoidArthritis_Chronic',\n",
    "'OP_Perc_Stroke_Chronic',\n",
    "'OP_Mean_AgeAtClaim',\n",
    "'IP_Mean_AgeAtClaim',\n",
    "'PatientsPerAttPhys',\n",
    "'PatientsPerOperPhys',\n",
    "'PatientsPerOthPhys',\n",
    "'IP_Mean_ClaimCost',\n",
    "'OP_Mean_ClaimCost',\n",
    "'OP_Perc_HasNoPhys',\n",
    "'IP_Perc_HasNoPhys',\n",
    "'IP_Perc_AttPhysIsOperPhys'], axis=1);\n",
    "\n",
    "\n",
    "\n",
    "X_test_reduced_manual = pd.DataFrame(X_test, columns=X.columns)\n",
    "X_test_reduced_manual = X_test_reduced_manual.drop(['IP_Perc_RaceOne',\n",
    "'IP_Perc_RaceThree',\n",
    "'IP_Perc_RaceTwo',\n",
    "'OP_Perc_RaceOne',\n",
    "'OP_Perc_RaceThree',\n",
    "'OP_Perc_RaceTwo',\n",
    "'OP_Perc_Alzheimers_Chronic',\n",
    "'OP_Perc_Cancer_Chronic',\n",
    "'OP_Perc_Depression_Chronic',\n",
    "'OP_Perc_Diabetes_Chronic',\n",
    "'OP_Perc_HeartFailure_Chronic',\n",
    "'OP_Perc_IschemicHeart_Chronic',\n",
    "'OP_Perc_KidneyDisease_Chronic',\n",
    "'OP_Perc_ObstrPulmonary_Chronic',\n",
    "'OP_Perc_Osteoporosis_Chronic',\n",
    "'OP_Perc_RheumatoidArthritis_Chronic',\n",
    "'OP_Perc_Stroke_Chronic',\n",
    "'OP_Mean_AgeAtClaim',\n",
    "'IP_Mean_AgeAtClaim',\n",
    "'PatientsPerAttPhys',\n",
    "'PatientsPerOperPhys',\n",
    "'PatientsPerOthPhys',\n",
    "'IP_Mean_ClaimCost',\n",
    "'OP_Mean_ClaimCost',\n",
    "'OP_Perc_HasNoPhys',\n",
    "'IP_Perc_HasNoPhys',\n",
    "'IP_Perc_AttPhysIsOperPhys'], axis=1);"
   ]
  },
  {
   "cell_type": "code",
   "execution_count": null,
   "metadata": {},
   "outputs": [],
   "source": [
    "X_train_reduced = pd.DataFrame(X_train, columns=X.columns)\n",
    "X_train_reduced = X_train_reduced.iloc[:,:len(bestRandForestReduced.feature_importances_\n",
    "                          [bestRandForestReduced.feature_importances_ > 0.01])];\n",
    "\n",
    "X_test_reduced = pd.DataFrame(X_test, columns=X.columns)\n",
    "X_test_reduced = X_test_reduced.iloc[:,:len(bestRandForestReduced.feature_importances_\n",
    "                          [bestRandForestReduced.feature_importances_ > 0.01])];"
   ]
  },
  {
   "cell_type": "code",
   "execution_count": null,
   "metadata": {},
   "outputs": [],
   "source": [
    "params = {'n_estimators': [1000, 2000]}\n",
    "\n",
    "randForestGS = ms.GridSearchCV(randForestModel, param_grid=params,\n",
    "                                    scoring='recall', cv=skfold,\n",
    "                                    n_jobs=-1, verbose=1)\n",
    "\n",
    "randForestReduced = randForestGS.fit(X_train_reduced, y_train)\n",
    "\n",
    "bestRandForestReduced = randForestReduced.best_estimator_\n",
    "# dump(bestRandForestReduced, './data/bestRandForestReduced.pkl')"
   ]
  },
  {
   "cell_type": "code",
   "execution_count": null,
   "metadata": {},
   "outputs": [],
   "source": [
    "# bestRandForestReduced = load('./data/bestRandForestReduced.pkl')\n",
    "print(bestRandForestReduced)\n",
    "print(recall_score(y_train, bestRandForestReduced.predict(X_train_reduced)))\n",
    "print(recall_score(y_test, bestRandForestReduced.predict(X_test_reduced)))\n",
    "\n",
    "# 0.005, max_depth=3.0, n_estimators=500,\n",
    "# 0.8757062146892656\n",
    "# 0.868421052631579\n",
    "\n",
    "# 0.02, max_depth=3.0, n_estimators=500,\n",
    "# 0.8813559322033898\n",
    "# 0.9013157894736842\n",
    "\n",
    "# 0.01, max_depth=3.0, n_estimators=500,\n",
    "# 0.8700564971751412\n",
    "# 0.868421052631579\n",
    "\n",
    "# 0.015, max_depth=3.0, n_estimators=500,\n",
    "# 0.8728813559322034\n",
    "# 0.875\n",
    "\n",
    "# 0.015, max_depth=3.0, n_estimators=1000\n",
    "# 0.8700564971751412\n",
    "# 0.881578947368421"
   ]
  },
  {
   "cell_type": "code",
   "execution_count": null,
   "metadata": {},
   "outputs": [],
   "source": []
  }
 ],
 "metadata": {
  "kernelspec": {
   "display_name": "Python 3",
   "language": "python",
   "name": "python3"
  },
  "language_info": {
   "codemirror_mode": {
    "name": "ipython",
    "version": 3
   },
   "file_extension": ".py",
   "mimetype": "text/x-python",
   "name": "python",
   "nbconvert_exporter": "python",
   "pygments_lexer": "ipython3",
   "version": "3.7.6"
  },
  "toc": {
   "base_numbering": 1,
   "nav_menu": {},
   "number_sections": true,
   "sideBar": true,
   "skip_h1_title": true,
   "title_cell": "Table of Contents",
   "title_sidebar": "Contents",
   "toc_cell": false,
   "toc_position": {
    "height": "calc(100% - 180px)",
    "left": "10px",
    "top": "150px",
    "width": "165px"
   },
   "toc_section_display": true,
   "toc_window_display": true
  }
 },
 "nbformat": 4,
 "nbformat_minor": 4
}
