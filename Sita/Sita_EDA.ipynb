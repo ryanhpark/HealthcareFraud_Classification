{
 "cells": [
  {
   "cell_type": "code",
   "execution_count": 1,
   "metadata": {},
   "outputs": [],
   "source": [
    "import sys\n",
    "sys.path.insert(0, '..')\n",
    "\n",
    "import Sita_Preprocessing as pp\n",
    "from Sita_Preprocessing import (\n",
    "    beneficiary, inpatient, outpatient, target,\n",
    "    beneficiary_num_cols, beneficiary_cat_cols,\n",
    "    inpatient_num_cols, inpatient_cat_cols,\n",
    "    outpatient_num_cols, outpatient_cat_cols)\n",
    "\n",
    "# import pandas as pd\n",
    "# pd.set_option('display.max_columns', None)\n",
    "\n",
    "import plotly.express as px"
   ]
  },
  {
   "cell_type": "code",
   "execution_count": 2,
   "metadata": {},
   "outputs": [],
   "source": [
    "def cat_proc_codes(*dfs):\n",
    "    for df in dfs:\n",
    "        procedure_cols = df.columns[df.columns.str.contains('Procedure')].to_list()    \n",
    "        df[procedure_cols] = \\\n",
    "            df[procedure_cols].apply(lambda x: x.astype('str'))\n",
    "cat_proc_codes(inpatient, outpatient)"
   ]
  },
  {
   "cell_type": "code",
   "execution_count": 7,
   "metadata": {
    "scrolled": true
   },
   "outputs": [
    {
     "data": {
      "text/plain": [
       "Index(['Provider', 'PotentialFraud'], dtype='object')"
      ]
     },
     "execution_count": 7,
     "metadata": {},
     "output_type": "execute_result"
    }
   ],
   "source": [
    "target.columns"
   ]
  }
 ],
 "metadata": {
  "kernelspec": {
   "display_name": "Python 3",
   "language": "python",
   "name": "python3"
  },
  "language_info": {
   "codemirror_mode": {
    "name": "ipython",
    "version": 3
   },
   "file_extension": ".py",
   "mimetype": "text/x-python",
   "name": "python",
   "nbconvert_exporter": "python",
   "pygments_lexer": "ipython3",
   "version": "3.7.6"
  },
  "toc": {
   "base_numbering": 1,
   "nav_menu": {},
   "number_sections": true,
   "sideBar": true,
   "skip_h1_title": true,
   "title_cell": "Table of Contents",
   "title_sidebar": "Contents",
   "toc_cell": false,
   "toc_position": {},
   "toc_section_display": true,
   "toc_window_display": true
  }
 },
 "nbformat": 4,
 "nbformat_minor": 4
}
