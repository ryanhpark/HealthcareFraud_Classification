{
 "cells": [
  {
   "cell_type": "markdown",
   "metadata": {},
   "source": [
    "## Setup and Data Import"
   ]
  },
  {
   "cell_type": "code",
   "execution_count": 1,
   "metadata": {},
   "outputs": [],
   "source": [
    "import sys\n",
    "sys.path.insert(0, '..')\n",
    "\n",
    "from joblib import load\n",
    "\n",
    "import Functions as fxns\n",
    "from Functions import np, pd\n",
    "\n",
    "pd.set_option('display.max_columns', None)\n",
    "pd.set_option('display.max_rows', None)\n",
    "\n",
    "from datetime import timedelta"
   ]
  },
  {
   "cell_type": "markdown",
   "metadata": {},
   "source": [
    "## Claims DF"
   ]
  },
  {
   "cell_type": "code",
   "execution_count": 2,
   "metadata": {},
   "outputs": [],
   "source": [
    "# !python ../Preprocessing.py"
   ]
  },
  {
   "cell_type": "code",
   "execution_count": 3,
   "metadata": {},
   "outputs": [],
   "source": [
    "claims = load('../claims.pkl')"
   ]
  },
  {
   "cell_type": "markdown",
   "metadata": {},
   "source": [
    "### Pre-processing"
   ]
  },
  {
   "cell_type": "code",
   "execution_count": null,
   "metadata": {},
   "outputs": [],
   "source": [
    "# drop ChronicCond_ prefix from applicable cols\n",
    "fxns.drop_chronic_prefix(claims)"
   ]
  },
  {
   "cell_type": "markdown",
   "metadata": {},
   "source": [
    "### New Columns"
   ]
  },
  {
   "cell_type": "code",
   "execution_count": null,
   "metadata": {},
   "outputs": [],
   "source": [
    "claims['AgeAtService'] = ((claims.ClaimStartDt - claims.DOB)\n",
    "                              / timedelta(days=365)).astype(int)\n",
    "claims['HasDied'] = claims.DOD.notna()\n",
    "\n",
    "physician_cols = \\\n",
    "    claims.columns[claims.columns.str.contains('Physician')].to_list()\n",
    "claims['HasAnyPhysician'] = claims[physician_cols].notna().any(axis=1)\n",
    "claims['HasAllPhysicians'] = claims[physician_cols].notna().all(axis=1)\n",
    "\n",
    "claims['ClaimDuration'] = \\\n",
    "    (claims.ClaimEndDt  - claims.ClaimStartDt).dt.days + 1\n",
    "claims['IPDuration'] = \\\n",
    "    (claims.DischargeDt - claims.AdmissionDt).dt.days + 1\n",
    "\n",
    "outpatient_claims = claims.loc[claims.IsOutpatient == 1]\n",
    "inpatient_claims  = claims.loc[claims.IsOutpatient == 0]\n",
    "claims['IPClaimDuration'] = \\\n",
    "    (inpatient_claims.ClaimEndDt\n",
    "     - inpatient_claims.ClaimStartDt).dt.days + 1\n",
    "claims['OPClaimDuration'] = \\\n",
    "    (outpatient_claims.ClaimEndDt\n",
    "     - outpatient_claims.ClaimStartDt).dt.days + 1\n",
    "\n",
    "claims['ClaimCost'] = \\\n",
    "    claims.InscClaimAmtReimbursed + claims.DeductibleAmtPaid\n",
    "claims['PercInsCovered'] = \\\n",
    "    round((claims.InscClaimAmtReimbursed / claims.ClaimCost) * 100)\n",
    "claims['DailyClaimCost'] = \\\n",
    "    round(claims.ClaimCost / claims.ClaimDuration)"
   ]
  },
  {
   "cell_type": "code",
   "execution_count": 4,
   "metadata": {},
   "outputs": [
    {
     "ename": "KeyError",
     "evalue": "'HasDied'",
     "output_type": "error",
     "traceback": [
      "\u001b[1;31m---------------------------------------------------------------------------\u001b[0m",
      "\u001b[1;31mKeyError\u001b[0m                                  Traceback (most recent call last)",
      "\u001b[1;32m~\\anaconda3\\lib\\site-packages\\pandas\\core\\indexes\\base.py\u001b[0m in \u001b[0;36mget_loc\u001b[1;34m(self, key, method, tolerance)\u001b[0m\n\u001b[0;32m   2645\u001b[0m             \u001b[1;32mtry\u001b[0m\u001b[1;33m:\u001b[0m\u001b[1;33m\u001b[0m\u001b[1;33m\u001b[0m\u001b[0m\n\u001b[1;32m-> 2646\u001b[1;33m                 \u001b[1;32mreturn\u001b[0m \u001b[0mself\u001b[0m\u001b[1;33m.\u001b[0m\u001b[0m_engine\u001b[0m\u001b[1;33m.\u001b[0m\u001b[0mget_loc\u001b[0m\u001b[1;33m(\u001b[0m\u001b[0mkey\u001b[0m\u001b[1;33m)\u001b[0m\u001b[1;33m\u001b[0m\u001b[1;33m\u001b[0m\u001b[0m\n\u001b[0m\u001b[0;32m   2647\u001b[0m             \u001b[1;32mexcept\u001b[0m \u001b[0mKeyError\u001b[0m\u001b[1;33m:\u001b[0m\u001b[1;33m\u001b[0m\u001b[1;33m\u001b[0m\u001b[0m\n",
      "\u001b[1;32mpandas\\_libs\\index.pyx\u001b[0m in \u001b[0;36mpandas._libs.index.IndexEngine.get_loc\u001b[1;34m()\u001b[0m\n",
      "\u001b[1;32mpandas\\_libs\\index.pyx\u001b[0m in \u001b[0;36mpandas._libs.index.IndexEngine.get_loc\u001b[1;34m()\u001b[0m\n",
      "\u001b[1;32mpandas\\_libs\\hashtable_class_helper.pxi\u001b[0m in \u001b[0;36mpandas._libs.hashtable.PyObjectHashTable.get_item\u001b[1;34m()\u001b[0m\n",
      "\u001b[1;32mpandas\\_libs\\hashtable_class_helper.pxi\u001b[0m in \u001b[0;36mpandas._libs.hashtable.PyObjectHashTable.get_item\u001b[1;34m()\u001b[0m\n",
      "\u001b[1;31mKeyError\u001b[0m: 'HasDied'",
      "\nDuring handling of the above exception, another exception occurred:\n",
      "\u001b[1;31mKeyError\u001b[0m                                  Traceback (most recent call last)",
      "\u001b[1;32m<ipython-input-4-0297087cd267>\u001b[0m in \u001b[0;36m<module>\u001b[1;34m\u001b[0m\n\u001b[0;32m      1\u001b[0m \u001b[1;31m# encode bool colums to 0/1\u001b[0m\u001b[1;33m\u001b[0m\u001b[1;33m\u001b[0m\u001b[1;33m\u001b[0m\u001b[0m\n\u001b[0;32m      2\u001b[0m fxns.re_encode_bool(claims,\n\u001b[1;32m----> 3\u001b[1;33m     ['HasDied', 'HasAnyPhysician', 'HasAllPhysicians'])\n\u001b[0m",
      "\u001b[1;32m~\\Documents\\Coding\\NYCDSA\\Healthcare_Fraud\\Functions.py\u001b[0m in \u001b[0;36mre_encode_bool\u001b[1;34m(df, cols)\u001b[0m\n\u001b[0;32m    200\u001b[0m     '''\n\u001b[0;32m    201\u001b[0m     \u001b[1;32mfor\u001b[0m \u001b[0mcol\u001b[0m \u001b[1;32min\u001b[0m \u001b[0mcols\u001b[0m\u001b[1;33m:\u001b[0m\u001b[1;33m\u001b[0m\u001b[1;33m\u001b[0m\u001b[0m\n\u001b[1;32m--> 202\u001b[1;33m         \u001b[0mdf\u001b[0m\u001b[1;33m.\u001b[0m\u001b[0mloc\u001b[0m\u001b[1;33m[\u001b[0m\u001b[0mdf\u001b[0m\u001b[1;33m[\u001b[0m\u001b[0mcol\u001b[0m\u001b[1;33m]\u001b[0m \u001b[1;33m==\u001b[0m \u001b[1;32mFalse\u001b[0m\u001b[1;33m,\u001b[0m \u001b[0mcol\u001b[0m\u001b[1;33m]\u001b[0m \u001b[1;33m=\u001b[0m \u001b[1;36m0\u001b[0m\u001b[1;33m\u001b[0m\u001b[1;33m\u001b[0m\u001b[0m\n\u001b[0m\u001b[0;32m    203\u001b[0m         \u001b[0mdf\u001b[0m\u001b[1;33m.\u001b[0m\u001b[0mloc\u001b[0m\u001b[1;33m[\u001b[0m\u001b[0mdf\u001b[0m\u001b[1;33m[\u001b[0m\u001b[0mcol\u001b[0m\u001b[1;33m]\u001b[0m \u001b[1;33m==\u001b[0m \u001b[1;32mTrue\u001b[0m\u001b[1;33m,\u001b[0m \u001b[0mcol\u001b[0m\u001b[1;33m]\u001b[0m  \u001b[1;33m=\u001b[0m \u001b[1;36m1\u001b[0m\u001b[1;33m\u001b[0m\u001b[1;33m\u001b[0m\u001b[0m\n\u001b[0;32m    204\u001b[0m \u001b[1;33m\u001b[0m\u001b[0m\n",
      "\u001b[1;32m~\\anaconda3\\lib\\site-packages\\pandas\\core\\frame.py\u001b[0m in \u001b[0;36m__getitem__\u001b[1;34m(self, key)\u001b[0m\n\u001b[0;32m   2798\u001b[0m             \u001b[1;32mif\u001b[0m \u001b[0mself\u001b[0m\u001b[1;33m.\u001b[0m\u001b[0mcolumns\u001b[0m\u001b[1;33m.\u001b[0m\u001b[0mnlevels\u001b[0m \u001b[1;33m>\u001b[0m \u001b[1;36m1\u001b[0m\u001b[1;33m:\u001b[0m\u001b[1;33m\u001b[0m\u001b[1;33m\u001b[0m\u001b[0m\n\u001b[0;32m   2799\u001b[0m                 \u001b[1;32mreturn\u001b[0m \u001b[0mself\u001b[0m\u001b[1;33m.\u001b[0m\u001b[0m_getitem_multilevel\u001b[0m\u001b[1;33m(\u001b[0m\u001b[0mkey\u001b[0m\u001b[1;33m)\u001b[0m\u001b[1;33m\u001b[0m\u001b[1;33m\u001b[0m\u001b[0m\n\u001b[1;32m-> 2800\u001b[1;33m             \u001b[0mindexer\u001b[0m \u001b[1;33m=\u001b[0m \u001b[0mself\u001b[0m\u001b[1;33m.\u001b[0m\u001b[0mcolumns\u001b[0m\u001b[1;33m.\u001b[0m\u001b[0mget_loc\u001b[0m\u001b[1;33m(\u001b[0m\u001b[0mkey\u001b[0m\u001b[1;33m)\u001b[0m\u001b[1;33m\u001b[0m\u001b[1;33m\u001b[0m\u001b[0m\n\u001b[0m\u001b[0;32m   2801\u001b[0m             \u001b[1;32mif\u001b[0m \u001b[0mis_integer\u001b[0m\u001b[1;33m(\u001b[0m\u001b[0mindexer\u001b[0m\u001b[1;33m)\u001b[0m\u001b[1;33m:\u001b[0m\u001b[1;33m\u001b[0m\u001b[1;33m\u001b[0m\u001b[0m\n\u001b[0;32m   2802\u001b[0m                 \u001b[0mindexer\u001b[0m \u001b[1;33m=\u001b[0m \u001b[1;33m[\u001b[0m\u001b[0mindexer\u001b[0m\u001b[1;33m]\u001b[0m\u001b[1;33m\u001b[0m\u001b[1;33m\u001b[0m\u001b[0m\n",
      "\u001b[1;32m~\\anaconda3\\lib\\site-packages\\pandas\\core\\indexes\\base.py\u001b[0m in \u001b[0;36mget_loc\u001b[1;34m(self, key, method, tolerance)\u001b[0m\n\u001b[0;32m   2646\u001b[0m                 \u001b[1;32mreturn\u001b[0m \u001b[0mself\u001b[0m\u001b[1;33m.\u001b[0m\u001b[0m_engine\u001b[0m\u001b[1;33m.\u001b[0m\u001b[0mget_loc\u001b[0m\u001b[1;33m(\u001b[0m\u001b[0mkey\u001b[0m\u001b[1;33m)\u001b[0m\u001b[1;33m\u001b[0m\u001b[1;33m\u001b[0m\u001b[0m\n\u001b[0;32m   2647\u001b[0m             \u001b[1;32mexcept\u001b[0m \u001b[0mKeyError\u001b[0m\u001b[1;33m:\u001b[0m\u001b[1;33m\u001b[0m\u001b[1;33m\u001b[0m\u001b[0m\n\u001b[1;32m-> 2648\u001b[1;33m                 \u001b[1;32mreturn\u001b[0m \u001b[0mself\u001b[0m\u001b[1;33m.\u001b[0m\u001b[0m_engine\u001b[0m\u001b[1;33m.\u001b[0m\u001b[0mget_loc\u001b[0m\u001b[1;33m(\u001b[0m\u001b[0mself\u001b[0m\u001b[1;33m.\u001b[0m\u001b[0m_maybe_cast_indexer\u001b[0m\u001b[1;33m(\u001b[0m\u001b[0mkey\u001b[0m\u001b[1;33m)\u001b[0m\u001b[1;33m)\u001b[0m\u001b[1;33m\u001b[0m\u001b[1;33m\u001b[0m\u001b[0m\n\u001b[0m\u001b[0;32m   2649\u001b[0m         \u001b[0mindexer\u001b[0m \u001b[1;33m=\u001b[0m \u001b[0mself\u001b[0m\u001b[1;33m.\u001b[0m\u001b[0mget_indexer\u001b[0m\u001b[1;33m(\u001b[0m\u001b[1;33m[\u001b[0m\u001b[0mkey\u001b[0m\u001b[1;33m]\u001b[0m\u001b[1;33m,\u001b[0m \u001b[0mmethod\u001b[0m\u001b[1;33m=\u001b[0m\u001b[0mmethod\u001b[0m\u001b[1;33m,\u001b[0m \u001b[0mtolerance\u001b[0m\u001b[1;33m=\u001b[0m\u001b[0mtolerance\u001b[0m\u001b[1;33m)\u001b[0m\u001b[1;33m\u001b[0m\u001b[1;33m\u001b[0m\u001b[0m\n\u001b[0;32m   2650\u001b[0m         \u001b[1;32mif\u001b[0m \u001b[0mindexer\u001b[0m\u001b[1;33m.\u001b[0m\u001b[0mndim\u001b[0m \u001b[1;33m>\u001b[0m \u001b[1;36m1\u001b[0m \u001b[1;32mor\u001b[0m \u001b[0mindexer\u001b[0m\u001b[1;33m.\u001b[0m\u001b[0msize\u001b[0m \u001b[1;33m>\u001b[0m \u001b[1;36m1\u001b[0m\u001b[1;33m:\u001b[0m\u001b[1;33m\u001b[0m\u001b[1;33m\u001b[0m\u001b[0m\n",
      "\u001b[1;32mpandas\\_libs\\index.pyx\u001b[0m in \u001b[0;36mpandas._libs.index.IndexEngine.get_loc\u001b[1;34m()\u001b[0m\n",
      "\u001b[1;32mpandas\\_libs\\index.pyx\u001b[0m in \u001b[0;36mpandas._libs.index.IndexEngine.get_loc\u001b[1;34m()\u001b[0m\n",
      "\u001b[1;32mpandas\\_libs\\hashtable_class_helper.pxi\u001b[0m in \u001b[0;36mpandas._libs.hashtable.PyObjectHashTable.get_item\u001b[1;34m()\u001b[0m\n",
      "\u001b[1;32mpandas\\_libs\\hashtable_class_helper.pxi\u001b[0m in \u001b[0;36mpandas._libs.hashtable.PyObjectHashTable.get_item\u001b[1;34m()\u001b[0m\n",
      "\u001b[1;31mKeyError\u001b[0m: 'HasDied'"
     ]
    }
   ],
   "source": [
    "# encode bool colums to 0/1\n",
    "fxns.re_encode_bool(claims,\n",
    "    ['HasDied', 'HasAnyPhysician', 'HasAllPhysicians'])"
   ]
  },
  {
   "cell_type": "code",
   "execution_count": null,
   "metadata": {},
   "outputs": [],
   "source": [
    "# add date cols containing only day, week, year for each column\n",
    "fxns.split_date(claims, ['ClaimStartDt', 'ClaimEndDt',\n",
    "                         'AdmissionDt', 'DischargeDt'])"
   ]
  },
  {
   "cell_type": "code",
   "execution_count": null,
   "metadata": {},
   "outputs": [],
   "source": [
    "# number of claims per beneficiary\n",
    "claims = fxns.add_count_per_col(\n",
    "    claims, 'BeneID', 'ClaimID', 'ClaimsPerBene')\n",
    "\n",
    "# number of claims per attending\n",
    "claims = fxns.add_count_per_col(\n",
    "    claims, 'AttendingPhysician', 'ClaimID', 'ClaimsPerAttendingPhysician')\n",
    "\n",
    "# number of claims per operating\n",
    "claims = fxns.add_count_per_col(\n",
    "    claims, 'OperatingPhysician', 'ClaimID', 'ClaimsPerOperatingPhysician')\n",
    "\n",
    "# number of claims per otherphys\n",
    "claims = fxns.add_count_per_col(\n",
    "    claims, 'OtherPhysician', 'ClaimID', 'ClaimsPerOtherPhysician')"
   ]
  },
  {
   "cell_type": "code",
   "execution_count": null,
   "metadata": {},
   "outputs": [],
   "source": [
    "def add_summary_col(groupby_col, mean_col, newcol1, newcol2):\n",
    "    outpatient_claims = claims.loc[claims.IsOutpatient == 1]\n",
    "    inpatient_claims  = claims.loc[claims.IsOutpatient == 0]\n",
    "    \n",
    "    ip = fxns.add_mean_per_col(\n",
    "        inpatient_claims, groupby_col, mean_col, newcol1)\n",
    "    op = fxns.add_mean_per_col(\n",
    "        outpatient_claims, groupby_col, mean_col, newcol2)\n",
    "    \n",
    "    expanded_claims = pd.concat([ip, op])\n",
    "    return expanded_claims\n",
    "\n",
    "claims = add_summary_col('BeneID', 'InscClaimAmtReimbursed',\n",
    "                         'Reimb_perIP', 'Reimb_perOP')\n",
    "claims = add_summary_col('BeneID', 'DeductibleAmtPaid',\n",
    "                         'Deductible_perIP', 'Deductible_perOP')\n",
    "claims = add_summary_col('BeneID', 'PercInsCovered',\n",
    "                         'PercInsCovered_perIP', 'PercInsCovered_perOP')\n",
    "claims = add_summary_col('BeneID', 'DailyClaimCost',\n",
    "                         'DailyClaimCost_perIP', 'DailyClaimCost_perOP')\n",
    "\n",
    "chronic_cols = \\\n",
    "    claims.columns[claims.columns.str.contains('Chronic')].to_list()\n",
    "for col in chronic_cols:\n",
    "    claims = \\\n",
    "        add_summary_col('BeneID', col, f'{col}_perIP', f'{col}_perOP')\n",
    "\n",
    "# # Mean chronic conditions for inpatients/outpatients\n",
    "\n",
    "# # Number of states for inpatient/outpatient\n",
    "# inpatient_claims = fxns.add_count_per_col(\n",
    "#     inpatient_claims, 'BeneID', 'State', 'State_perIP')\n",
    "# outpatient_claims = fxns.add_count_per_col(\n",
    "#     outpatient_claims, 'BeneID', 'State', 'State_perOP')\n",
    "# claims = pd.concat([inpatient_claims, outpatient_claims])"
   ]
  },
  {
   "cell_type": "markdown",
   "metadata": {},
   "source": [
    "### More Pre-processing"
   ]
  },
  {
   "cell_type": "code",
   "execution_count": null,
   "metadata": {},
   "outputs": [],
   "source": [
    "# change applicable cols to dtype category\n",
    "fxns.to_category_dtype(claims)"
   ]
  },
  {
   "cell_type": "markdown",
   "metadata": {},
   "source": [
    "### Variables"
   ]
  },
  {
   "cell_type": "code",
   "execution_count": null,
   "metadata": {},
   "outputs": [],
   "source": [
    "# lists:\n",
    "numeric_cols     = fxns.cols_by_dtype(claims)[0]\n",
    "categorical_cols = fxns.cols_by_dtype(claims)[1]\n",
    "date_cols        = fxns.cols_by_dtype(claims)[2]\n",
    "physician_cols   = \\\n",
    "    claims.columns[claims.columns.str.contains('Physician')].to_list()\n",
    "chronic_cols     = \\\n",
    "    claims.columns[claims.columns.str.contains('Chronic')].to_list()\n",
    "diagnosis_cols   = \\\n",
    "    claims.columns[claims.columns.str.contains('Diagnosis')].to_list()\n",
    "procedure_cols   = \\\n",
    "    claims.columns[claims.columns.str.contains('Procedure')].to_list()\n",
    "\n",
    "# dataframes:\n",
    "outpatient_claims = claims.loc[claims.IsOutpatient == 1]\n",
    "inpatient_claims  = claims.loc[claims.IsOutpatient == 0]"
   ]
  },
  {
   "cell_type": "code",
   "execution_count": null,
   "metadata": {},
   "outputs": [],
   "source": [
    "# print(claims.columns, '\\n')\n",
    "\n",
    "# Can't use, but have IPDuration count/mean/sum:\n",
    "#     'AdmissionDt', 'AdmissionDt_Week',\n",
    "#     'DischargeDt', 'DischargeDt_Week'\n",
    "\n",
    "# Can't use, but have ClaimDuration count/mean/sum:\n",
    "#     'ClaimEndDt', 'ClaimEndDt_Week', 'ClaimID'\n",
    "#     'ClaimStartDt', 'ClaimStartDt_Week',\n",
    "\n",
    "\n",
    "# Can't use, but have AgeAtService mean/sum and HasDied sum/ratio:\n",
    "#     'DOB', 'DOD'"
   ]
  },
  {
   "cell_type": "markdown",
   "metadata": {},
   "source": [
    "### Summary Data"
   ]
  },
  {
   "cell_type": "code",
   "execution_count": null,
   "metadata": {},
   "outputs": [],
   "source": [
    "outpatient_claims = claims.loc[claims.IsOutpatient == 1]\n",
    "inpatient_claims  = claims.loc[claims.IsOutpatient == 0]"
   ]
  },
  {
   "cell_type": "code",
   "execution_count": null,
   "metadata": {},
   "outputs": [],
   "source": [
    "groupby_providers   = claims.groupby('Provider')"
   ]
  },
  {
   "cell_type": "code",
   "execution_count": null,
   "metadata": {},
   "outputs": [],
   "source": [
    "mean_by_provider    = \\\n",
    "    groupby_providers.mean().round(2).add_suffix('_mean').reset_index()"
   ]
  },
  {
   "cell_type": "code",
   "execution_count": null,
   "metadata": {},
   "outputs": [],
   "source": [
    "# need conditions by ratio, not count\n",
    "chronic_by_provider = claims[['Provider'] + chronic_cols\n",
    "    ].groupby('Provider').sum().add_suffix('_count').reset_index()"
   ]
  },
  {
   "cell_type": "code",
   "execution_count": null,
   "metadata": {},
   "outputs": [],
   "source": [
    "providers = pd.merge(mean_by_provider, chronic_by_provider, on='Provider')\n",
    "providers.sort_index(axis=1, inplace=True)"
   ]
  },
  {
   "cell_type": "code",
   "execution_count": null,
   "metadata": {
    "scrolled": true
   },
   "outputs": [],
   "source": [
    "print(providers.shape, '\\n')\n",
    "print(providers.columns)\n",
    "providers.sample(5)"
   ]
  },
  {
   "cell_type": "code",
   "execution_count": null,
   "metadata": {},
   "outputs": [],
   "source": [
    "chronic_cols"
   ]
  },
  {
   "cell_type": "markdown",
   "metadata": {},
   "source": [
    "## New Columns"
   ]
  },
  {
   "cell_type": "markdown",
   "metadata": {},
   "source": [
    "### Beneficiaries"
   ]
  },
  {
   "cell_type": "code",
   "execution_count": null,
   "metadata": {},
   "outputs": [],
   "source": [
    "# providers['IPClaims_count'] = \\\n",
    "#     inpatient_claims.groupby('Provider').IsOutpatient.count().values\n",
    "# providers['OPClaims_count'] = \\\n",
    "#     outpatient_claims.groupby('Provider').IsOutpatient.count().values\n",
    "\n",
    "# Ratio of inpatient claims can be determined from the above - do we need a separate col for it?"
   ]
  },
  {
   "cell_type": "code",
   "execution_count": null,
   "metadata": {},
   "outputs": [],
   "source": [
    "def binary_percentages(df, col, group1, group2):\n",
    "    '''\n",
    "    Adds a new column to a df that lists the ratio of one value from a\n",
    "    binary column in the same df. (The ratio of the other value in the\n",
    "    binary column is the inverse.)\n",
    "    \n",
    "    Arguments: A single dataframe.\n",
    "    \n",
    "    Output: None.\n",
    "    \n",
    "    Returns: Dataframe altered in place.\n",
    "    '''\n",
    "    by_provider = df.groupby(['Provider', col]\n",
    "                            ).ClaimID.count().reset_index()\n",
    "\n",
    "    colname = pd.DataFrame()\n",
    "    colname[group1] = by_provider[by_provider[col] == 1].ClaimID.to_list()\n",
    "    colname[group2] = by_provider[by_provider[col] == 0].ClaimID.to_list()\n",
    "    \n",
    "    newcolname1 = f'{group1}_perc'\n",
    "    \n",
    "    providers[newcolname1] = round(\n",
    "        (colname[group1] / (colname[group1] + colname[group2])) * 100, 2)"
   ]
  },
  {
   "cell_type": "code",
   "execution_count": null,
   "metadata": {},
   "outputs": [],
   "source": [
    "binary_percentages(claims, 'Gender', 'GenderZero', 'GenderOne')\n",
    "binary_percentages(claims, 'RenalDisease', 'HasRenalDisease', 'NotRenalDisease')\n",
    "binary_percentages(claims, 'HasDied', 'HasDied', 'NotDead')"
   ]
  },
  {
   "cell_type": "code",
   "execution_count": null,
   "metadata": {},
   "outputs": [],
   "source": [
    "race_by_provider = \\\n",
    "    claims.groupby(['Provider', 'Race']).ClaimID.count().reset_index()\n",
    "\n",
    "race = pd.DataFrame()\n",
    "race['race1'] = race_by_provider[race_by_provider.Race == 1\n",
    "                                ].ClaimID.to_list()\n",
    "race['race0'] = race_by_provider[race_by_provider.Race == 0\n",
    "                                ].ClaimID.to_list()\n",
    "race['race3'] = race_by_provider[race_by_provider.Race == 3\n",
    "                                ].ClaimID.to_list()\n",
    "race['race5'] = race_by_provider[race_by_provider.Race == 5\n",
    "                                ].ClaimID.to_list()\n",
    "\n",
    "providers['RaceZero_perc']  = round(\n",
    "    (race.race0 / np.sum(race, axis=1) * 100), 2)\n",
    "providers['RaceThree_perc'] = round(\n",
    "    (race.race3 / np.sum(race, axis=1) * 100), 2)\n",
    "providers['RaceFive_perc']  = round(\n",
    "    (race.race5 / np.sum(race, axis=1) * 100), 2)"
   ]
  },
  {
   "cell_type": "code",
   "execution_count": null,
   "metadata": {},
   "outputs": [],
   "source": [
    "# DO WE WANT CHRONIC CONDITION RATIOS? WHY/WHY NOT?\n",
    "# Ratio of inpatients with top 5 frequent chronic disease (from PotentialFraud)\n",
    "# Ratio of outpatients with top 5 frequent chronic disease (from PotentialFraud)"
   ]
  },
  {
   "cell_type": "code",
   "execution_count": null,
   "metadata": {
    "scrolled": false
   },
   "outputs": [],
   "source": [
    "ratio_cols = providers.columns[providers.columns.str.contains('_perc')\n",
    "                              ].to_list()\n",
    "providers[ratio_cols].sample(5).iloc[:,-5:]"
   ]
  },
  {
   "cell_type": "markdown",
   "metadata": {},
   "source": [
    "### Inpatients/Outpatiens"
   ]
  },
  {
   "cell_type": "code",
   "execution_count": null,
   "metadata": {},
   "outputs": [],
   "source": [
    "binary_percentages(claims, 'IsOutpatient', 'IsOutpatient', 'Inpatient')"
   ]
  },
  {
   "cell_type": "code",
   "execution_count": null,
   "metadata": {},
   "outputs": [],
   "source": [
    "# Whether the provider serves both in/out patients\n",
    "# Based on providers.IsOutpatient_ratio, do we need this?"
   ]
  },
  {
   "cell_type": "markdown",
   "metadata": {},
   "source": [
    "### Doctors"
   ]
  },
  {
   "cell_type": "code",
   "execution_count": null,
   "metadata": {
    "scrolled": true
   },
   "outputs": [],
   "source": [
    "binary_percentages(claims, 'HasAnyPhysician', 'HasAnyPhysician', 'HasNoPhysician')\n",
    "binary_percentages(claims, 'HasAllPhysicians', 'HasAllPhysicians', 'HasSomePhysicians')"
   ]
  },
  {
   "cell_type": "markdown",
   "metadata": {},
   "source": [
    "### Codes"
   ]
  },
  {
   "cell_type": "code",
   "execution_count": null,
   "metadata": {},
   "outputs": [],
   "source": []
  },
  {
   "cell_type": "markdown",
   "metadata": {},
   "source": [
    "### Money"
   ]
  },
  {
   "cell_type": "code",
   "execution_count": null,
   "metadata": {},
   "outputs": [],
   "source": []
  },
  {
   "cell_type": "markdown",
   "metadata": {},
   "source": [
    "### Time"
   ]
  },
  {
   "cell_type": "code",
   "execution_count": null,
   "metadata": {},
   "outputs": [],
   "source": []
  },
  {
   "cell_type": "markdown",
   "metadata": {},
   "source": [
    "### Location"
   ]
  },
  {
   "cell_type": "markdown",
   "metadata": {},
   "source": [
    "### Size"
   ]
  },
  {
   "cell_type": "markdown",
   "metadata": {},
   "source": [
    "## MISC/NOTES"
   ]
  },
  {
   "cell_type": "code",
   "execution_count": null,
   "metadata": {},
   "outputs": [],
   "source": [
    "providers.columns#[providers.columns.str.contains('Chronic')].to_list()\n",
    "providers.sample(10)"
   ]
  },
  {
   "cell_type": "code",
   "execution_count": null,
   "metadata": {},
   "outputs": [],
   "source": [
    "# Ratio of attending physicians serving for different hospitals (75% threshold)\n",
    "# Ratio of operating physicians serving for different hospitals (75% threshold)\n",
    "# Ratio of other physicians serving for different hospitals (75% threshold)\n",
    "# Ratio of inpatients going to different hospitals (75% threshold)\n",
    "# Ratio of outpatients going to different hospitals (75% threshold)\n",
    "\n",
    "\n",
    "# MBA, imbalanced data sets, classification modeling"
   ]
  }
 ],
 "metadata": {
  "kernelspec": {
   "display_name": "Python 3",
   "language": "python",
   "name": "python3"
  },
  "language_info": {
   "codemirror_mode": {
    "name": "ipython",
    "version": 3
   },
   "file_extension": ".py",
   "mimetype": "text/x-python",
   "name": "python",
   "nbconvert_exporter": "python",
   "pygments_lexer": "ipython3",
   "version": "3.7.6"
  },
  "toc": {
   "base_numbering": 1,
   "nav_menu": {},
   "number_sections": true,
   "sideBar": true,
   "skip_h1_title": true,
   "title_cell": "Table of Contents",
   "title_sidebar": "Contents",
   "toc_cell": false,
   "toc_position": {
    "height": "calc(100% - 180px)",
    "left": "10px",
    "top": "150px",
    "width": "165px"
   },
   "toc_section_display": true,
   "toc_window_display": true
  }
 },
 "nbformat": 4,
 "nbformat_minor": 4
}
