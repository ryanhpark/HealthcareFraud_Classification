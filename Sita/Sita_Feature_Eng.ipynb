{
 "cells": [
  {
   "cell_type": "markdown",
   "metadata": {},
   "source": [
    "## Setup and Data Import"
   ]
  },
  {
   "cell_type": "code",
   "execution_count": 1,
   "metadata": {},
   "outputs": [],
   "source": [
    "import sys\n",
    "sys.path.insert(0, '..')\n",
    "\n",
    "from joblib import load\n",
    "\n",
    "import Sita_Functions as fxns\n",
    "from Sita_Functions import np, pd\n",
    "\n",
    "pd.set_option('display.max_columns', None)\n",
    "pd.set_option('display.max_rows', None)\n",
    "\n",
    "from datetime import timedelta"
   ]
  },
  {
   "cell_type": "markdown",
   "metadata": {},
   "source": [
    "## Claims DF"
   ]
  },
  {
   "cell_type": "code",
   "execution_count": 2,
   "metadata": {},
   "outputs": [],
   "source": [
    "# !python Sita_Preprocessing.py"
   ]
  },
  {
   "cell_type": "code",
   "execution_count": 3,
   "metadata": {},
   "outputs": [],
   "source": [
    "claims = load('claims.pkl')"
   ]
  },
  {
   "cell_type": "markdown",
   "metadata": {},
   "source": [
    "### New Columns"
   ]
  },
  {
   "cell_type": "code",
   "execution_count": 4,
   "metadata": {},
   "outputs": [],
   "source": [
    "claims['AgeAtService'] = ( (claims.ClaimStartDt - claims.DOB)\n",
    "                           / timedelta(days=365) ).astype(int)\n",
    "\n",
    "claims['HasDied'] = claims.DOD.notna()\n",
    "claims.loc[claims.HasDied == True, 'HasDied'] = 1\n",
    "claims.loc[claims.HasDied == False, 'HasDied'] = 0\n",
    "claims.HasDied = claims.HasDied.astype('category')\n",
    "\n",
    "claims['ClaimCost'] = claims.InscClaimAmtReimbursed + claims.DeductibleAmtPaid\n",
    "\n",
    "claims['IPDuration'] = (claims.DischargeDt - claims.AdmissionDt).dt.days\n",
    "\n",
    "claims['ClaimDuration'] = (claims.ClaimEndDt - claims.ClaimStartDt).dt.days"
   ]
  },
  {
   "cell_type": "markdown",
   "metadata": {},
   "source": [
    "### Variables"
   ]
  },
  {
   "cell_type": "code",
   "execution_count": 5,
   "metadata": {},
   "outputs": [],
   "source": [
    "numeric_cols     = fxns.cols_by_dtype(claims)[0]\n",
    "categorical_cols = fxns.cols_by_dtype(claims)[1]\n",
    "date_cols        = fxns.cols_by_dtype(claims)[2]\n",
    "\n",
    "physician_cols = claims.columns[claims.columns.str.contains('Physician')].to_list()\n",
    "chronic_cols   = claims.columns[claims.columns.str.contains('Chronic')].to_list()\n",
    "diagnosis_cols = claims.columns[claims.columns.str.contains('Diagnosis')].to_list()\n",
    "procedure_cols = claims.columns[claims.columns.str.contains('Procedure')].to_list()"
   ]
  },
  {
   "cell_type": "code",
   "execution_count": 6,
   "metadata": {},
   "outputs": [],
   "source": [
    "outpatient_claims = claims.loc[claims.IsOutpatient == 1]\n",
    "inpatient_claims  = claims.loc[claims.IsOutpatient == 0]"
   ]
  },
  {
   "cell_type": "markdown",
   "metadata": {},
   "source": [
    "### Summary Data"
   ]
  },
  {
   "cell_type": "code",
   "execution_count": 7,
   "metadata": {},
   "outputs": [],
   "source": [
    "groupby_providers = claims.groupby('Provider')"
   ]
  },
  {
   "cell_type": "code",
   "execution_count": 8,
   "metadata": {},
   "outputs": [],
   "source": [
    "mean_by_provider  = groupby_providers.mean().add_suffix('_mean').reset_index()"
   ]
  },
  {
   "cell_type": "code",
   "execution_count": 9,
   "metadata": {},
   "outputs": [],
   "source": [
    "sum_by_provider   = groupby_providers.sum().add_suffix('_sum').reset_index()"
   ]
  },
  {
   "cell_type": "code",
   "execution_count": 10,
   "metadata": {},
   "outputs": [],
   "source": [
    "chronic_by_provider = claims[['Provider'] + chronic_cols].groupby('Provider').sum().reset_index()"
   ]
  },
  {
   "cell_type": "code",
   "execution_count": 11,
   "metadata": {},
   "outputs": [],
   "source": [
    "# need to get unique counts\n",
    "count_by_provider = groupby_providers[\n",
    "    ['BeneID', 'ClaimID', 'County', 'State', 'IPDuration']\n",
    "    + physician_cols + diagnosis_cols + procedure_cols\n",
    "    ].count().add_suffix('_count').reset_index()"
   ]
  },
  {
   "cell_type": "code",
   "execution_count": 12,
   "metadata": {},
   "outputs": [],
   "source": [
    "providers = pd.merge(mean_by_provider, sum_by_provider, on='Provider')\n",
    "providers = pd.merge(providers, count_by_provider, on='Provider')\n",
    "providers = pd.merge(providers, chronic_by_provider, on='Provider')\n",
    "providers.sort_index(axis=1, inplace=True)"
   ]
  },
  {
   "cell_type": "code",
   "execution_count": 13,
   "metadata": {},
   "outputs": [
    {
     "name": "stdout",
     "output_type": "stream",
     "text": [
      "(5410, 62) \n",
      "\n",
      "Index(['AdmissionDt', 'AdmissionDt_Week', 'AgeAtService', 'Alzheimers_Chronic',\n",
      "       'AttendingPhysician', 'BeneID', 'Cancer_Chronic', 'ClaimCost',\n",
      "       'ClaimDuration', 'ClaimEndDt', 'ClaimEndDt_Week', 'ClaimID',\n",
      "       'ClaimStartDt', 'ClaimStartDt_Week', 'ClmAdmitDiagnosisCode',\n",
      "       'ClmDiagnosisCode_1', 'ClmDiagnosisCode_10', 'ClmDiagnosisCode_2',\n",
      "       'ClmDiagnosisCode_3', 'ClmDiagnosisCode_4', 'ClmDiagnosisCode_5',\n",
      "       'ClmDiagnosisCode_6', 'ClmDiagnosisCode_7', 'ClmDiagnosisCode_8',\n",
      "       'ClmDiagnosisCode_9', 'ClmProcedureCode_1', 'ClmProcedureCode_2',\n",
      "       'ClmProcedureCode_3', 'ClmProcedureCode_4', 'ClmProcedureCode_5',\n",
      "       'ClmProcedureCode_6', 'County', 'DOB', 'DOD', 'DeductibleAmtPaid',\n",
      "       'Depression_Chronic', 'Diabetes_Chronic', 'DiagnosisGroupCode',\n",
      "       'DischargeDt', 'DischargeDt_Week', 'Gender', 'HasDied',\n",
      "       'HeartFailure_Chronic', 'IPAnnualDeductibleAmt',\n",
      "       'IPAnnualReimbursementAmt', 'IPDuration', 'InscClaimAmtReimbursed',\n",
      "       'IsOutpatient', 'IschemicHeart_Chronic', 'KidneyDisease_Chronic',\n",
      "       'NoOfMonths_PartACov', 'NoOfMonths_PartBCov', 'OPAnnualDeductibleAmt',\n",
      "       'OPAnnualReimbursementAmt', 'ObstrPulmonary_Chronic',\n",
      "       'OperatingPhysician', 'Osteoporosis_Chronic', 'OtherPhysician',\n",
      "       'PotentialFraud', 'Provider', 'Race', 'RenalDisease',\n",
      "       'RheumatoidArthritis_Chronic', 'State', 'Stroke_Chronic'],\n",
      "      dtype='object') \n",
      "\n",
      "Index(['AgeAtService_mean', 'AgeAtService_sum', 'Alzheimers_Chronic',\n",
      "       'AttendingPhysician_count', 'BeneID_count', 'Cancer_Chronic',\n",
      "       'ClaimCost_mean', 'ClaimCost_sum', 'ClaimDuration_mean',\n",
      "       'ClaimDuration_sum', 'ClaimID_count', 'ClmAdmitDiagnosisCode_count',\n",
      "       'ClmDiagnosisCode_10_count', 'ClmDiagnosisCode_1_count',\n",
      "       'ClmDiagnosisCode_2_count', 'ClmDiagnosisCode_3_count',\n",
      "       'ClmDiagnosisCode_4_count', 'ClmDiagnosisCode_5_count',\n",
      "       'ClmDiagnosisCode_6_count', 'ClmDiagnosisCode_7_count',\n",
      "       'ClmDiagnosisCode_8_count', 'ClmDiagnosisCode_9_count',\n",
      "       'ClmProcedureCode_1_count', 'ClmProcedureCode_2_count',\n",
      "       'ClmProcedureCode_3_count', 'ClmProcedureCode_4_count',\n",
      "       'ClmProcedureCode_5_count', 'ClmProcedureCode_6_count', 'County_count',\n",
      "       'DeductibleAmtPaid_mean', 'DeductibleAmtPaid_sum', 'Depression_Chronic',\n",
      "       'Diabetes_Chronic', 'DiagnosisGroupCode_count', 'HeartFailure_Chronic',\n",
      "       'IPAnnualDeductibleAmt_mean', 'IPAnnualDeductibleAmt_sum',\n",
      "       'IPAnnualReimbursementAmt_mean', 'IPAnnualReimbursementAmt_sum',\n",
      "       'IPDuration_count', 'IPDuration_mean', 'IPDuration_sum',\n",
      "       'InscClaimAmtReimbursed_mean', 'InscClaimAmtReimbursed_sum',\n",
      "       'IschemicHeart_Chronic', 'KidneyDisease_Chronic',\n",
      "       'NoOfMonths_PartACov_mean', 'NoOfMonths_PartACov_sum',\n",
      "       'NoOfMonths_PartBCov_mean', 'NoOfMonths_PartBCov_sum',\n",
      "       'OPAnnualDeductibleAmt_mean', 'OPAnnualDeductibleAmt_sum',\n",
      "       'OPAnnualReimbursementAmt_mean', 'OPAnnualReimbursementAmt_sum',\n",
      "       'ObstrPulmonary_Chronic', 'OperatingPhysician_count',\n",
      "       'Osteoporosis_Chronic', 'OtherPhysician_count', 'Provider',\n",
      "       'RheumatoidArthritis_Chronic', 'State_count', 'Stroke_Chronic'],\n",
      "      dtype='object')\n"
     ]
    }
   ],
   "source": [
    "print(providers.shape, '\\n')\n",
    "print(claims.columns.sort_values(), '\\n')\n",
    "print(providers.columns)"
   ]
  },
  {
   "cell_type": "code",
   "execution_count": 14,
   "metadata": {},
   "outputs": [],
   "source": [
    "# Can't use, but have IPDuration count/mean/sum:\n",
    "#     'AdmissionDt', 'AdmissionDt_Week', 'DischargeDt', 'DischargeDt_Week'\n",
    "\n",
    "# Can't use, but have ClaimDuration count/mean/sum:\n",
    "#     'ClaimEndDt', 'ClaimEndDt_Week', 'ClaimStartDt', 'ClaimStartDt_Week',\n",
    "\n",
    "# Can't use, but have AgeAtService mean/sum and HasDied sum/ratio: 'DOB', 'DOD'"
   ]
  },
  {
   "cell_type": "markdown",
   "metadata": {},
   "source": [
    "## New Columns"
   ]
  },
  {
   "cell_type": "markdown",
   "metadata": {},
   "source": [
    "### Beneficiaries"
   ]
  },
  {
   "cell_type": "code",
   "execution_count": 15,
   "metadata": {},
   "outputs": [],
   "source": [
    "def binary_ratios(df, col, group1, group2):\n",
    "    by_provider = df.groupby(['Provider', col]).ClaimID.count().reset_index()\n",
    "\n",
    "    colname = pd.DataFrame()\n",
    "    colname[group1] = by_provider[by_provider[col] == 1].ClaimID.to_list()\n",
    "    colname[group2] = by_provider[by_provider[col] == 0].ClaimID.to_list()\n",
    "    \n",
    "    newcolname1 = f'{group1}_ratio'\n",
    "    newcolname2 = f'{group2}_ratio'\n",
    "    \n",
    "    providers[newcolname1] = round((colname[group1] / (colname[group1] + colname[group2])) * 100, 2)\n",
    "    providers[newcolname2]  = round((colname[group2] / (colname[group1] + colname[group2])) * 100, 2)\n",
    "\n",
    "binary_ratios(claims, 'Gender', 'GenderZero', 'GenderOne')\n",
    "binary_ratios(claims, 'IsOutpatient', 'Outpatient', 'Inpatient')\n",
    "binary_ratios(claims, 'PotentialFraud', 'PotentialFraud', 'NotPotentialFraud')\n",
    "binary_ratios(claims, 'RenalDisease', 'RenalDisease', 'NotRenalDisease')\n",
    "binary_ratios(claims, 'HasDied', 'HasDied', 'NotDead')"
   ]
  },
  {
   "cell_type": "code",
   "execution_count": 16,
   "metadata": {},
   "outputs": [],
   "source": [
    "race_by_provider = claims.groupby(['Provider', 'Race']).ClaimID.count().reset_index()\n",
    "\n",
    "race = pd.DataFrame()\n",
    "race['race1'] = race_by_provider[race_by_provider.Race == 1].ClaimID.to_list()\n",
    "race['race0'] = race_by_provider[race_by_provider.Race == 0].ClaimID.to_list()\n",
    "race['race3'] = race_by_provider[race_by_provider.Race == 3].ClaimID.to_list()\n",
    "race['race5'] = race_by_provider[race_by_provider.Race == 5].ClaimID.to_list()\n",
    "\n",
    "providers['RaceZero_ratio']  = round((race.race0 / np.sum(race, axis=1) * 100), 2)\n",
    "providers['RaceOne_ratio']   = round((race.race1 / np.sum(race, axis=1) * 100), 2)\n",
    "providers['RaceThree_ratio'] = round((race.race3 / np.sum(race, axis=1) * 100), 2)\n",
    "providers['RaceFive_ratio']  = round((race.race5 / np.sum(race, axis=1) * 100), 2)"
   ]
  },
  {
   "cell_type": "code",
   "execution_count": 17,
   "metadata": {},
   "outputs": [
    {
     "data": {
      "text/html": [
       "<div>\n",
       "<style scoped>\n",
       "    .dataframe tbody tr th:only-of-type {\n",
       "        vertical-align: middle;\n",
       "    }\n",
       "\n",
       "    .dataframe tbody tr th {\n",
       "        vertical-align: top;\n",
       "    }\n",
       "\n",
       "    .dataframe thead th {\n",
       "        text-align: right;\n",
       "    }\n",
       "</style>\n",
       "<table border=\"1\" class=\"dataframe\">\n",
       "  <thead>\n",
       "    <tr style=\"text-align: right;\">\n",
       "      <th></th>\n",
       "      <th>Provider</th>\n",
       "      <th>GenderZero_ratio</th>\n",
       "      <th>GenderOne_ratio</th>\n",
       "      <th>Outpatient_ratio</th>\n",
       "      <th>Inpatient_ratio</th>\n",
       "      <th>PotentialFraud_ratio</th>\n",
       "      <th>NotPotentialFraud_ratio</th>\n",
       "      <th>RenalDisease_ratio</th>\n",
       "      <th>NotRenalDisease_ratio</th>\n",
       "      <th>HasDied_ratio</th>\n",
       "      <th>NotDead_ratio</th>\n",
       "      <th>RaceZero_ratio</th>\n",
       "      <th>RaceOne_ratio</th>\n",
       "      <th>RaceThree_ratio</th>\n",
       "      <th>RaceFive_ratio</th>\n",
       "    </tr>\n",
       "  </thead>\n",
       "  <tbody>\n",
       "    <tr>\n",
       "      <th>2665</th>\n",
       "      <td>PRV54317</td>\n",
       "      <td>48.00</td>\n",
       "      <td>52.00</td>\n",
       "      <td>100.0</td>\n",
       "      <td>0.0</td>\n",
       "      <td>0.0</td>\n",
       "      <td>100.0</td>\n",
       "      <td>20.00</td>\n",
       "      <td>80.00</td>\n",
       "      <td>4.00</td>\n",
       "      <td>96.00</td>\n",
       "      <td>20.00</td>\n",
       "      <td>80.00</td>\n",
       "      <td>0.00</td>\n",
       "      <td>0.00</td>\n",
       "    </tr>\n",
       "    <tr>\n",
       "      <th>5371</th>\n",
       "      <td>PRV57721</td>\n",
       "      <td>0.00</td>\n",
       "      <td>100.00</td>\n",
       "      <td>100.0</td>\n",
       "      <td>0.0</td>\n",
       "      <td>0.0</td>\n",
       "      <td>100.0</td>\n",
       "      <td>33.33</td>\n",
       "      <td>66.67</td>\n",
       "      <td>0.00</td>\n",
       "      <td>100.00</td>\n",
       "      <td>0.00</td>\n",
       "      <td>100.00</td>\n",
       "      <td>0.00</td>\n",
       "      <td>0.00</td>\n",
       "    </tr>\n",
       "    <tr>\n",
       "      <th>522</th>\n",
       "      <td>PRV51655</td>\n",
       "      <td>0.00</td>\n",
       "      <td>100.00</td>\n",
       "      <td>100.0</td>\n",
       "      <td>0.0</td>\n",
       "      <td>0.0</td>\n",
       "      <td>100.0</td>\n",
       "      <td>0.00</td>\n",
       "      <td>100.00</td>\n",
       "      <td>0.00</td>\n",
       "      <td>100.00</td>\n",
       "      <td>0.00</td>\n",
       "      <td>66.67</td>\n",
       "      <td>33.33</td>\n",
       "      <td>0.00</td>\n",
       "    </tr>\n",
       "    <tr>\n",
       "      <th>1257</th>\n",
       "      <td>PRV52563</td>\n",
       "      <td>39.11</td>\n",
       "      <td>60.89</td>\n",
       "      <td>100.0</td>\n",
       "      <td>0.0</td>\n",
       "      <td>0.0</td>\n",
       "      <td>100.0</td>\n",
       "      <td>22.41</td>\n",
       "      <td>77.59</td>\n",
       "      <td>0.21</td>\n",
       "      <td>99.79</td>\n",
       "      <td>13.11</td>\n",
       "      <td>86.05</td>\n",
       "      <td>0.85</td>\n",
       "      <td>0.00</td>\n",
       "    </tr>\n",
       "    <tr>\n",
       "      <th>4796</th>\n",
       "      <td>PRV57011</td>\n",
       "      <td>64.71</td>\n",
       "      <td>35.29</td>\n",
       "      <td>100.0</td>\n",
       "      <td>0.0</td>\n",
       "      <td>0.0</td>\n",
       "      <td>100.0</td>\n",
       "      <td>17.65</td>\n",
       "      <td>82.35</td>\n",
       "      <td>0.00</td>\n",
       "      <td>100.00</td>\n",
       "      <td>5.88</td>\n",
       "      <td>88.24</td>\n",
       "      <td>0.00</td>\n",
       "      <td>5.88</td>\n",
       "    </tr>\n",
       "  </tbody>\n",
       "</table>\n",
       "</div>"
      ],
      "text/plain": [
       "      Provider  GenderZero_ratio  GenderOne_ratio  Outpatient_ratio  \\\n",
       "2665  PRV54317             48.00            52.00             100.0   \n",
       "5371  PRV57721              0.00           100.00             100.0   \n",
       "522   PRV51655              0.00           100.00             100.0   \n",
       "1257  PRV52563             39.11            60.89             100.0   \n",
       "4796  PRV57011             64.71            35.29             100.0   \n",
       "\n",
       "      Inpatient_ratio  PotentialFraud_ratio  NotPotentialFraud_ratio  \\\n",
       "2665              0.0                   0.0                    100.0   \n",
       "5371              0.0                   0.0                    100.0   \n",
       "522               0.0                   0.0                    100.0   \n",
       "1257              0.0                   0.0                    100.0   \n",
       "4796              0.0                   0.0                    100.0   \n",
       "\n",
       "      RenalDisease_ratio  NotRenalDisease_ratio  HasDied_ratio  NotDead_ratio  \\\n",
       "2665               20.00                  80.00           4.00          96.00   \n",
       "5371               33.33                  66.67           0.00         100.00   \n",
       "522                 0.00                 100.00           0.00         100.00   \n",
       "1257               22.41                  77.59           0.21          99.79   \n",
       "4796               17.65                  82.35           0.00         100.00   \n",
       "\n",
       "      RaceZero_ratio  RaceOne_ratio  RaceThree_ratio  RaceFive_ratio  \n",
       "2665           20.00          80.00             0.00            0.00  \n",
       "5371            0.00         100.00             0.00            0.00  \n",
       "522             0.00          66.67            33.33            0.00  \n",
       "1257           13.11          86.05             0.85            0.00  \n",
       "4796            5.88          88.24             0.00            5.88  "
      ]
     },
     "execution_count": 17,
     "metadata": {},
     "output_type": "execute_result"
    }
   ],
   "source": [
    "ratio_cols = providers.columns[providers.columns.str.contains('_ratio')].to_list()\n",
    "providers[['Provider'] + ratio_cols].sample(5)"
   ]
  },
  {
   "cell_type": "markdown",
   "metadata": {},
   "source": [
    "### Doctors"
   ]
  },
  {
   "cell_type": "code",
   "execution_count": null,
   "metadata": {},
   "outputs": [],
   "source": []
  },
  {
   "cell_type": "markdown",
   "metadata": {},
   "source": [
    "### Codes"
   ]
  },
  {
   "cell_type": "code",
   "execution_count": null,
   "metadata": {},
   "outputs": [],
   "source": []
  },
  {
   "cell_type": "markdown",
   "metadata": {},
   "source": [
    "### Money"
   ]
  },
  {
   "cell_type": "code",
   "execution_count": null,
   "metadata": {},
   "outputs": [],
   "source": []
  },
  {
   "cell_type": "markdown",
   "metadata": {},
   "source": [
    "### Time"
   ]
  },
  {
   "cell_type": "code",
   "execution_count": null,
   "metadata": {},
   "outputs": [],
   "source": []
  },
  {
   "cell_type": "markdown",
   "metadata": {},
   "source": [
    "### Location"
   ]
  },
  {
   "cell_type": "code",
   "execution_count": null,
   "metadata": {},
   "outputs": [],
   "source": []
  }
 ],
 "metadata": {
  "kernelspec": {
   "display_name": "Python 3",
   "language": "python",
   "name": "python3"
  },
  "language_info": {
   "codemirror_mode": {
    "name": "ipython",
    "version": 3
   },
   "file_extension": ".py",
   "mimetype": "text/x-python",
   "name": "python",
   "nbconvert_exporter": "python",
   "pygments_lexer": "ipython3",
   "version": "3.7.6"
  },
  "toc": {
   "base_numbering": 1,
   "nav_menu": {},
   "number_sections": true,
   "sideBar": true,
   "skip_h1_title": true,
   "title_cell": "Table of Contents",
   "title_sidebar": "Contents",
   "toc_cell": false,
   "toc_position": {
    "height": "calc(100% - 180px)",
    "left": "10px",
    "top": "150px",
    "width": "165px"
   },
   "toc_section_display": true,
   "toc_window_display": true
  }
 },
 "nbformat": 4,
 "nbformat_minor": 4
}
