{
 "cells": [
  {
   "cell_type": "markdown",
   "metadata": {},
   "source": [
    "## Setup and Data Import"
   ]
  },
  {
   "cell_type": "code",
   "execution_count": 1,
   "metadata": {},
   "outputs": [],
   "source": [
    "import sys\n",
    "sys.path.insert(0, '..')\n",
    "\n",
    "from joblib import load\n",
    "\n",
    "import Sita_Functions as fxns\n",
    "from Sita_Functions import np, pd\n",
    "\n",
    "pd.set_option('display.max_columns', None)\n",
    "\n",
    "from datetime import timedelta\n",
    "\n",
    "import plotly.express as px\n",
    "import plotly.graph_objects as go"
   ]
  },
  {
   "cell_type": "markdown",
   "metadata": {},
   "source": [
    "## Claims DF"
   ]
  },
  {
   "cell_type": "code",
   "execution_count": 2,
   "metadata": {},
   "outputs": [],
   "source": [
    "!python Sita_Preprocessing.py"
   ]
  },
  {
   "cell_type": "code",
   "execution_count": 3,
   "metadata": {},
   "outputs": [],
   "source": [
    "claims = load('claims.pkl')"
   ]
  },
  {
   "cell_type": "markdown",
   "metadata": {},
   "source": [
    "### New Columns"
   ]
  },
  {
   "cell_type": "code",
   "execution_count": 4,
   "metadata": {},
   "outputs": [],
   "source": [
    "claims['AgeAtService'] = ( (claims.ClaimStartDt - claims.DOB)\n",
    "                           / timedelta(days=365) ).astype(int)\n",
    "\n",
    "claims['ClaimCost'] = \\\n",
    "    claims.InscClaimAmtReimbursed + claims.DeductibleAmtPaid\n",
    "\n",
    "claims['IPDuration'] = \\\n",
    "    (claims.DischargeDt - claims.AdmissionDt).dt.days\n",
    "\n",
    "claims['ClaimDuration'] = \\\n",
    "    (claims.ClaimEndDt - claims.ClaimStartDt).dt.days"
   ]
  },
  {
   "cell_type": "markdown",
   "metadata": {},
   "source": [
    "### Variables"
   ]
  },
  {
   "cell_type": "code",
   "execution_count": 5,
   "metadata": {},
   "outputs": [],
   "source": [
    "numeric_cols = fxns.cols_by_dtype(claims)[0]\n",
    "categorical_cols = fxns.cols_by_dtype(claims)[1]\n",
    "date_cols = fxns.cols_by_dtype(claims)[2]\n",
    "\n",
    "physician_cols = claims.columns[claims.columns.str.contains('Physician')].to_list()\n",
    "chronic_cols = claims.columns[claims.columns.str.contains('Chronic')].to_list()"
   ]
  },
  {
   "cell_type": "code",
   "execution_count": 6,
   "metadata": {},
   "outputs": [],
   "source": [
    "outpatient_claims = claims.loc[claims.IsOutpatient == '1']\n",
    "inpatient_claims = claims.loc[claims.IsOutpatient == '0']"
   ]
  },
  {
   "cell_type": "markdown",
   "metadata": {},
   "source": [
    "### Summary Data"
   ]
  },
  {
   "cell_type": "code",
   "execution_count": 7,
   "metadata": {},
   "outputs": [],
   "source": [
    "providers = claims.groupby('Provider')"
   ]
  },
  {
   "cell_type": "code",
   "execution_count": 8,
   "metadata": {},
   "outputs": [],
   "source": [
    "groupby_size = providers.size()\n",
    "groupby_size.name = 'Num_Claims'"
   ]
  },
  {
   "cell_type": "code",
   "execution_count": 9,
   "metadata": {},
   "outputs": [],
   "source": [
    "groupby_mean = providers.mean().add_suffix('_mean').reset_index()"
   ]
  },
  {
   "cell_type": "code",
   "execution_count": 10,
   "metadata": {},
   "outputs": [],
   "source": [
    "groupby_sum = providers.sum().add_suffix('_sum').reset_index()"
   ]
  },
  {
   "cell_type": "code",
   "execution_count": 11,
   "metadata": {},
   "outputs": [],
   "source": [
    "providers = pd.merge(groupby_mean, groupby_sum, on='Provider')\n",
    "providers = pd.merge(providers, groupby_size, on='Provider')"
   ]
  },
  {
   "cell_type": "code",
   "execution_count": 12,
   "metadata": {},
   "outputs": [
    {
     "data": {
      "text/plain": [
       "Index(['Provider', 'InscClaimAmtReimbursed_mean', 'DeductibleAmtPaid_mean',\n",
       "       'NoOfMonths_PartACov_mean', 'NoOfMonths_PartBCov_mean',\n",
       "       'IPAnnualReimbursementAmt_mean', 'IPAnnualDeductibleAmt_mean',\n",
       "       'OPAnnualReimbursementAmt_mean', 'OPAnnualDeductibleAmt_mean',\n",
       "       'AgeAtService_mean', 'ClaimCost_mean', 'IPDuration_mean',\n",
       "       'ClaimDuration_mean', 'InscClaimAmtReimbursed_sum',\n",
       "       'DeductibleAmtPaid_sum', 'NoOfMonths_PartACov_sum',\n",
       "       'NoOfMonths_PartBCov_sum', 'IPAnnualReimbursementAmt_sum',\n",
       "       'IPAnnualDeductibleAmt_sum', 'OPAnnualReimbursementAmt_sum',\n",
       "       'OPAnnualDeductibleAmt_sum', 'AgeAtService_sum', 'ClaimCost_sum',\n",
       "       'IPDuration_sum', 'ClaimDuration_sum', 'Num_Claims'],\n",
       "      dtype='object')"
      ]
     },
     "execution_count": 12,
     "metadata": {},
     "output_type": "execute_result"
    }
   ],
   "source": [
    "providers.columns"
   ]
  },
  {
   "cell_type": "markdown",
   "metadata": {},
   "source": [
    "## New Columns"
   ]
  },
  {
   "cell_type": "markdown",
   "metadata": {},
   "source": [
    "### Beneficiaries"
   ]
  },
  {
   "cell_type": "code",
   "execution_count": null,
   "metadata": {},
   "outputs": [],
   "source": []
  },
  {
   "cell_type": "markdown",
   "metadata": {},
   "source": [
    "### Doctors"
   ]
  },
  {
   "cell_type": "code",
   "execution_count": null,
   "metadata": {},
   "outputs": [],
   "source": []
  },
  {
   "cell_type": "markdown",
   "metadata": {},
   "source": [
    "### Codes"
   ]
  },
  {
   "cell_type": "code",
   "execution_count": null,
   "metadata": {},
   "outputs": [],
   "source": []
  },
  {
   "cell_type": "markdown",
   "metadata": {},
   "source": [
    "### Money"
   ]
  },
  {
   "cell_type": "code",
   "execution_count": null,
   "metadata": {},
   "outputs": [],
   "source": []
  },
  {
   "cell_type": "markdown",
   "metadata": {},
   "source": [
    "### Time"
   ]
  },
  {
   "cell_type": "code",
   "execution_count": null,
   "metadata": {},
   "outputs": [],
   "source": []
  },
  {
   "cell_type": "markdown",
   "metadata": {},
   "source": [
    "### Location"
   ]
  },
  {
   "cell_type": "code",
   "execution_count": null,
   "metadata": {},
   "outputs": [],
   "source": []
  }
 ],
 "metadata": {
  "kernelspec": {
   "display_name": "Python 3",
   "language": "python",
   "name": "python3"
  },
  "language_info": {
   "codemirror_mode": {
    "name": "ipython",
    "version": 3
   },
   "file_extension": ".py",
   "mimetype": "text/x-python",
   "name": "python",
   "nbconvert_exporter": "python",
   "pygments_lexer": "ipython3",
   "version": "3.7.6"
  },
  "toc": {
   "base_numbering": 1,
   "nav_menu": {},
   "number_sections": true,
   "sideBar": true,
   "skip_h1_title": true,
   "title_cell": "Table of Contents",
   "title_sidebar": "Contents",
   "toc_cell": false,
   "toc_position": {},
   "toc_section_display": true,
   "toc_window_display": true
  }
 },
 "nbformat": 4,
 "nbformat_minor": 4
}
