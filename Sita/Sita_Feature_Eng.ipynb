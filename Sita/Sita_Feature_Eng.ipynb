{
 "cells": [
  {
   "cell_type": "markdown",
   "metadata": {},
   "source": [
    "## Setup and Data Import"
   ]
  },
  {
   "cell_type": "code",
   "execution_count": 1,
   "metadata": {},
   "outputs": [],
   "source": [
    "import sys\n",
    "sys.path.insert(0, '..')\n",
    "\n",
    "from joblib import dump, load\n",
    "\n",
    "import Functions as fxns\n",
    "from Functions import np, pd\n",
    "\n",
    "pd.set_option('display.max_columns', None)\n",
    "pd.set_option('display.max_rows', None)\n",
    "\n",
    "from datetime import timedelta"
   ]
  },
  {
   "cell_type": "code",
   "execution_count": 2,
   "metadata": {},
   "outputs": [],
   "source": [
    "# !python ../Preprocessing.py"
   ]
  },
  {
   "cell_type": "code",
   "execution_count": 3,
   "metadata": {},
   "outputs": [],
   "source": [
    "claims = load('../claims.pkl')"
   ]
  },
  {
   "cell_type": "markdown",
   "metadata": {},
   "source": [
    "## Claims DF"
   ]
  },
  {
   "cell_type": "markdown",
   "metadata": {},
   "source": [
    "### New Columns"
   ]
  },
  {
   "cell_type": "code",
   "execution_count": 4,
   "metadata": {},
   "outputs": [],
   "source": [
    "claims['AgeAtClaim'] = ((claims.ClaimStartDt - claims.DOB)\n",
    "                              / timedelta(days=365)).astype(int)\n",
    "\n",
    "claims['HasDied'] = claims.DOD.notna()\n",
    "fxns.re_encode_bool(claims, ['HasDied'])\n",
    "\n",
    "chronic_cols     = \\\n",
    "    claims.columns[claims.columns.str.contains('Chronic')].to_list()\n",
    "claims['NumConds'] = claims[chronic_cols].sum(axis=1)"
   ]
  },
  {
   "cell_type": "code",
   "execution_count": 5,
   "metadata": {},
   "outputs": [],
   "source": [
    "physician_cols = \\\n",
    "    claims.columns[claims.columns.str.contains('Phys')].to_list()\n",
    "phys_count_cols  = ['HasAllPhys', 'HasNoPhys']\n",
    "\n",
    "claims['HasAllPhys'] = claims[physician_cols].notna().all(axis=1)\n",
    "claims['HasNoPhys']  = claims[physician_cols].isna().all(axis=1)\n",
    "\n",
    "fxns.re_encode_bool(claims, phys_count_cols)"
   ]
  },
  {
   "cell_type": "code",
   "execution_count": 6,
   "metadata": {},
   "outputs": [],
   "source": [
    "claims['ClaimDuration'] = \\\n",
    "    (claims.ClaimEndDt  - claims.ClaimStartDt).dt.days + 1\n",
    "claims['AdmitDuration']    = \\\n",
    "    (claims.DischargeDt - claims.AdmissionDt).dt.days + 1"
   ]
  },
  {
   "cell_type": "code",
   "execution_count": 7,
   "metadata": {},
   "outputs": [],
   "source": [
    "claims['ClaimCost'] = \\\n",
    "    claims.InscClaimAmtReimbursed + claims.DeductibleAmtPaid\n",
    "claims['DailyClaimCost'] = \\\n",
    "    claims.ClaimCost / claims.ClaimDuration\n",
    "claims['InsReimbursementRatio'] = \\\n",
    "    claims.InscClaimAmtReimbursed / claims.ClaimCost"
   ]
  },
  {
   "cell_type": "markdown",
   "metadata": {},
   "source": [
    "### Variables"
   ]
  },
  {
   "cell_type": "code",
   "execution_count": 8,
   "metadata": {},
   "outputs": [],
   "source": [
    "# lists:\n",
    "numeric_cols     = fxns.cols_by_dtype(claims)[0]\n",
    "categorical_cols = fxns.cols_by_dtype(claims)[1]\n",
    "date_cols        = fxns.cols_by_dtype(claims)[2]\n",
    "\n",
    "physician_cols = \\\n",
    "    claims.columns[claims.columns.str.contains('Phys')].to_list()\n",
    "chronic_cols     = \\\n",
    "    claims.columns[claims.columns.str.contains('Chronic')].to_list()\n",
    "diagnosis_cols   = \\\n",
    "    claims.columns[claims.columns.str.contains('Diagnosis')].to_list()\n",
    "procedure_cols   = \\\n",
    "    claims.columns[claims.columns.str.contains('Procedure')].to_list()\n",
    "\n",
    "# dataframes:\n",
    "# outpatient_claims = claims.loc[claims.IsOutpatient == 1]\n",
    "# inpatient_claims  = claims.loc[claims.IsOutpatient == 0]"
   ]
  },
  {
   "cell_type": "markdown",
   "metadata": {},
   "source": [
    "## Providers DF"
   ]
  },
  {
   "cell_type": "code",
   "execution_count": 9,
   "metadata": {},
   "outputs": [],
   "source": [
    "providers = claims.groupby(['Provider', 'PotentialFraud', 'IsOutpatient'\n",
    "                           ]).size().reset_index().drop(0, axis=1)"
   ]
  },
  {
   "cell_type": "markdown",
   "metadata": {},
   "source": [
    "### Beneficiaries"
   ]
  },
  {
   "cell_type": "code",
   "execution_count": 10,
   "metadata": {
    "scrolled": true
   },
   "outputs": [],
   "source": [
    "providers['Perc_GenderZero'] = \\\n",
    "    claims.groupby(['Provider', 'IsOutpatient']).Gender.mean().values\n",
    "providers['Perc_HasRenalDisease'] = \\\n",
    "    claims.groupby(['Provider', 'IsOutpatient']).RenalDisease.mean().values\n",
    "providers['Perc_Mean_AgeAtClaim'] = \\\n",
    "    claims.groupby(['Provider', 'IsOutpatient']).AgeAtClaim.mean().values\n",
    "providers['Perc_HasDied'] = \\\n",
    "    claims.groupby(['Provider', 'IsOutpatient']).HasDied.mean().values\n",
    "providers['Perc_Mean_NumConds'] = \\\n",
    "    claims.groupby(['Provider', 'IsOutpatient']).NumConds.mean().values\n",
    "providers['Perc_InsReimbursementRatio'] = \\\n",
    "    claims.groupby(['Provider', 'IsOutpatient']).InsReimbursementRatio.mean().values"
   ]
  },
  {
   "cell_type": "code",
   "execution_count": 11,
   "metadata": {},
   "outputs": [],
   "source": [
    "race_by_provider = \\\n",
    "    claims.groupby(['Provider', 'IsOutpatient', 'Race']).ClaimID.count().reset_index()\n",
    "\n",
    "race = pd.DataFrame()\n",
    "race['race1'] = race_by_provider[race_by_provider.Race == 1\n",
    "                                ].ClaimID.to_list()\n",
    "race['race2'] = race_by_provider[race_by_provider.Race == 2\n",
    "                                ].ClaimID.to_list()\n",
    "race['race3'] = race_by_provider[race_by_provider.Race == 3\n",
    "                                ].ClaimID.to_list()\n",
    "race['race5'] = race_by_provider[race_by_provider.Race == 5\n",
    "                                ].ClaimID.to_list()\n",
    "\n",
    "providers['Perc_RaceOne']   = race.race1 / np.sum(race, axis=1)\n",
    "providers['Perc_RaceTwo']   = race.race2 / np.sum(race, axis=1)\n",
    "providers['Perc_RaceThree'] = race.race3 / np.sum(race, axis=1)"
   ]
  },
  {
   "cell_type": "code",
   "execution_count": 12,
   "metadata": {},
   "outputs": [],
   "source": [
    "for col in chronic_cols:\n",
    "    colname = f'Perc_{col}'\n",
    "    providers[colname] = claims.groupby(['Provider', 'IsOutpatient'\n",
    "                                        ])[col].mean().values"
   ]
  },
  {
   "cell_type": "markdown",
   "metadata": {},
   "source": [
    "### Doctors"
   ]
  },
  {
   "cell_type": "code",
   "execution_count": 13,
   "metadata": {},
   "outputs": [],
   "source": [
    "for col in phys_count_cols:\n",
    "    colname = f'Perc_{col}'\n",
    "    providers[colname] = claims.groupby(['Provider', 'IsOutpatient'\n",
    "                                        ])[col].mean().values"
   ]
  },
  {
   "cell_type": "markdown",
   "metadata": {},
   "source": [
    "### Money"
   ]
  },
  {
   "cell_type": "code",
   "execution_count": 14,
   "metadata": {},
   "outputs": [],
   "source": [
    "money_cols = ['InscClaimAmtReimbursed', 'DeductibleAmtPaid',\n",
    "              'ClaimCost', 'DailyClaimCost',\n",
    "              'IPAnnualReimbursementAmt', 'IPAnnualDeductibleAmt',\n",
    "              'OPAnnualReimbursementAmt', 'OPAnnualDeductibleAmt']\n",
    "\n",
    "for col in money_cols:\n",
    "    colname = f'Mean_{col}'\n",
    "    providers[colname] = claims.groupby(['Provider', 'IsOutpatient'\n",
    "                                        ])[col].mean().values"
   ]
  },
  {
   "cell_type": "markdown",
   "metadata": {},
   "source": [
    "### Misc"
   ]
  },
  {
   "cell_type": "code",
   "execution_count": 15,
   "metadata": {},
   "outputs": [],
   "source": [
    "mean_cols = ['NoOfMonths_PartACov', 'NoOfMonths_PartBCov',\n",
    " 'ClaimDuration', 'AdmitDuration']\n",
    "\n",
    "for col in mean_cols:\n",
    "    colname = f'Mean_{col}'\n",
    "    providers[colname] = claims.groupby(['Provider', 'IsOutpatient'\n",
    "                                        ])[col].mean().values"
   ]
  },
  {
   "cell_type": "markdown",
   "metadata": {},
   "source": [
    "## Pivot"
   ]
  },
  {
   "cell_type": "code",
   "execution_count": 16,
   "metadata": {},
   "outputs": [],
   "source": [
    "already_ip_op_cols = ['Mean_IPAnnualReimbursementAmt', 'Mean_IPAnnualDeductibleAmt',\n",
    "                'Mean_OPAnnualReimbursementAmt', 'Mean_OPAnnualDeductibleAmt']\n",
    "providers.drop(already_ip_op_cols, axis=1, inplace=True)"
   ]
  },
  {
   "cell_type": "code",
   "execution_count": 17,
   "metadata": {},
   "outputs": [],
   "source": [
    "ip = providers[providers.IsOutpatient == 0].add_prefix('IP_')\n",
    "ip.rename(columns={'IP_Provider': 'Provider',\n",
    "                   'IP_PotentialFraud': 'PotentialFraud',\n",
    "                   'IP_IsOutpatient': 'IsOutpatient'},\n",
    "          inplace=True)\n",
    "\n",
    "op = providers[providers.IsOutpatient == 1].add_prefix('OP_')\n",
    "op.rename(columns={'OP_Provider': 'Provider',\n",
    "                   'OP_PotentialFraud': 'PotentialFraud',\n",
    "                   'OP_IsOutpatient': 'IsOutpatient'},\n",
    "          inplace=True)"
   ]
  },
  {
   "cell_type": "code",
   "execution_count": 18,
   "metadata": {},
   "outputs": [],
   "source": [
    "already_ip_op_cols = ['IPAnnualReimbursementAmt', 'IPAnnualDeductibleAmt',\n",
    "                'OPAnnualReimbursementAmt', 'OPAnnualDeductibleAmt']\n",
    "already_ip_op = claims.groupby('Provider')[already_ip_op_cols].mean()"
   ]
  },
  {
   "cell_type": "code",
   "execution_count": 19,
   "metadata": {},
   "outputs": [],
   "source": [
    "providers = claims.groupby('Provider').size().reset_index().drop(0, axis=1)\n",
    "providers = providers.merge(op, on='Provider', how='left')\n",
    "providers = providers.merge(ip, on='Provider', how='left')\n",
    "providers = providers.merge(already_ip_op, on='Provider', how='left')\n",
    "\n",
    "providers.drop(['PotentialFraud_x', 'IsOutpatient_x',\n",
    "                'PotentialFraud_y', 'IsOutpatient_y',\n",
    "                'OP_Mean_AdmitDuration'], axis=1, inplace=True)\n",
    "pf = claims.groupby(['Provider', 'PotentialFraud']).size().reset_index().drop(0, axis=1)\n",
    "\n",
    "providers = providers.merge(pf, on='Provider')"
   ]
  },
  {
   "cell_type": "markdown",
   "metadata": {},
   "source": [
    "### Data Import"
   ]
  },
  {
   "cell_type": "code",
   "execution_count": 20,
   "metadata": {},
   "outputs": [],
   "source": [
    "lucas = pd.read_csv('./data/Lucas_Providers.csv')\n",
    "lucas.drop('percentage_noPhysician', axis=1, inplace=True)\n",
    "lucas.columns = \\\n",
    "    ['Provider', 'Perc_DualPatientType', 'HasTop5AdmtCode']"
   ]
  },
  {
   "cell_type": "code",
   "execution_count": 21,
   "metadata": {
    "scrolled": true
   },
   "outputs": [],
   "source": [
    "ryan = pd.read_csv('./data/Ryan_Providers.csv')\n",
    "ryan.drop(['Unnamed: 0', 'AllPhy_mean_IP', 'AllPhy_mean_OP',\n",
    "           'NoPhy_mean_IP', 'NoPhy_mean_OP',\n",
    "           'ClaimDuration_mean_IP', 'ClaimDuration_mean_OP',\n",
    "           'InscClaimAmtReimbursed_mean_IP', 'InscClaimAmtReimbursed_mean_OP',\n",
    "           'AdmisDuration_mean_IP', 'AdmisDuration_mean_OP',\n",
    "           'AgeAtClm_mean_IP', 'AgeAtClm_mean_OP',\n",
    "           'DeductibleAmtPaid_mean_IP', 'DeductibleAmtPaid_mean_OP',\n",
    "           'InsCovRatio_mean_IP', 'InsCovRatio_mean_OP',\n",
    "           'RevPerDay_mean_IP', 'RevPerDay_mean_OP',\n",
    "           'Bene_Receive_Both_IO_Perc'],\n",
    "          axis=1, inplace=True)\n",
    "ryan.rename(columns = {'Patient_Attphy_Ratio': 'PatientsPerAttPhys',\n",
    "                'Patient_Operphy_Ratio': 'PatientsPerOperPhys',\n",
    "                'Patient_Otherphy_Ratio': 'PatientsPerOthPhys'},\n",
    "            inplace=True)"
   ]
  },
  {
   "cell_type": "code",
   "execution_count": 22,
   "metadata": {},
   "outputs": [],
   "source": [
    "providers = providers.merge(ryan).merge(lucas)"
   ]
  },
  {
   "cell_type": "markdown",
   "metadata": {},
   "source": [
    "### Post-processing"
   ]
  },
  {
   "cell_type": "code",
   "execution_count": 23,
   "metadata": {},
   "outputs": [],
   "source": [
    "providers.fillna(0, inplace=True)"
   ]
  },
  {
   "cell_type": "code",
   "execution_count": 24,
   "metadata": {},
   "outputs": [],
   "source": [
    "providers.rename(columns={\n",
    "    'IPAnnualReimbursementAmt': 'IP_AnnualReimbursementAmt',\n",
    "    'IPAnnualDeductibleAmt': 'IP_AnnualDeductibleAmt',\n",
    "    'OPAnnualReimbursementAmt': 'OP_AnnualReimbursementAmt',\n",
    "    'OPAnnualDeductibleAmt': 'OP_AnnualDeductibleAmt',\n",
    "    'Claim_Patient_Ratio': 'Ratio_ClaimsPerPatient',\n",
    "    'Claim_AttPhy_Ratio': 'Ratio_ClaimsPerAttPhys',\n",
    "    'IsOutpatient_Perc': 'Perc_Outpatient',\n",
    "    'BeneID_Nunique_IP': 'IP_Count_UniquePatients',\n",
    "    'State_Nunique_IP': 'IP_Count_UniqueState',\n",
    "    'BeneID_Nunique_OP': 'OP_Count_UniquePatients',\n",
    "    'State_Nunique_OP': 'OP_Count_UniqueState',\n",
    "    'Chronic_Sum_mean_IP': 'IP_Mean_SumChronicConds',\n",
    "    'Chronic_Sum_mean_OP': 'OP_Mean_SumChronicConds',\n",
    "    'Att_Phy_Mult_Prec': 'Perc_AttPhysMultHosp',\n",
    "    'Oper_Phy_Mult_Prec': 'Perc_OperPhysMultHosp',\n",
    "    'Other_Phy_Mult_Prec': 'Perc_OtherPhysMultHosp',\n",
    "    'IP_Multiple_Hospital_Prec': 'IP_Perc_MultHosp',\n",
    "    'OP_Multiple_Hospital_Prec': 'OP_Perc_MultHosp',\n",
    "    'Provider_Serve_BothIO': 'Perc_DualPatientProvider',\n",
    "    'IP_Dup_Perc': 'IP_Perc_Duplicates',\n",
    "    'OP_Dup_Perc': 'OP_Perc_Duplicates',\n",
    "    'IP_No_Proc_Perc': 'IP_Perc_No_ProcCode',\n",
    "    'OP_No_Diag_Perc': 'OP_Perc_No_DiagCode',\n",
    "    'In_Top5_State_Perc': 'Perc_ClaimsPerTopFraudState',\n",
    "    'DualPatientType': 'Perc_DualPatientType'}, inplace=True);"
   ]
  },
  {
   "cell_type": "code",
   "execution_count": 25,
   "metadata": {
    "scrolled": false
   },
   "outputs": [],
   "source": [
    "providers.columns =[\n",
    "    'Provider',\n",
    "    'PotentialFraud',\n",
    "    'Perc_Outpatient',\n",
    "    'HasTop5AdmtCode',\n",
    "    'PatientsPerAttPhys',\n",
    "    'PatientsPerOperPhys',\n",
    "    'PatientsPerOthPhys',\n",
    "    'Perc_MultHospAttPhys',\n",
    "    'Perc_ClaimsPerTopFraudState',\n",
    "    'Perc_DualPatientProvider',\n",
    "    'Perc_DualPatientType',\n",
    "    'Perc_MultHospOperPhys',\n",
    "    'Perc_MultHospOtherPhys',\n",
    "    'Ratio_ClaimsPerAttPhys',\n",
    "    'Ratio_ClaimsPerPatient',\n",
    "    'IP_AnnualDeductibleAmt',\n",
    "    'IP_AnnualReimbursementAmt',\n",
    "    'IP_Count_UniquePatients',\n",
    "    'IP_Count_UniqueState',\n",
    "    'IP_Mean_AdmitDuration',\n",
    "    'IP_Mean_ClaimCost',\n",
    "    'IP_Mean_ClaimDuration',\n",
    "    'IP_Mean_DailyClaimCost',\n",
    "    'IP_Mean_DeductibleAmtPaid',\n",
    "    'IP_Mean_InscClaimAmtReimbursed',\n",
    "    'IP_Mean_NoOfMonths_PartACov',\n",
    "    'IP_Mean_NoOfMonths_PartBCov',\n",
    "    'IP_Mean_SumChronicConds',\n",
    "    'IP_Perc_Alzheimers_Chronic',\n",
    "    'IP_Perc_Cancer_Chronic',\n",
    "    'IP_Perc_Depression_Chronic',\n",
    "    'IP_Perc_Diabetes_Chronic',\n",
    "    'IP_Perc_Dup',\n",
    "    'IP_Perc_GenderZero',\n",
    "    'IP_Perc_HasAllPhys',\n",
    "    'IP_Perc_HasDied',\n",
    "    'IP_Perc_HasNoPhys',\n",
    "    'IP_Perc_HasRenalDisease',\n",
    "    'IP_Perc_HeartFailure_Chronic',\n",
    "    'IP_Perc_InsReimbursementRatio',\n",
    "    'IP_Perc_IschemicHeart_Chronic',\n",
    "    'IP_Perc_KidneyDisease_Chronic',\n",
    "    'IP_Perc_Mean_AgeAtClaim',\n",
    "    'IP_Perc_Mean_NumConds',\n",
    "    'IP_Perc_MultHosp',\n",
    "    'IP_Perc_No_ProcCode',\n",
    "    'IP_Perc_ObstrPulmonary_Chronic',\n",
    "    'IP_Perc_Osteoporosis_Chronic',\n",
    "    'IP_Perc_RaceOne',\n",
    "    'IP_Perc_RaceThree',\n",
    "    'IP_Perc_RaceTwo',\n",
    "    'IP_Perc_RheumatoidArthritis_Chronic',\n",
    "    'IP_Perc_Stroke_Chronic',\n",
    "    'OP_AnnualDeductibleAmt',\n",
    "    'OP_AnnualReimbursementAmt',\n",
    "    'OP_Count_UniquePatients',\n",
    "    'OP_Count_UniqueState',\n",
    "    'OP_Mean_ClaimCost',\n",
    "    'OP_Mean_ClaimDuration',\n",
    "    'OP_Mean_DailyClaimCost',\n",
    "    'OP_Mean_DeductibleAmtPaid',\n",
    "    'OP_Mean_InscClaimAmtReimbursed',\n",
    "    'OP_Mean_NoOfMonths_PartACov',\n",
    "    'OP_Mean_NoOfMonths_PartBCov',\n",
    "    'OP_Mean_SumChronicConds',\n",
    "    'OP_Perc_Alzheimers_Chronic',\n",
    "    'OP_Perc_Cancer_Chronic',\n",
    "    'OP_Perc_Depression_Chronic',\n",
    "    'OP_Perc_Diabetes_Chronic',\n",
    "    'OP_Perc_Dup',\n",
    "    'OP_Perc_GenderZero',\n",
    "    'OP_Perc_HasAllPhys',\n",
    "    'OP_Perc_HasDied',\n",
    "    'OP_Perc_HasNoPhys',\n",
    "    'OP_Perc_HasRenalDisease',\n",
    "    'OP_Perc_HeartFailure_Chronic',\n",
    "    'OP_Perc_InsReimbursementRatio',\n",
    "    'OP_Perc_IschemicHeart_Chronic',\n",
    "    'OP_Perc_KidneyDisease_Chronic',\n",
    "    'OP_Perc_Mean_AgeAtClaim',\n",
    "    'OP_Perc_Mean_NumConds',\n",
    "    'OP_Perc_MultHosp',\n",
    "    'OP_Perc_No_DiagCode',\n",
    "    'OP_Perc_ObstrPulmonary_Chronic',\n",
    "    'OP_Perc_Osteoporosis_Chronic',\n",
    "    'OP_Perc_RaceOne',\n",
    "    'OP_Perc_RaceThree',\n",
    "    'OP_Perc_RaceTwo',\n",
    "    'OP_Perc_RheumatoidArthritis_Chronic',\n",
    "    'OP_Perc_Stroke_Chronic']"
   ]
  },
  {
   "cell_type": "markdown",
   "metadata": {},
   "source": [
    "## Export"
   ]
  },
  {
   "cell_type": "code",
   "execution_count": 26,
   "metadata": {},
   "outputs": [],
   "source": [
    "providers.to_csv('./data/Providers_Final.csv')"
   ]
  }
 ],
 "metadata": {
  "kernelspec": {
   "display_name": "Python 3",
   "language": "python",
   "name": "python3"
  },
  "language_info": {
   "codemirror_mode": {
    "name": "ipython",
    "version": 3
   },
   "file_extension": ".py",
   "mimetype": "text/x-python",
   "name": "python",
   "nbconvert_exporter": "python",
   "pygments_lexer": "ipython3",
   "version": "3.7.6"
  },
  "toc": {
   "base_numbering": 1,
   "nav_menu": {},
   "number_sections": true,
   "sideBar": true,
   "skip_h1_title": true,
   "title_cell": "Table of Contents",
   "title_sidebar": "Contents",
   "toc_cell": false,
   "toc_position": {
    "height": "calc(100% - 180px)",
    "left": "10px",
    "top": "150px",
    "width": "165px"
   },
   "toc_section_display": true,
   "toc_window_display": true
  }
 },
 "nbformat": 4,
 "nbformat_minor": 4
}
