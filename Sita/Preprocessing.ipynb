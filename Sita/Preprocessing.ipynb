{
 "cells": [
  {
   "cell_type": "markdown",
   "metadata": {},
   "source": [
    "## Setup and Data Import"
   ]
  },
  {
   "cell_type": "code",
   "execution_count": 1,
   "metadata": {},
   "outputs": [],
   "source": [
    "import numpy as np\n",
    "\n",
    "import pandas as pd\n",
    "pd.set_option('display.max_columns', None)\n",
    "\n",
    "from joblib import dump, load"
   ]
  },
  {
   "cell_type": "code",
   "execution_count": 2,
   "metadata": {},
   "outputs": [],
   "source": [
    "beneficiary = pd.read_csv(\n",
    "    '../data/Train_Beneficiarydata-1542865627584.csv')\n",
    "inpatient =  pd.read_csv(\n",
    "    '../data/Train_Inpatientdata-1542865627584.csv')\n",
    "outpatient =  pd.read_csv(\n",
    "    '../data/Train_Outpatientdata-1542865627584.csv')\n",
    "target = pd.read_csv('../data/Train-1542865627584.csv')"
   ]
  },
  {
   "cell_type": "code",
   "execution_count": 3,
   "metadata": {},
   "outputs": [],
   "source": [
    "def explore_df(df):\n",
    "    print('Shape:', df.shape, '\\n')\n",
    "    print('Columns and dtypes:\\n', df.dtypes, '\\n')\n",
    "\n",
    "    percent_missing = df.isna().mean().round(4) * 100\n",
    "    print('Columns with Missingness:\\n',\n",
    "          percent_missing[percent_missing > 0.00\n",
    "                         ].sort_values(ascending=False))"
   ]
  },
  {
   "cell_type": "code",
   "execution_count": 4,
   "metadata": {},
   "outputs": [
    {
     "name": "stdout",
     "output_type": "stream",
     "text": [
      "Shape: (138556, 25) \n",
      "\n",
      "Columns and dtypes:\n",
      " BeneID                             object\n",
      "DOB                                object\n",
      "DOD                                object\n",
      "Gender                              int64\n",
      "Race                                int64\n",
      "RenalDiseaseIndicator              object\n",
      "State                               int64\n",
      "County                              int64\n",
      "NoOfMonths_PartACov                 int64\n",
      "NoOfMonths_PartBCov                 int64\n",
      "ChronicCond_Alzheimer               int64\n",
      "ChronicCond_Heartfailure            int64\n",
      "ChronicCond_KidneyDisease           int64\n",
      "ChronicCond_Cancer                  int64\n",
      "ChronicCond_ObstrPulmonary          int64\n",
      "ChronicCond_Depression              int64\n",
      "ChronicCond_Diabetes                int64\n",
      "ChronicCond_IschemicHeart           int64\n",
      "ChronicCond_Osteoporasis            int64\n",
      "ChronicCond_rheumatoidarthritis     int64\n",
      "ChronicCond_stroke                  int64\n",
      "IPAnnualReimbursementAmt            int64\n",
      "IPAnnualDeductibleAmt               int64\n",
      "OPAnnualReimbursementAmt            int64\n",
      "OPAnnualDeductibleAmt               int64\n",
      "dtype: object \n",
      "\n",
      "Columns with Missingness:\n",
      " DOD    98.97\n",
      "dtype: float64\n"
     ]
    }
   ],
   "source": [
    "explore_df(beneficiary)"
   ]
  },
  {
   "cell_type": "markdown",
   "metadata": {},
   "source": [
    "## Pre-Processing"
   ]
  },
  {
   "cell_type": "code",
   "execution_count": 5,
   "metadata": {},
   "outputs": [],
   "source": [
    "def date_parser(df, cols):\n",
    "    for col in cols:\n",
    "        df[col] = pd.to_datetime(df[col])\n",
    "\n",
    "date_parser(beneficiary, ['DOB', 'DOD'])\n",
    "date_parser(inpatient, ['ClaimStartDt', 'ClaimEndDt', 'AdmissionDt', 'DischargeDt'])\n",
    "date_parser(outpatient, ['ClaimStartDt', 'ClaimEndDt'])"
   ]
  },
  {
   "cell_type": "code",
   "execution_count": 6,
   "metadata": {},
   "outputs": [],
   "source": [
    "def check_obj_dtypes(*dfs):\n",
    "    for df in dfs:\n",
    "        object_cols = df.select_dtypes('object').columns.tolist()\n",
    "\n",
    "        for col in object_cols:\n",
    "            val_counts = df[col].apply(type).value_counts()\n",
    "            if len(val_counts) > 1:\n",
    "                print(f'{\"-\" * 40}\\n', val_counts, f'\\n{\"-\" * 40}\\n')\n",
    "            else:\n",
    "                print(val_counts, '\\n')\n",
    "\n",
    "# Highlighted columns all contain two dtypes because they have NaNs"
   ]
  },
  {
   "cell_type": "code",
   "execution_count": 7,
   "metadata": {},
   "outputs": [],
   "source": [
    "def dummify(*dfs):\n",
    "    for df in dfs:\n",
    "        procedure_cols = df.columns[df.columns.str.contains('Procedure')].to_list()\n",
    "        diagnosis_cols = df.columns[df.columns.str.contains('ClmDiagnosis')].to_list()\n",
    "\n",
    "        df[procedure_cols] = df[procedure_cols].fillna(0).astype(int)\n",
    "        for col in procedure_cols:\n",
    "            df.loc[df[col] > 0, [col]] = 1\n",
    "        \n",
    "        df[diagnosis_cols] = df[diagnosis_cols].fillna(0)\n",
    "        for col in diagnosis_cols:\n",
    "            df.loc[df[col] != 0, [col]] = 1\n",
    "\n",
    "dummify(inpatient, outpatient)"
   ]
  },
  {
   "cell_type": "code",
   "execution_count": 8,
   "metadata": {},
   "outputs": [],
   "source": [
    "# ONLY USE THE COLS ABOVE AND DROP THE COLS BELOW IF TERE IS NO\n",
    "# RELATIONSHIP BETWEEN THE SINGLE COLS AND THE TARGET VARIABLE\n",
    "\n",
    "# def consolidate(*dfs):\n",
    "#     for df in dfs:\n",
    "#         procedure_cols = df.columns[df.columns.str.contains('Procedure')].to_list()\n",
    "#         diagnosis_cols = df.columns[df.columns.str.contains('ClmDiagnosis')].to_list()\n",
    "#         physician_cols = df.columns[df.columns.str.contains('OperatingPhysician')\n",
    "#                                    | df.columns.str.contains('OtherPhysician')].to_list()\n",
    "        \n",
    "#         df['NumProcedureCodes'] = df[procedure_cols].sum(axis=1)\n",
    "#         df['NumDiagnosisCodes'] = df[diagnosis_cols].sum(axis=1)\n",
    "#         df['NumDoctors']   = df[physician_cols].sum(axis=1) + 1\n",
    "\n",
    "#         df.drop(procedure_cols, axis=1, inplace=True)\n",
    "#         df.drop(diagnosis_cols, axis=1, inplace=True)\n",
    "#         df.drop(physician_cols, axis=1, inplace=True)\n",
    "        \n",
    "# consolidate(inpatient, outpatient)"
   ]
  },
  {
   "cell_type": "code",
   "execution_count": 9,
   "metadata": {},
   "outputs": [],
   "source": [
    "beneficiary.loc[beneficiary.RenalDiseaseIndicator == '0', 'RenalDiseaseIndicator'] = 0\n",
    "beneficiary.loc[beneficiary.RenalDiseaseIndicator == 'Y', 'RenalDiseaseIndicator'] = 1"
   ]
  },
  {
   "cell_type": "code",
   "execution_count": 10,
   "metadata": {},
   "outputs": [],
   "source": [
    "cols = beneficiary.columns[beneficiary.columns.str.contains('Gender')\n",
    "            | beneficiary.columns.str.contains('Race')\n",
    "            | beneficiary.columns.str.contains('RenalDiseaseIndicator')\n",
    "            | beneficiary.columns.str.contains('State')\n",
    "            | beneficiary.columns.str.contains('County')\n",
    "            | beneficiary.columns.str.contains('Chronic')].to_list()\n",
    "\n",
    "beneficiary[cols] = \\\n",
    "    beneficiary[cols].apply(lambda x: x.astype('category'))"
   ]
  },
  {
   "cell_type": "code",
   "execution_count": 11,
   "metadata": {},
   "outputs": [],
   "source": [
    "def col_types(df):\n",
    "    numeric_cols = df.select_dtypes(np.number)\n",
    "    categorical_cols = df.select_dtypes(['object', 'category'])\n",
    "    numeric_cols = numeric_cols.columns.to_list()\n",
    "    categorical_cols = categorical_cols.columns.to_list()\n",
    "    return numeric_cols, categorical_cols\n",
    "\n",
    "# Each variable below is a list of column names\n",
    "beneficiary_num_cols, beneficiary_cat_cols = col_types(beneficiary)[0], col_types(beneficiary)[1]\n",
    "inpatient_num_cols, inpatient_cat_cols = col_types(inpatient)[0], col_types(inpatient)[1]\n",
    "outpatient_num_cols, outpatient_cat_cols = col_types(outpatient)[0], col_types(outpatient)[1]"
   ]
  },
  {
   "cell_type": "code",
   "execution_count": 12,
   "metadata": {
    "scrolled": true
   },
   "outputs": [
    {
     "name": "stdout",
     "output_type": "stream",
     "text": [
      "['NoOfMonths_PartACov', 'NoOfMonths_PartBCov', 'IPAnnualReimbursementAmt', 'IPAnnualDeductibleAmt', 'OPAnnualReimbursementAmt', 'OPAnnualDeductibleAmt'] \n",
      "\n",
      "['BeneID', 'Gender', 'Race', 'RenalDiseaseIndicator', 'State', 'County', 'ChronicCond_Alzheimer', 'ChronicCond_Heartfailure', 'ChronicCond_KidneyDisease', 'ChronicCond_Cancer', 'ChronicCond_ObstrPulmonary', 'ChronicCond_Depression', 'ChronicCond_Diabetes', 'ChronicCond_IschemicHeart', 'ChronicCond_Osteoporasis', 'ChronicCond_rheumatoidarthritis', 'ChronicCond_stroke']\n"
     ]
    }
   ],
   "source": [
    "print(beneficiary_num_cols, '\\n')\n",
    "print(beneficiary_cat_cols)"
   ]
  },
  {
   "cell_type": "code",
   "execution_count": 13,
   "metadata": {},
   "outputs": [
    {
     "name": "stdout",
     "output_type": "stream",
     "text": [
      "['InscClaimAmtReimbursed', 'DeductibleAmtPaid', 'ClmProcedureCode_1', 'ClmProcedureCode_2', 'ClmProcedureCode_3', 'ClmProcedureCode_4', 'ClmProcedureCode_5', 'ClmProcedureCode_6'] \n",
      "\n",
      "['BeneID', 'ClaimID', 'Provider', 'AttendingPhysician', 'OperatingPhysician', 'OtherPhysician', 'ClmAdmitDiagnosisCode', 'DiagnosisGroupCode', 'ClmDiagnosisCode_1', 'ClmDiagnosisCode_2', 'ClmDiagnosisCode_3', 'ClmDiagnosisCode_4', 'ClmDiagnosisCode_5', 'ClmDiagnosisCode_6', 'ClmDiagnosisCode_7', 'ClmDiagnosisCode_8', 'ClmDiagnosisCode_9', 'ClmDiagnosisCode_10']\n"
     ]
    }
   ],
   "source": [
    "print(inpatient_num_cols, '\\n')\n",
    "print(inpatient_cat_cols,)"
   ]
  },
  {
   "cell_type": "code",
   "execution_count": 14,
   "metadata": {},
   "outputs": [
    {
     "name": "stdout",
     "output_type": "stream",
     "text": [
      "['InscClaimAmtReimbursed', 'ClmProcedureCode_1', 'ClmProcedureCode_2', 'ClmProcedureCode_3', 'ClmProcedureCode_4', 'ClmProcedureCode_5', 'ClmProcedureCode_6', 'DeductibleAmtPaid'] \n",
      "\n",
      "['BeneID', 'ClaimID', 'Provider', 'AttendingPhysician', 'OperatingPhysician', 'OtherPhysician', 'ClmDiagnosisCode_1', 'ClmDiagnosisCode_2', 'ClmDiagnosisCode_3', 'ClmDiagnosisCode_4', 'ClmDiagnosisCode_5', 'ClmDiagnosisCode_6', 'ClmDiagnosisCode_7', 'ClmDiagnosisCode_8', 'ClmDiagnosisCode_9', 'ClmDiagnosisCode_10', 'ClmAdmitDiagnosisCode']\n"
     ]
    }
   ],
   "source": [
    "print(outpatient_num_cols, '\\n')\n",
    "print(outpatient_cat_cols)"
   ]
  },
  {
   "cell_type": "markdown",
   "metadata": {},
   "source": [
    "## Merging"
   ]
  },
  {
   "cell_type": "code",
   "execution_count": 15,
   "metadata": {},
   "outputs": [],
   "source": [
    "inpatient['IsOutpatient'] = '0'\n",
    "outpatient['IsOutpatient'] = '1'"
   ]
  },
  {
   "cell_type": "code",
   "execution_count": 16,
   "metadata": {},
   "outputs": [],
   "source": [
    "claims = pd.concat([inpatient, outpatient])\n",
    "claims = pd.merge(claims, beneficiary, on='BeneID')\n",
    "claims = pd.merge(claims, target, on='Provider')"
   ]
  },
  {
   "cell_type": "code",
   "execution_count": 21,
   "metadata": {},
   "outputs": [
    {
     "name": "stdout",
     "output_type": "stream",
     "text": [
      "Shape: (558211, 56) \n",
      "\n",
      "Columns and dtypes:\n",
      " BeneID                                     object\n",
      "ClaimID                                    object\n",
      "ClaimStartDt                       datetime64[ns]\n",
      "ClaimEndDt                         datetime64[ns]\n",
      "Provider                                   object\n",
      "InscClaimAmtReimbursed                      int64\n",
      "AttendingPhysician                         object\n",
      "OperatingPhysician                         object\n",
      "OtherPhysician                             object\n",
      "AdmissionDt                        datetime64[ns]\n",
      "ClmAdmitDiagnosisCode                      object\n",
      "DeductibleAmtPaid                         float64\n",
      "DischargeDt                        datetime64[ns]\n",
      "DiagnosisGroupCode                         object\n",
      "ClmDiagnosisCode_1                         object\n",
      "ClmDiagnosisCode_2                         object\n",
      "ClmDiagnosisCode_3                         object\n",
      "ClmDiagnosisCode_4                         object\n",
      "ClmDiagnosisCode_5                         object\n",
      "ClmDiagnosisCode_6                         object\n",
      "ClmDiagnosisCode_7                         object\n",
      "ClmDiagnosisCode_8                         object\n",
      "ClmDiagnosisCode_9                         object\n",
      "ClmDiagnosisCode_10                        object\n",
      "ClmProcedureCode_1                          int32\n",
      "ClmProcedureCode_2                          int32\n",
      "ClmProcedureCode_3                          int32\n",
      "ClmProcedureCode_4                          int32\n",
      "ClmProcedureCode_5                          int32\n",
      "ClmProcedureCode_6                          int32\n",
      "IsOutpatient                               object\n",
      "DOB                                datetime64[ns]\n",
      "DOD                                datetime64[ns]\n",
      "Gender                                   category\n",
      "Race                                     category\n",
      "RenalDiseaseIndicator                    category\n",
      "State                                    category\n",
      "County                                   category\n",
      "NoOfMonths_PartACov                         int64\n",
      "NoOfMonths_PartBCov                         int64\n",
      "ChronicCond_Alzheimer                    category\n",
      "ChronicCond_Heartfailure                 category\n",
      "ChronicCond_KidneyDisease                category\n",
      "ChronicCond_Cancer                       category\n",
      "ChronicCond_ObstrPulmonary               category\n",
      "ChronicCond_Depression                   category\n",
      "ChronicCond_Diabetes                     category\n",
      "ChronicCond_IschemicHeart                category\n",
      "ChronicCond_Osteoporasis                 category\n",
      "ChronicCond_rheumatoidarthritis          category\n",
      "ChronicCond_stroke                       category\n",
      "IPAnnualReimbursementAmt                    int64\n",
      "IPAnnualDeductibleAmt                       int64\n",
      "OPAnnualReimbursementAmt                    int64\n",
      "OPAnnualDeductibleAmt                       int64\n",
      "PotentialFraud                             object\n",
      "dtype: object \n",
      "\n",
      "Columns with Missingness:\n",
      " DOD                      99.26\n",
      "DiagnosisGroupCode       92.75\n",
      "DischargeDt              92.75\n",
      "AdmissionDt              92.75\n",
      "OperatingPhysician       79.50\n",
      "ClmAdmitDiagnosisCode    73.86\n",
      "OtherPhysician           64.22\n",
      "AttendingPhysician        0.27\n",
      "DeductibleAmtPaid         0.16\n",
      "dtype: float64\n"
     ]
    }
   ],
   "source": [
    "explore_df(claims)"
   ]
  },
  {
   "cell_type": "markdown",
   "metadata": {},
   "source": [
    "## Pickling"
   ]
  },
  {
   "cell_type": "code",
   "execution_count": 22,
   "metadata": {},
   "outputs": [
    {
     "data": {
      "text/plain": [
       "92.7493367203441"
      ]
     },
     "execution_count": 22,
     "metadata": {},
     "output_type": "execute_result"
    }
   ],
   "source": [
    "len(outpatient) / len(claims) * 100"
   ]
  }
 ],
 "metadata": {
  "kernelspec": {
   "display_name": "Python 3",
   "language": "python",
   "name": "python3"
  },
  "language_info": {
   "codemirror_mode": {
    "name": "ipython",
    "version": 3
   },
   "file_extension": ".py",
   "mimetype": "text/x-python",
   "name": "python",
   "nbconvert_exporter": "python",
   "pygments_lexer": "ipython3",
   "version": "3.7.6"
  },
  "toc": {
   "base_numbering": 1,
   "nav_menu": {},
   "number_sections": true,
   "sideBar": true,
   "skip_h1_title": true,
   "title_cell": "Table of Contents",
   "title_sidebar": "Contents",
   "toc_cell": false,
   "toc_position": {
    "height": "calc(100% - 180px)",
    "left": "10px",
    "top": "150px",
    "width": "165px"
   },
   "toc_section_display": true,
   "toc_window_display": true
  }
 },
 "nbformat": 4,
 "nbformat_minor": 4
}
