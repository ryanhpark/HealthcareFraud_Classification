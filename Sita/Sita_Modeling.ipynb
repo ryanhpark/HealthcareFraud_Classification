{
 "cells": [
  {
   "cell_type": "markdown",
   "metadata": {},
   "source": [
    "## Setup and Data Import"
   ]
  },
  {
   "cell_type": "code",
   "execution_count": 56,
   "metadata": {},
   "outputs": [],
   "source": [
    "import sys\n",
    "sys.path.insert(0, '..')\n",
    "\n",
    "from joblib import dump, load\n",
    "\n",
    "import numpy as np\n",
    "\n",
    "import pandas as pd\n",
    "pd.set_option('display.max_columns', None)\n",
    "\n",
    "import sklearn.model_selection as ms\n",
    "from sklearn import preprocessing as pp\n",
    "from sklearn.linear_model import \\\n",
    "    LogisticRegressionCV, LogisticRegression\n",
    "from sklearn.ensemble import \\\n",
    "    RandomForestClassifier, GradientBoostingClassifier\n",
    "from sklearn.svm import SVC\n",
    "from sklearn.naive_bayes import GaussianNB\n",
    "from sklearn.neighbors import KNeighborsClassifier\n",
    "from sklearn.metrics import recall_score, confusion_matrix\n",
    "from sklearn.utils.class_weight import compute_sample_weight\n",
    "\n",
    "import imblearn\n",
    "\n",
    "import Functions as fxns\n",
    "\n",
    "import matplotlib.pyplot as plt\n",
    "plt.style.use('dark_background')\n",
    "\n",
    "# some pkl models were made with a previous version of sklearn\n",
    "import warnings\n",
    "warnings.filterwarnings(\"ignore\", category=UserWarning) "
   ]
  },
  {
   "cell_type": "code",
   "execution_count": 2,
   "metadata": {},
   "outputs": [],
   "source": [
    "providers = load('./data/providers_last.pkl')\n",
    "providers.set_index('Provider', inplace=True)"
   ]
  },
  {
   "cell_type": "code",
   "execution_count": 3,
   "metadata": {},
   "outputs": [],
   "source": [
    "X = providers.drop('PotentialFraud', axis=1)\n",
    "y = providers.PotentialFraud"
   ]
  },
  {
   "cell_type": "markdown",
   "metadata": {},
   "source": [
    "## Pre-processing"
   ]
  },
  {
   "cell_type": "code",
   "execution_count": 4,
   "metadata": {},
   "outputs": [],
   "source": [
    "# # 70/30 split gives roughly the same baseline model results\n",
    "# # as 80/20 and 90/10, but saves grid_search time\n",
    "\n",
    "X_train, X_test, y_train, y_test = ms.train_test_split(\n",
    "    X, y, test_size = 0.3, random_state = 0, stratify=y)"
   ]
  },
  {
   "cell_type": "code",
   "execution_count": 5,
   "metadata": {},
   "outputs": [],
   "source": [
    "# # Scale only the training data to avoid data leakage\n",
    "# # MinMax performed better or about the same as StandardScaler,\n",
    "# # RobustScaler, and Normalize on most models\n",
    "\n",
    "scaler = pp.MinMaxScaler()\n",
    "\n",
    "X_train = pd.DataFrame(scaler.fit_transform(X_train), columns=X.columns)\n",
    "X_test = pd.DataFrame(scaler.transform(X_test), columns=X.columns)"
   ]
  },
  {
   "cell_type": "code",
   "execution_count": 6,
   "metadata": {},
   "outputs": [],
   "source": [
    "# Upsample for K-nearest Neighbors and Gradient Boosting\n",
    "\n",
    "oversample = imblearn.over_sampling.SMOTE(random_state=0)\n",
    "X_train_SMOTE, y_train_SMOTE = oversample.fit_resample(X_train, y_train)"
   ]
  },
  {
   "cell_type": "code",
   "execution_count": 7,
   "metadata": {},
   "outputs": [],
   "source": [
    "# # Stratify folds so that classes always have the same sample ratio\n",
    "# # n_splits=10 to maximize testing for this small dataset\n",
    "\n",
    "skfold = ms.StratifiedKFold(n_splits=5, random_state=0, shuffle=True);"
   ]
  },
  {
   "cell_type": "code",
   "execution_count": 8,
   "metadata": {},
   "outputs": [],
   "source": [
    "def model_results(model,\n",
    "    X_train=X_train, y_train=y_train, X_test=X_test, y_test=y_test):\n",
    "        train_recall = recall_score(y_train, model.predict(X_train))\n",
    "        test_recall = recall_score(y_test, model.predict(X_test))\n",
    "        \n",
    "        print('Model details:', model, '\\n')\n",
    "        print('Train Set Recall Score:',\n",
    "              f'{round(train_recall, 4) * 100}%')\n",
    "        print('Test Set Recall Score:',\n",
    "              f'{round(test_recall, 4) * 100}%')\n",
    "        print('\\nTrain Set Confusion Matrix:\\n',\n",
    "              confusion_matrix(y_train, model.predict(X_train)))\n",
    "        print('Test Set Confusion Matrix:\\n',\n",
    "              confusion_matrix(y_test, model.predict(X_test)))"
   ]
  },
  {
   "cell_type": "markdown",
   "metadata": {},
   "source": [
    "## Logistic Regression"
   ]
  },
  {
   "cell_type": "markdown",
   "metadata": {},
   "source": [
    "### Models"
   ]
  },
  {
   "cell_type": "code",
   "execution_count": 9,
   "metadata": {},
   "outputs": [
    {
     "name": "stdout",
     "output_type": "stream",
     "text": [
      "Model details: LogisticRegressionCV(class_weight='balanced',\n",
      "                     cv=StratifiedKFold(n_splits=5, random_state=0, shuffle=True),\n",
      "                     n_jobs=-1, random_state=0, scoring='recall', verbose=1) \n",
      "\n",
      "Train Set Recall Score: 89.27000000000001%\n",
      "Test Set Recall Score: 86.83999999999999%\n",
      "\n",
      "Train Set Confusion Matrix:\n",
      " [[1818 1615]\n",
      " [  38  316]]\n",
      "Test Set Confusion Matrix:\n",
      " [[820 651]\n",
      " [ 20 132]]\n"
     ]
    }
   ],
   "source": [
    "# # baseline model\n",
    "\n",
    "# logRegCV = \\\n",
    "#     LogisticRegressionCV(class_weight='balanced',\n",
    "#                          cv=skfold, scoring='recall',\n",
    "#                          random_state=0, n_jobs=(-1), verbose=1\n",
    "#                         ).fit(X_train, y_train)\n",
    "\n",
    "# dump(logRegCV, './data/Iteration_1/logRegCV.pkl')\n",
    "\n",
    "logRegCV = load('./data/Iteration_1/logRegCV.pkl')\n",
    "model_results(logRegCV)"
   ]
  },
  {
   "cell_type": "code",
   "execution_count": 10,
   "metadata": {
    "scrolled": false
   },
   "outputs": [
    {
     "name": "stdout",
     "output_type": "stream",
     "text": [
      "Model details: LogisticRegressionCV(class_weight='balanced',\n",
      "                     cv=StratifiedKFold(n_splits=5, random_state=0, shuffle=True),\n",
      "                     n_jobs=-1, penalty='l1', random_state=0, scoring='recall',\n",
      "                     solver='liblinear', verbose=1) \n",
      "\n",
      "Train Set Recall Score: 90.4%\n",
      "Test Set Recall Score: 88.16000000000001%\n",
      "\n",
      "Train Set Confusion Matrix:\n",
      " [[1881 1552]\n",
      " [  34  320]]\n",
      "Test Set Confusion Matrix:\n",
      " [[811 660]\n",
      " [ 18 134]]\n"
     ]
    }
   ],
   "source": [
    "# # baseline model\n",
    "# # L1 penalty for feature selection, liblinear solver faster than saga\n",
    "\n",
    "# logRegCVL1 = \\\n",
    "#     LogisticRegressionCV(penalty='l1', solver='liblinear', cv=skfold,\n",
    "#                          class_weight='balanced', scoring='recall',\n",
    "#                          random_state=0, n_jobs=(-1), verbose=1\n",
    "#                         ).fit(X_train, y_train)\n",
    "\n",
    "# dump(logRegCVL1, './data/Iteration_1/logRegCVL1.pkl')\n",
    "\n",
    "logRegCVL1 = load('./data/Iteration_1/logRegCVL1.pkl')\n",
    "model_results(logRegCVL1)"
   ]
  },
  {
   "cell_type": "code",
   "execution_count": 55,
   "metadata": {
    "scrolled": false
   },
   "outputs": [
    {
     "name": "stdout",
     "output_type": "stream",
     "text": [
      "Fitting 5 folds for each of 100 candidates, totalling 500 fits\n"
     ]
    },
    {
     "name": "stderr",
     "output_type": "stream",
     "text": [
      "[Parallel(n_jobs=1)]: Using backend SequentialBackend with 1 concurrent workers.\n"
     ]
    },
    {
     "name": "stdout",
     "output_type": "stream",
     "text": [
      "Model details: LogisticRegression(C=0.07838383838383839, class_weight='balanced', n_jobs=-1,\n",
      "                   penalty='l1', random_state=0, solver='liblinear') \n",
      "\n",
      "Train Set Recall Score: 91.81%\n",
      "Test Set Recall Score: 91.45%\n",
      "\n",
      "Train Set Confusion Matrix:\n",
      " [[2576  857]\n",
      " [  29  325]]\n",
      "Test Set Confusion Matrix:\n",
      " [[1117  354]\n",
      " [  13  139]]\n"
     ]
    },
    {
     "name": "stderr",
     "output_type": "stream",
     "text": [
      "[Parallel(n_jobs=1)]: Done 500 out of 500 | elapsed:   39.9s finished\n"
     ]
    }
   ],
   "source": [
    "# # grid search (fine-tuned)\n",
    "\n",
    "logRegModel = \\\n",
    "    LogisticRegression(penalty='l1', solver='liblinear',\n",
    "                       class_weight='balanced', random_state=0,\n",
    "                       n_jobs=(-1))\n",
    "\n",
    "params = {'C': np.linspace(0.06, 0.2, 100)}\n",
    "\n",
    "logRegGS = ms.GridSearchCV(logRegModel, param_grid=params,\n",
    "                           scoring='recall', cv=skfold, verbose=1,\n",
    "                           return_train_score=True\n",
    "                          ).fit(X_train, y_train)\n",
    "\n",
    "bestLogReg = logRegGS.best_estimator_\n",
    "\n",
    "dump(bestLogReg, './data/Iteration_1/bestLogReg.pkl')\n",
    "\n",
    "bestLogReg = load('./data/Iteration_1/bestLogReg.pkl')\n",
    "model_results(bestLogReg)\n",
    "\n",
    "# --------------------------------------------------------------------\n",
    "# params = {'C': np.logspace(-2, 2, 50)}\n",
    "# Model details:\n",
    "# LogisticRegression(C=0.07906043210907697,\n",
    "#                    class_weight='balanced', n_jobs=-1,\n",
    "#                    penalty='l1', random_state=0, solver='liblinear') \n",
    "\n",
    "# Train Set Recall Score: 91.81%\n",
    "# Test Set Recall Score: 91.45%"
   ]
  },
  {
   "cell_type": "markdown",
   "metadata": {},
   "source": [
    "### Results"
   ]
  },
  {
   "cell_type": "code",
   "execution_count": 51,
   "metadata": {
    "scrolled": true
   },
   "outputs": [
    {
     "data": {
      "text/html": [
       "<div>\n",
       "<style scoped>\n",
       "    .dataframe tbody tr th:only-of-type {\n",
       "        vertical-align: middle;\n",
       "    }\n",
       "\n",
       "    .dataframe tbody tr th {\n",
       "        vertical-align: top;\n",
       "    }\n",
       "\n",
       "    .dataframe thead th {\n",
       "        text-align: right;\n",
       "    }\n",
       "</style>\n",
       "<table border=\"1\" class=\"dataframe\">\n",
       "  <thead>\n",
       "    <tr style=\"text-align: right;\">\n",
       "      <th></th>\n",
       "      <th>Coefficient</th>\n",
       "    </tr>\n",
       "  </thead>\n",
       "  <tbody>\n",
       "    <tr>\n",
       "      <th>OP_Count_UniquePatients</th>\n",
       "      <td>7.737743</td>\n",
       "    </tr>\n",
       "    <tr>\n",
       "      <th>IP_Count_UniquePatients</th>\n",
       "      <td>4.772498</td>\n",
       "    </tr>\n",
       "    <tr>\n",
       "      <th>Ratio_ClaimsPerPatient</th>\n",
       "      <td>4.349272</td>\n",
       "    </tr>\n",
       "    <tr>\n",
       "      <th>Perc_Outpatient</th>\n",
       "      <td>2.012477</td>\n",
       "    </tr>\n",
       "    <tr>\n",
       "      <th>DualPatientProvider</th>\n",
       "      <td>1.603062</td>\n",
       "    </tr>\n",
       "    <tr>\n",
       "      <th>OP_Perc_MultHosp</th>\n",
       "      <td>0.628976</td>\n",
       "    </tr>\n",
       "    <tr>\n",
       "      <th>OP_Count_UniqueState</th>\n",
       "      <td>0.620527</td>\n",
       "    </tr>\n",
       "    <tr>\n",
       "      <th>IP_Mean_AdmitDuration</th>\n",
       "      <td>0.318757</td>\n",
       "    </tr>\n",
       "    <tr>\n",
       "      <th>IP_Mean_InsReimbursementRatio</th>\n",
       "      <td>0.231783</td>\n",
       "    </tr>\n",
       "    <tr>\n",
       "      <th>IP_Perc_HeartFailure_Chronic</th>\n",
       "      <td>0.129235</td>\n",
       "    </tr>\n",
       "    <tr>\n",
       "      <th>Perc_MultHospAttPhys</th>\n",
       "      <td>0.097987</td>\n",
       "    </tr>\n",
       "    <tr>\n",
       "      <th>OP_Perc_KidneyDisease_Chronic</th>\n",
       "      <td>0.045199</td>\n",
       "    </tr>\n",
       "    <tr>\n",
       "      <th>IP_Perc_Depression_Chronic</th>\n",
       "      <td>0.025156</td>\n",
       "    </tr>\n",
       "  </tbody>\n",
       "</table>\n",
       "</div>"
      ],
      "text/plain": [
       "                               Coefficient\n",
       "OP_Count_UniquePatients           7.737743\n",
       "IP_Count_UniquePatients           4.772498\n",
       "Ratio_ClaimsPerPatient            4.349272\n",
       "Perc_Outpatient                   2.012477\n",
       "DualPatientProvider               1.603062\n",
       "OP_Perc_MultHosp                  0.628976\n",
       "OP_Count_UniqueState              0.620527\n",
       "IP_Mean_AdmitDuration             0.318757\n",
       "IP_Mean_InsReimbursementRatio     0.231783\n",
       "IP_Perc_HeartFailure_Chronic      0.129235\n",
       "Perc_MultHospAttPhys              0.097987\n",
       "OP_Perc_KidneyDisease_Chronic     0.045199\n",
       "IP_Perc_Depression_Chronic        0.025156"
      ]
     },
     "execution_count": 51,
     "metadata": {},
     "output_type": "execute_result"
    }
   ],
   "source": [
    "coefficients = pd.DataFrame(bestLogReg.coef_.T, index=X.columns\n",
    "                           ).rename(columns = {0:'Coefficient'}\n",
    "                           ).abs().sort_values(by='Coefficient',\n",
    "                                               ascending=False)\n",
    "coefficients[coefficients.Coefficient > 0]"
   ]
  },
  {
   "cell_type": "markdown",
   "metadata": {},
   "source": [
    "## K-nearest Neighbors"
   ]
  },
  {
   "cell_type": "code",
   "execution_count": 21,
   "metadata": {},
   "outputs": [
    {
     "name": "stdout",
     "output_type": "stream",
     "text": [
      "Model details: KNeighborsClassifier() \n",
      "\n",
      "Train Set Recall Score: 100.0%\n",
      "Test Set Recall Score: 92.75999999999999%\n",
      "\n",
      "Train Set Confusion Matrix:\n",
      " [[2612  821]\n",
      " [   0  354]]\n",
      "Test Set Confusion Matrix:\n",
      " [[1062  409]\n",
      " [  11  141]]\n"
     ]
    }
   ],
   "source": [
    "# # baseline model\n",
    "\n",
    "knn = KNeighborsClassifier().fit(X_train_SMOTE, y_train_SMOTE)\n",
    "\n",
    "dump(knn, './data/Iteration_1/knn.pkl')\n",
    "\n",
    "knn = load('./data/Iteration_1/knn.pkl')\n",
    "model_results(knn)"
   ]
  },
  {
   "cell_type": "code",
   "execution_count": 52,
   "metadata": {},
   "outputs": [
    {
     "name": "stdout",
     "output_type": "stream",
     "text": [
      "Fitting 5 folds for each of 10 candidates, totalling 50 fits\n"
     ]
    },
    {
     "name": "stderr",
     "output_type": "stream",
     "text": [
      "[Parallel(n_jobs=-1)]: Using backend LokyBackend with 8 concurrent workers.\n",
      "[Parallel(n_jobs=-1)]: Done  34 tasks      | elapsed:   39.2s\n",
      "[Parallel(n_jobs=-1)]: Done  50 out of  50 | elapsed:   49.2s finished\n"
     ]
    },
    {
     "name": "stdout",
     "output_type": "stream",
     "text": [
      "Model details: KNeighborsClassifier(leaf_size=3, weights='distance') \n",
      "\n",
      "Train Set Recall Score: 100.0%\n",
      "Test Set Recall Score: 92.75999999999999%\n",
      "\n",
      "Train Set Confusion Matrix:\n",
      " [[3433    0]\n",
      " [   0 3433]]\n",
      "Test Set Confusion Matrix:\n",
      " [[1062  409]\n",
      " [  11  141]]\n"
     ]
    }
   ],
   "source": [
    "# # grid search (fine-tuned)\n",
    "\n",
    "params = {'leaf_size': np.arange(3, 8),\n",
    "          'weights': ['uniform','distance']}\n",
    "\n",
    "knnGS = \\\n",
    "    ms.GridSearchCV(knn, param_grid=params,\n",
    "                          cv=skfold, n_jobs=(-1), verbose = 1,\n",
    "                          return_train_score = True,\n",
    "                          scoring = 'recall').fit(X_train_SMOTE,\n",
    "                                                  y_train_SMOTE)\n",
    "\n",
    "bestKNN = knnGS.best_estimator_\n",
    "dump(bestKNN, './data/Iteration_1/bestKNN.pkl')\n",
    "\n",
    "bestKNN = load('./data/Iteration_1/bestKNN.pkl')\n",
    "model_results(bestKNN, X_train_SMOTE, y_train_SMOTE)\n",
    "\n",
    "\n",
    "# params = {'algorithm': ['auto', 'ball_tree', 'kd_tree', 'brute'],\n",
    "#           'leaf_size': [5, 15, 30, 75, 100],\n",
    "#           'weights': ['uniform','distance']}\n",
    "# Model details: KNeighborsClassifier(leaf_size=5, weights='distance') \n",
    "\n",
    "# Train Set Recall Score: 100.0%\n",
    "# Test Set Recall Score: 92.75999999999999%"
   ]
  },
  {
   "cell_type": "markdown",
   "metadata": {},
   "source": [
    "## Gaussian Naive Bayes"
   ]
  },
  {
   "cell_type": "code",
   "execution_count": 17,
   "metadata": {
    "scrolled": true
   },
   "outputs": [
    {
     "name": "stdout",
     "output_type": "stream",
     "text": [
      "Model details: GaussianNB() \n",
      "\n",
      "Train Set Recall Score: 85.03%\n",
      "Test Set Recall Score: 82.24000000000001%\n",
      "\n",
      "Train Set Confusion Matrix:\n",
      " [[2709  724]\n",
      " [  53  301]]\n",
      "Test Set Confusion Matrix:\n",
      " [[1188  283]\n",
      " [  27  125]]\n"
     ]
    }
   ],
   "source": [
    "# # baseline model\n",
    "\n",
    "gnb = GaussianNB().fit(X_train, y_train)\n",
    "\n",
    "dump(gnb, './data/Iteration_1/gnb.pkl')\n",
    "\n",
    "gnb = load('./data/Iteration_1/gnb.pkl')\n",
    "model_results(gnb)"
   ]
  },
  {
   "cell_type": "code",
   "execution_count": 18,
   "metadata": {
    "scrolled": true
   },
   "outputs": [
    {
     "name": "stdout",
     "output_type": "stream",
     "text": [
      "Fitting 5 folds for each of 3 candidates, totalling 15 fits\n"
     ]
    },
    {
     "name": "stderr",
     "output_type": "stream",
     "text": [
      "[Parallel(n_jobs=-1)]: Using backend LokyBackend with 8 concurrent workers.\n",
      "[Parallel(n_jobs=-1)]: Done  15 out of  15 | elapsed:    0.1s finished\n"
     ]
    },
    {
     "name": "stdout",
     "output_type": "stream",
     "text": [
      "Model details: GaussianNB(var_smoothing=0.1) \n",
      "\n",
      "Train Set Recall Score: 87.29%\n",
      "Test Set Recall Score: 86.18%\n",
      "\n",
      "Train Set Confusion Matrix:\n",
      " [[2289 1144]\n",
      " [  45  309]]\n",
      "Test Set Confusion Matrix:\n",
      " [[1019  452]\n",
      " [  21  131]]\n"
     ]
    }
   ],
   "source": [
    "# # grid search\n",
    "\n",
    "params = {'var_smoothing': [0.001, 0.01, 0.1]}\n",
    "\n",
    "gnbModel = ms.GridSearchCV(gnb, param_grid=params,\n",
    "                             scoring='recall', cv=skfold,\n",
    "                             n_jobs=(-1), verbose=1\n",
    "                            ).fit(X_train, y_train)\n",
    "\n",
    "bestGNB = gnbModel.best_estimator_\n",
    "dump(bestGNB, './data/Iteration_1/bestGNB.pkl')\n",
    "\n",
    "bestGNB = load('./data/Iteration_1/bestGNB.pkl')\n",
    "model_results(bestGNB)"
   ]
  },
  {
   "cell_type": "markdown",
   "metadata": {},
   "source": [
    "## Tree Models"
   ]
  },
  {
   "cell_type": "markdown",
   "metadata": {},
   "source": [
    "### Random Forest"
   ]
  },
  {
   "cell_type": "code",
   "execution_count": 19,
   "metadata": {},
   "outputs": [
    {
     "name": "stdout",
     "output_type": "stream",
     "text": [
      "Model details: RandomForestClassifier(class_weight='balanced', random_state=0) \n",
      "\n",
      "Train Set Recall Score: 99.72%\n",
      "Test Set Recall Score: 41.449999999999996%\n",
      "\n",
      "Train Set Confusion Matrix:\n",
      " [[3433    0]\n",
      " [   1  353]]\n",
      "Test Set Confusion Matrix:\n",
      " [[1455   16]\n",
      " [  89   63]]\n"
     ]
    }
   ],
   "source": [
    "# # baseline model\n",
    "\n",
    "randForest = \\\n",
    "    RandomForestClassifier(class_weight='balanced', random_state=0\n",
    "                          ).fit(X_train, y_train)\n",
    "\n",
    "dump(randForest, './data/Iteration_1/randForest.pkl')\n",
    "\n",
    "randForest = load('./data/Iteration_1/randForest.pkl')\n",
    "model_results(randForest)"
   ]
  },
  {
   "cell_type": "code",
   "execution_count": 25,
   "metadata": {
    "scrolled": false
   },
   "outputs": [
    {
     "name": "stdout",
     "output_type": "stream",
     "text": [
      "Fitting 5 folds for each of 10 candidates, totalling 50 fits\n"
     ]
    },
    {
     "name": "stderr",
     "output_type": "stream",
     "text": [
      "[Parallel(n_jobs=-1)]: Using backend LokyBackend with 8 concurrent workers.\n",
      "[Parallel(n_jobs=-1)]: Done  34 tasks      | elapsed:   38.8s\n",
      "[Parallel(n_jobs=-1)]: Done  50 out of  50 | elapsed:   52.0s finished\n"
     ]
    },
    {
     "name": "stdout",
     "output_type": "stream",
     "text": [
      "Model details: RandomForestClassifier(class_weight='balanced_subsample', max_depth=2,\n",
      "                       max_features='sqrt', min_samples_leaf=12,\n",
      "                       n_estimators=1200, random_state=0) \n",
      "\n",
      "Train Set Recall Score: 84.75%\n",
      "Test Set Recall Score: 84.87%\n",
      "\n",
      "Train Set Confusion Matrix:\n",
      " [[2714  719]\n",
      " [  54  300]]\n",
      "Test Set Confusion Matrix:\n",
      " [[1196  275]\n",
      " [  23  129]]\n"
     ]
    }
   ],
   "source": [
    "params = {'n_estimators': [500, 850, 1200],\n",
    "          'max_depth': [2, 5, 8],\n",
    "          'max_features': ['auto', 'sqrt'],\n",
    "          'min_samples_leaf': [1, 5, 12],\n",
    "          'class_weight': ['balanced', 'balanced_subsample']}\n",
    "\n",
    "randForestRS = \\\n",
    "    RandomForestClassifier(random_state=0).fit(X_train, y_train)\n",
    "\n",
    "randForestRS = \\\n",
    "    ms.RandomizedSearchCV(randForestRS,\n",
    "                          param_distributions=params,\n",
    "                          scoring='recall', cv=skfold,\n",
    "                          n_jobs=(-1), verbose=1,\n",
    "                          return_train_score=True\n",
    "                          ).fit(X_train, y_train)\n",
    "\n",
    "bestRandForest = randForestRS.best_estimator_\n",
    "dump(bestRandForest, './data/Iteration_1/bestRandForest.pkl')\n",
    "\n",
    "bestRandForest = load('./data/Iteration_1/bestRandForest.pkl')\n",
    "model_results(bestRandForest)"
   ]
  },
  {
   "cell_type": "code",
   "execution_count": null,
   "metadata": {},
   "outputs": [],
   "source": [
    "# 70/30 train/test split, MinMaxScaler(), skfold=10\n",
    "\n",
    "# params = {'n_estimators': [100, 500, 1500],\n",
    "#           'max_depth': [2, 5, 8]}\n",
    "# RandomForestClassifier(class_weight='balanced', max_depth=2, n_estimators=500,\n",
    "#                        random_state=0)\n",
    "# 0.8870056497175142\n",
    "# 0.875\n",
    "# RandomForestClassifier(class_weight='balanced_subsample', max_depth=2,\n",
    "#                        n_estimators=500, random_state=0)\n",
    "# 0.884180790960452\n",
    "# 0.875\n",
    "\n",
    "# params = {'n_estimators': [100, 500, 750],\n",
    "#           'max_depth': [2, 5, 8],\n",
    "#           'min_samples_split': [2, 3, 5]}\n",
    "# RandomForestClassifier(class_weight='balanced', max_depth=2, n_estimators=500,\n",
    "#                        random_state=0)\n",
    "# 0.8870056497175142\n",
    "# 0.875\n",
    "\n",
    "# params = {'n_estimators': [100, 500, 750],\n",
    "#           'max_depth': [2, 5, 8],\n",
    "#           'max_features': [2, 3, 5]}\n",
    "# RandomForestClassifier(class_weight='balanced', max_depth=2, max_features=3,\n",
    "#                        random_state=0)\n",
    "# 0.8615819209039548\n",
    "# 0.8618421052631579\n",
    "\n",
    "\n",
    "# 90/10 train/test split, MinMaxScaler, skfold=10\n",
    "\n",
    "# params = {'n_estimators': [100, 500, 750],\n",
    "#           'max_depth': [2, 5, 8],\n",
    "#           'max_features': [2, 3, 5]}\n",
    "# RandomForestClassifier(class_weight='balanced', max_depth=2, max_features=2,\n",
    "#                        n_estimators=750, random_state=0)\n",
    "# 0.8637362637362638\n",
    "# 0.8235294117647058"
   ]
  },
  {
   "cell_type": "markdown",
   "metadata": {},
   "source": [
    "### Gradient Boosting"
   ]
  },
  {
   "cell_type": "code",
   "execution_count": 64,
   "metadata": {
    "scrolled": true
   },
   "outputs": [
    {
     "name": "stdout",
     "output_type": "stream",
     "text": [
      "Model details: GradientBoostingClassifier(max_features='auto', random_state=0) \n",
      "\n",
      "Train Set Recall Score: 98.87%\n",
      "Test Set Recall Score: 80.92%\n",
      "\n",
      "Train Set Confusion Matrix:\n",
      " [[3228  205]\n",
      " [   4  350]]\n",
      "Test Set Confusion Matrix:\n",
      " [[1353  118]\n",
      " [  29  123]]\n"
     ]
    }
   ],
   "source": [
    "# # baseline model with sample_weight\n",
    "\n",
    "gradBoostModel = \\\n",
    "    GradientBoostingClassifier(max_features='auto', random_state=0)\n",
    "gradBoostModel.fit(X_train, y_train, sample_weight=\n",
    "    compute_sample_weight(class_weight='balanced', y=y_train))\n",
    "\n",
    "dump(gradBoostModel, './data/Iteration_1/gradBoostModel.pkl')\n",
    "\n",
    "gradBoostModel = load('./data/Iteration_1/gradBoostModel.pkl')\n",
    "model_results(gradBoostModel)\n",
    "\n",
    "# ---------------------------------------------------------------\n",
    "# # baseline model with SMOTE\n",
    "# Model details:\n",
    "# GradientBoostingClassifier(max_features='auto', random_state=0) \n",
    "\n",
    "# Train Set Recall Score: 98.08%\n",
    "# Test Set Recall Score: 74.33999999999999%\n",
    "\n",
    "# Train Set Confusion Matrix:\n",
    "#  [[3324  109]\n",
    "#  [  66 3367]]\n",
    "# Test Set Confusion Matrix:\n",
    "#  [[1391   80]\n",
    "#  [  39  113]]"
   ]
  },
  {
   "cell_type": "code",
   "execution_count": 70,
   "metadata": {
    "scrolled": false
   },
   "outputs": [
    {
     "name": "stdout",
     "output_type": "stream",
     "text": [
      "Fitting 5 folds for each of 10 candidates, totalling 50 fits\n"
     ]
    },
    {
     "name": "stderr",
     "output_type": "stream",
     "text": [
      "[Parallel(n_jobs=-1)]: Using backend LokyBackend with 8 concurrent workers.\n",
      "[Parallel(n_jobs=-1)]: Done  34 tasks      | elapsed:  1.4min\n",
      "[Parallel(n_jobs=-1)]: Done  50 out of  50 | elapsed:  1.9min finished\n"
     ]
    },
    {
     "name": "stdout",
     "output_type": "stream",
     "text": [
      "Model details: GradientBoostingClassifier(learning_rate=0.01, max_features='auto',\n",
      "                           min_samples_leaf=12, min_samples_split=24,\n",
      "                           n_estimators=200, random_state=0) \n",
      "\n",
      "Train Set Recall Score: 94.07%\n",
      "Test Set Recall Score: 88.16000000000001%\n",
      "\n",
      "Train Set Confusion Matrix:\n",
      " [[3009  424]\n",
      " [  21  333]]\n",
      "Test Set Confusion Matrix:\n",
      " [[1296  175]\n",
      " [  18  134]]\n"
     ]
    }
   ],
   "source": [
    "params = {'learning_rate':[0.01],\n",
    "          'n_estimators': [200, 500],\n",
    "          'min_samples_split': [24, 30, 36],\n",
    "          'min_samples_leaf': [12, 16, 20]}\n",
    "\n",
    "gradBoostRS = ms.RandomizedSearchCV(gradBoostModel,\n",
    "                                    param_distributions=params,\n",
    "                                    scoring='recall', cv=skfold,\n",
    "                                    n_jobs=(-1), verbose=1,\n",
    "                                    return_train_score=True,\n",
    "                                   )\n",
    "gradBoostRS.fit(X_train, y_train,\n",
    "    sample_weight=\\\n",
    "        compute_sample_weight(class_weight='balanced', y=y_train))\n",
    "\n",
    "bestGradBoost = gradBoostRS.best_estimator_\n",
    "# dump(bestGradBoost, './data/Iteration_1/bestGradBoost.pkl')\n",
    "\n",
    "# bestGradBoost = load('./data/Iteration_1/bestGradBoost.pkl')\n",
    "model_results(bestGradBoost)\n",
    "\n",
    "\n",
    "# params = {'learning_rate':[0.001, 0.01, 0.1],\n",
    "#           'n_estimators': [500, 850, 1200],\n",
    "#           'min_samples_split': [2, 8, 20],\n",
    "#           'min_samples_leaf': [1, 5, 12]}\n",
    "# Model details: GradientBoostingClassifier(learning_rate=0.001, max_features='auto',\n",
    "#                            min_samples_leaf=12, min_samples_split=20,\n",
    "#                            n_estimators=1200, random_state=0) \n",
    "\n",
    "# Train Set Recall Score: 92.66%\n",
    "# Test Set Recall Score: 90.79%\n",
    "\n",
    "# Train Set Confusion Matrix:\n",
    "#  [[2971  462]\n",
    "#  [  26  328]]\n",
    "# Test Set Confusion Matrix:\n",
    "#  [[1291  180]\n",
    "#  [  14  138]]"
   ]
  },
  {
   "cell_type": "code",
   "execution_count": null,
   "metadata": {
    "scrolled": false
   },
   "outputs": [],
   "source": [
    "# params = {'n_estimators': [100,500,1000,2500,5000,6000],\n",
    "#                 'learning_rate':[0.01,0.05,0.08,0.1, 0.25],\n",
    "#                 'max_depth': np.arange(2, 21, 3),\n",
    "#                 'min_samples_split': np.arange(2, 13, 2),\n",
    "#                 'min_samples_leaf' : np.arange(2, 13, 2)}\n",
    "\n",
    "# gradBoostRS = ms.RandomizedSearchCV(gradBoostModel,\n",
    "#                                     param_distributions=params,\n",
    "#                                     cv=skfold, scoring = 'recall',\n",
    "#                                     return_train_score = True,\n",
    "#                                     verbose=1, n_jobs=(-1))\n",
    "# gradBoostRSfit = gradBoostRS.fit(X_train_SMOTE, y_train_SMOTE)\n",
    "\n",
    "# bestGradBoostRS = gradBoostRSfit.best_estimator_\n",
    "# dump(bestGradBoostRS, './data/Iteration_1/bestGradBoostRS.pkl')\n",
    "\n",
    "# bestGradBoostRS = load('./data/Iteration_1/bestGradBoostRS.pkl')\n",
    "# model_results(bestGradBoostRS)"
   ]
  },
  {
   "cell_type": "markdown",
   "metadata": {},
   "source": [
    "## Support Vector Machine"
   ]
  },
  {
   "cell_type": "code",
   "execution_count": 29,
   "metadata": {},
   "outputs": [
    {
     "name": "stdout",
     "output_type": "stream",
     "text": [
      "Model details: SVC(class_weight='balanced', random_state=0) \n",
      "\n",
      "Train Set Recall Score: 93.78999999999999%\n",
      "Test Set Recall Score: 92.11%\n",
      "\n",
      "Train Set Confusion Matrix:\n",
      " [[2722  711]\n",
      " [  22  332]]\n",
      "Test Set Confusion Matrix:\n",
      " [[1177  294]\n",
      " [  12  140]]\n"
     ]
    }
   ],
   "source": [
    "# # baseline model\n",
    "\n",
    "svm = \\\n",
    "    SVC(random_state=0, class_weight='balanced').fit(X_train, y_train)\n",
    "\n",
    "dump(svm, './data/Iteration_1/svm.pkl')\n",
    "\n",
    "svm = load('./data/Iteration_1/svm.pkl')\n",
    "model_results(svm)"
   ]
  },
  {
   "cell_type": "code",
   "execution_count": 31,
   "metadata": {
    "scrolled": true
   },
   "outputs": [
    {
     "name": "stdout",
     "output_type": "stream",
     "text": [
      "Fitting 5 folds for each of 50 candidates, totalling 250 fits\n"
     ]
    },
    {
     "name": "stderr",
     "output_type": "stream",
     "text": [
      "[Parallel(n_jobs=-1)]: Using backend LokyBackend with 8 concurrent workers.\n",
      "[Parallel(n_jobs=-1)]: Done  34 tasks      | elapsed:   13.2s\n",
      "[Parallel(n_jobs=-1)]: Done 184 tasks      | elapsed:   37.2s\n",
      "[Parallel(n_jobs=-1)]: Done 250 out of 250 | elapsed:   43.2s finished\n"
     ]
    },
    {
     "name": "stdout",
     "output_type": "stream",
     "text": [
      "Model details: SVC(C=0.5689866029018299, class_weight='balanced', random_state=0) \n",
      "\n",
      "Train Set Recall Score: 92.09%\n",
      "Test Set Recall Score: 92.11%\n",
      "\n",
      "Train Set Confusion Matrix:\n",
      " [[2598  835]\n",
      " [  28  326]]\n",
      "Test Set Confusion Matrix:\n",
      " [[1131  340]\n",
      " [  12  140]]\n"
     ]
    }
   ],
   "source": [
    "# # grid search\n",
    "\n",
    "params = {'C': np.logspace(-3, 2, 100),\n",
    "          'kernel': ['linear', 'poly', 'rbf'],\n",
    "          'degree': [1, 3, 5],\n",
    "          'gamma': ['scale', 'auto']}\n",
    "\n",
    "svmRS = \\\n",
    "    ms.RandomizedSearchCV(svm, param_grid=params,\n",
    "                          scoring='recall', cv=skfold,\n",
    "                          n_jobs=(-1), verbose=1,\n",
    "                          return_train_score=True\n",
    "                         ).fit(X_train, y_train)\n",
    "\n",
    "bestSVM = svmRS.best_estimator_\n",
    "dump(bestSVM, './data/Iteration_1/bestSVM.pkl')\n",
    "\n",
    "bestSVM = load('./data/Iteration_1/bestSVM.pkl')\n",
    "model_results(bestSVM)\n",
    "\n",
    "# Model details: SVC(C=0.5689866029018299, class_weight='balanced', random_state=0)\n",
    "# Train Set Recall Score: 92.09%\n",
    "# Test Set Recall Score: 92.11%"
   ]
  },
  {
   "cell_type": "code",
   "execution_count": null,
   "metadata": {},
   "outputs": [],
   "source": [
    "# # more detailed grid search, worse results\n",
    "\n",
    "# params = {'C': np.logspace(-3, 2, 50),\n",
    "#           'kernel': ['rbf', 'linear'],\n",
    "#           'degree': [1, 3, 5],\n",
    "#           'gamma': ['scale', 'auto']}\n",
    "\n",
    "# ms.GridSearchCV(svmModel, param_grid=params, scoring='recall',\n",
    "#                 cv=skfold, n_jobs=(-1), verbose=1).fit(X_train, y_train)\n",
    "\n",
    "# Model details: SVC(C=0.06866488450043001, class_weight='balanced', degree=1, kernel='linear',\n",
    "#     random_state=0) \n",
    "\n",
    "# Train Set Recall Score: 93.22%\n",
    "# Test Set Recall Score: 92.11%\n",
    "\n",
    "# Train Set Confusion Matrix:\n",
    "#  [[2339 1094]\n",
    "#  [  24  330]]\n",
    "# Test Set Confusion Matrix:\n",
    "#  [[1030  441]\n",
    "#  [  12  140]]"
   ]
  }
 ],
 "metadata": {
  "kernelspec": {
   "display_name": "Python 3",
   "language": "python",
   "name": "python3"
  },
  "language_info": {
   "codemirror_mode": {
    "name": "ipython",
    "version": 3
   },
   "file_extension": ".py",
   "mimetype": "text/x-python",
   "name": "python",
   "nbconvert_exporter": "python",
   "pygments_lexer": "ipython3",
   "version": "3.7.6"
  },
  "toc": {
   "base_numbering": 1,
   "nav_menu": {},
   "number_sections": true,
   "sideBar": true,
   "skip_h1_title": true,
   "title_cell": "Table of Contents",
   "title_sidebar": "Contents",
   "toc_cell": false,
   "toc_position": {
    "height": "calc(100% - 180px)",
    "left": "10px",
    "top": "150px",
    "width": "165px"
   },
   "toc_section_display": true,
   "toc_window_display": true
  }
 },
 "nbformat": 4,
 "nbformat_minor": 4
}
