{
 "cells": [
  {
   "cell_type": "markdown",
   "metadata": {},
   "source": [
    "## Setup and Data Import"
   ]
  },
  {
   "cell_type": "code",
   "execution_count": 1,
   "metadata": {},
   "outputs": [],
   "source": [
    "import sys\n",
    "sys.path.insert(0, '..')\n",
    "\n",
    "from joblib import dump, load\n",
    "\n",
    "import numpy as np\n",
    "\n",
    "import pandas as pd\n",
    "pd.set_option('display.max_columns', None)\n",
    "\n",
    "from sklearn.preprocessing import MinMaxScaler\n",
    "import sklearn.model_selection as ms\n",
    "from sklearn.linear_model import LogisticRegressionCV\n",
    "from sklearn.ensemble import \\\n",
    "    RandomForestClassifier, GradientBoostingClassifier\n",
    "from sklearn.metrics import recall_score\n",
    "\n",
    "import plotly.express as px\n",
    "import plotly.graph_objects as go"
   ]
  },
  {
   "cell_type": "code",
   "execution_count": 2,
   "metadata": {},
   "outputs": [],
   "source": [
    "providers = load('./data/Providers_Final.pkl')\n",
    "providers.set_index('Provider', inplace=True)"
   ]
  },
  {
   "cell_type": "code",
   "execution_count": 3,
   "metadata": {},
   "outputs": [],
   "source": [
    "X = providers.drop('PotentialFraud', axis=1)\n",
    "y = providers.PotentialFraud"
   ]
  },
  {
   "cell_type": "markdown",
   "metadata": {},
   "source": [
    "## Pre-processing"
   ]
  },
  {
   "cell_type": "code",
   "execution_count": 4,
   "metadata": {},
   "outputs": [],
   "source": [
    "X_train, X_test, y_train, y_test = \\\n",
    "    ms.train_test_split(X, y, test_size = 0.1, random_state = 0)\n",
    "\n",
    "#        train/test splits\n",
    "#  70/30       80/20       90/10\n",
    "#       logistic regression\n",
    "# 0.94398     0.92530     0.92308\n",
    "# 0.86577     0.92308     0.92157\n",
    "#          random forest\n",
    "# 0.93240     0.93207     0.93243\n",
    "# 0.93469     0.93623     0.93161\n",
    "#        gradient boosting\n",
    "# 0.93874     0.94108     0.94558\n",
    "# 0.94763     0.95471     0.94455"
   ]
  },
  {
   "cell_type": "code",
   "execution_count": 5,
   "metadata": {},
   "outputs": [],
   "source": [
    "# Scale only the training data to avoid data leakage\n",
    "scaler = MinMaxScaler()\n",
    "X_train = scaler.fit_transform(X_train)\n",
    "X_test = scaler.transform(X_test)\n",
    "\n",
    "# StandardScaler > RobustScaler < MinMaxScaler > StandardScaler\n",
    "# StandardScaler < RobustScaler = MinMaxScaler = StandardScaler\n",
    "# StandardScaler = RobustScaler = MinMaxScaler = StandardScaler"
   ]
  },
  {
   "cell_type": "code",
   "execution_count": 6,
   "metadata": {},
   "outputs": [],
   "source": [
    "# pd.DataFrame(X_train, columns=X.columns)"
   ]
  },
  {
   "cell_type": "markdown",
   "metadata": {},
   "source": [
    "### Functions"
   ]
  },
  {
   "cell_type": "code",
   "execution_count": 7,
   "metadata": {},
   "outputs": [],
   "source": [
    "def feature_importances(model):\n",
    "    df = pd.DataFrame({'feature': np.array(X.columns),\n",
    "                       'importance': model.feature_importances_}\n",
    "                     ).sort_values('importance')\n",
    "    return px.bar(df, 'importance', 'feature', height=1000)"
   ]
  },
  {
   "cell_type": "markdown",
   "metadata": {},
   "source": [
    "## Baseline Models"
   ]
  },
  {
   "cell_type": "markdown",
   "metadata": {},
   "source": [
    "### Logistic Regression"
   ]
  },
  {
   "cell_type": "code",
   "execution_count": 8,
   "metadata": {},
   "outputs": [
    {
     "name": "stdout",
     "output_type": "stream",
     "text": [
      "0.9142857142857143\n",
      "0.9215686274509803\n"
     ]
    }
   ],
   "source": [
    "log_reg = LogisticRegressionCV(max_iter=2250, class_weight='balanced',\n",
    "                               scoring='recall', cv=10, random_state=0)\n",
    "log_reg.fit(X_train, y_train)\n",
    "\n",
    "print(log_reg.score(X_train, y_train))\n",
    "print(log_reg.score(X_test, y_test))\n",
    "\n",
    "# Although data is scaled, without max_iter > 2000,\n",
    "# 'ConvergenceWarning: lbfgs failed to converge (status=1):\n",
    "# STOP: TOTAL NO. of ITERATIONS REACHED LIMIT.\n",
    "# Increase the number of iterations (max_iter) or scale the data'\n",
    "# Above max_iter 2000, score remains the same."
   ]
  },
  {
   "cell_type": "code",
   "execution_count": 9,
   "metadata": {},
   "outputs": [
    {
     "name": "stdout",
     "output_type": "stream",
     "text": [
      "0.9322255177833549\n",
      "0.933456561922366\n"
     ]
    }
   ],
   "source": [
    "# max_features default is 'auto' (sqrt(n_features))\n",
    "randForest = RandomForestClassifier(class_weight='balanced', random_state=0)\n",
    "randForest.fit(X_train, y_train)\n",
    "\n",
    "print(np.mean(ms.cross_val_score(randForest, X_train, y_train, cv=10)))\n",
    "print(randForest.score(X_test, y_test))"
   ]
  },
  {
   "cell_type": "code",
   "execution_count": 10,
   "metadata": {},
   "outputs": [
    {
     "name": "stdout",
     "output_type": "stream",
     "text": [
      "0.9455750754176488\n",
      "0.944547134935305\n"
     ]
    }
   ],
   "source": [
    "gradBoost = GradientBoostingClassifier(max_features='auto', random_state=0)\n",
    "gradBoost.fit(X_train, y_train)\n",
    "\n",
    "print(np.mean(ms.cross_val_score(gradBoost, X_train, y_train, cv=10)))\n",
    "print(gradBoost.score(X_test, y_test))"
   ]
  },
  {
   "cell_type": "markdown",
   "metadata": {},
   "source": [
    "## Gradient Boosting"
   ]
  },
  {
   "cell_type": "code",
   "execution_count": 11,
   "metadata": {
    "scrolled": true
   },
   "outputs": [],
   "source": [
    "# feature_importances(gradBoost)"
   ]
  },
  {
   "cell_type": "code",
   "execution_count": 12,
   "metadata": {},
   "outputs": [],
   "source": [
    "X_train_reduced = pd.DataFrame(X_train, columns=X.columns)\n",
    "X_train_reduced = X_train_reduced.iloc[:,:len(gradBoost.feature_importances_\n",
    "                          [gradBoost.feature_importances_ > 0.001])];"
   ]
  },
  {
   "cell_type": "code",
   "execution_count": 13,
   "metadata": {},
   "outputs": [],
   "source": [
    "X_test_reduced = pd.DataFrame(X_test, columns=X.columns)\n",
    "X_test_reduced = X_test_reduced.iloc[:,:len(gradBoost.feature_importances_\n",
    "                          [gradBoost.feature_importances_ > 0.001])];"
   ]
  },
  {
   "cell_type": "code",
   "execution_count": 15,
   "metadata": {},
   "outputs": [
    {
     "name": "stdout",
     "output_type": "stream",
     "text": [
      "0.9437257586128223\n",
      "0.9390018484288355\n"
     ]
    }
   ],
   "source": [
    "gradBoost_reduced = gradBoost.fit(X_train_reduced, y_train)\n",
    "\n",
    "print(np.mean(ms.cross_val_score(gradBoost_reduced, X_train_reduced, y_train, cv=10)))\n",
    "print(gradBoost_reduced.score(X_test_reduced, y_test))\n",
    "\n",
    "# FI at 0.001: 0.9437257586128223/0.9390018484288355"
   ]
  }
 ],
 "metadata": {
  "kernelspec": {
   "display_name": "Python 3",
   "language": "python",
   "name": "python3"
  },
  "language_info": {
   "codemirror_mode": {
    "name": "ipython",
    "version": 3
   },
   "file_extension": ".py",
   "mimetype": "text/x-python",
   "name": "python",
   "nbconvert_exporter": "python",
   "pygments_lexer": "ipython3",
   "version": "3.7.6"
  },
  "toc": {
   "base_numbering": 1,
   "nav_menu": {},
   "number_sections": true,
   "sideBar": true,
   "skip_h1_title": true,
   "title_cell": "Table of Contents",
   "title_sidebar": "Contents",
   "toc_cell": false,
   "toc_position": {
    "height": "calc(100% - 180px)",
    "left": "10px",
    "top": "150px",
    "width": "165px"
   },
   "toc_section_display": true,
   "toc_window_display": true
  }
 },
 "nbformat": 4,
 "nbformat_minor": 4
}
