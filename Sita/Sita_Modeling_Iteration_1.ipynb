{
 "cells": [
  {
   "cell_type": "markdown",
   "metadata": {},
   "source": [
    "## Setup and Data Import"
   ]
  },
  {
   "cell_type": "code",
   "execution_count": 1,
   "metadata": {},
   "outputs": [],
   "source": [
    "import sys\n",
    "sys.path.insert(0, '..')\n",
    "\n",
    "from joblib import dump, load\n",
    "\n",
    "import numpy as np\n",
    "\n",
    "import pandas as pd\n",
    "pd.set_option('display.max_columns', None)\n",
    "\n",
    "import sklearn.model_selection as ms\n",
    "from sklearn import preprocessing as pp\n",
    "from sklearn.linear_model import \\\n",
    "    LogisticRegressionCV, LogisticRegression\n",
    "from sklearn.ensemble import \\\n",
    "    RandomForestClassifier, GradientBoostingClassifier\n",
    "from sklearn.svm import SVC\n",
    "from sklearn.naive_bayes import GaussianNB\n",
    "from sklearn.neighbors import KNeighborsClassifier\n",
    "from sklearn.metrics import recall_score, confusion_matrix\n",
    "from sklearn.utils.class_weight import compute_sample_weight\n",
    "\n",
    "from imblearn import over_sampling"
   ]
  },
  {
   "cell_type": "code",
   "execution_count": 2,
   "metadata": {},
   "outputs": [],
   "source": [
    "providers = load('./data/Providers_Iteration_1.pkl')\n",
    "providers.set_index('Provider', inplace=True)"
   ]
  },
  {
   "cell_type": "code",
   "execution_count": 3,
   "metadata": {},
   "outputs": [],
   "source": [
    "X = providers.drop('PotentialFraud', axis=1)\n",
    "y = providers.PotentialFraud"
   ]
  },
  {
   "cell_type": "markdown",
   "metadata": {},
   "source": [
    "## Pre-processing"
   ]
  },
  {
   "cell_type": "code",
   "execution_count": 4,
   "metadata": {},
   "outputs": [],
   "source": [
    "# # 70/30 split gives roughly the same baseline model results\n",
    "# # as 80/20 and 90/10, but saves grid_search time\n",
    "\n",
    "X_train, X_test, y_train, y_test = ms.train_test_split(\n",
    "    X, y, test_size = 0.3, random_state = 0, stratify=y)"
   ]
  },
  {
   "cell_type": "code",
   "execution_count": 5,
   "metadata": {},
   "outputs": [],
   "source": [
    "# # Scale only the training data to avoid data leakage\n",
    "# # MinMax performed better or about the same as StandardScaler,\n",
    "# # RobustScaler, and Normalize on most models\n",
    "\n",
    "scaler = pp.MinMaxScaler()\n",
    "\n",
    "X_train = pd.DataFrame(scaler.fit_transform(X_train), columns=X.columns)\n",
    "X_test = pd.DataFrame(scaler.transform(X_test), columns=X.columns)"
   ]
  },
  {
   "cell_type": "code",
   "execution_count": 6,
   "metadata": {},
   "outputs": [],
   "source": [
    "# Upsample for K-nearest Neighbors\n",
    "\n",
    "oversample = over_sampling.SMOTE(random_state=0)\n",
    "X_train_SMOTE, y_train_SMOTE = oversample.fit_resample(X_train, y_train)"
   ]
  },
  {
   "cell_type": "code",
   "execution_count": 7,
   "metadata": {},
   "outputs": [],
   "source": [
    "# # Stratify folds so that classes always have the same sample ratio\n",
    "# # n_splits=10 to maximize testing for this small dataset\n",
    "\n",
    "skfold = ms.StratifiedKFold(n_splits=5, random_state=0, shuffle=True);"
   ]
  },
  {
   "cell_type": "code",
   "execution_count": 8,
   "metadata": {},
   "outputs": [],
   "source": [
    "def model_results(model,\n",
    "    X_train=X_train, y_train=y_train, X_test=X_test, y_test=y_test):\n",
    "        train_recall = recall_score(y_train, model.predict(X_train))\n",
    "        test_recall = recall_score(y_test, model.predict(X_test))\n",
    "        \n",
    "        print('Model details:', model, '\\n')\n",
    "        print('Train Set Recall Score:',\n",
    "              f'{round(train_recall, 4) * 100}%')\n",
    "        print('Test Set Recall Score:',\n",
    "              f'{round(test_recall, 4) * 100}%')\n",
    "        print('\\nTrain Set Confusion Matrix:\\n',\n",
    "              confusion_matrix(y_train, model.predict(X_train)))\n",
    "        print('Test Set Confusion Matrix:\\n',\n",
    "              confusion_matrix(y_test, model.predict(X_test)))"
   ]
  },
  {
   "cell_type": "markdown",
   "metadata": {},
   "source": [
    "## Logistic Regression"
   ]
  },
  {
   "cell_type": "markdown",
   "metadata": {},
   "source": [
    "### Models"
   ]
  },
  {
   "cell_type": "code",
   "execution_count": 9,
   "metadata": {},
   "outputs": [
    {
     "name": "stdout",
     "output_type": "stream",
     "text": [
      "Model details: LogisticRegressionCV(class_weight='balanced',\n",
      "                     cv=StratifiedKFold(n_splits=5, random_state=0, shuffle=True),\n",
      "                     n_jobs=-1, random_state=0, scoring='recall', verbose=1) \n",
      "\n",
      "Train Set Recall Score: 89.27000000000001%\n",
      "Test Set Recall Score: 86.83999999999999%\n",
      "\n",
      "Train Set Confusion Matrix:\n",
      " [[1818 1615]\n",
      " [  38  316]]\n",
      "Test Set Confusion Matrix:\n",
      " [[820 651]\n",
      " [ 20 132]]\n"
     ]
    }
   ],
   "source": [
    "# # baseline model\n",
    "\n",
    "# logRegCV = \\\n",
    "#     LogisticRegressionCV(class_weight='balanced',\n",
    "#                          cv=skfold, scoring='recall',\n",
    "#                          random_state=0, n_jobs=(-1), verbose=1\n",
    "#                         ).fit(X_train, y_train)\n",
    "\n",
    "# dump(logRegCV, './data/Iteration_1/logRegCV.pkl')\n",
    "\n",
    "logRegCV = load('./data/Iteration_1/logRegCV.pkl')\n",
    "model_results(logRegCV)"
   ]
  },
  {
   "cell_type": "code",
   "execution_count": 10,
   "metadata": {
    "scrolled": false
   },
   "outputs": [
    {
     "name": "stdout",
     "output_type": "stream",
     "text": [
      "Model details: LogisticRegressionCV(class_weight='balanced',\n",
      "                     cv=StratifiedKFold(n_splits=5, random_state=0, shuffle=True),\n",
      "                     n_jobs=-1, penalty='l1', random_state=0, scoring='recall',\n",
      "                     solver='liblinear', verbose=1) \n",
      "\n",
      "Train Set Recall Score: 90.4%\n",
      "Test Set Recall Score: 88.16000000000001%\n",
      "\n",
      "Train Set Confusion Matrix:\n",
      " [[1881 1552]\n",
      " [  34  320]]\n",
      "Test Set Confusion Matrix:\n",
      " [[811 660]\n",
      " [ 18 134]]\n"
     ]
    }
   ],
   "source": [
    "# # baseline model\n",
    "# # L1 penalty for feature selection, liblinear solver faster than saga\n",
    "\n",
    "# logRegCVL1 = \\\n",
    "#     LogisticRegressionCV(penalty='l1', solver='liblinear', cv=skfold,\n",
    "#                          class_weight='balanced', scoring='recall',\n",
    "#                          random_state=0, n_jobs=(-1), verbose=1\n",
    "#                         ).fit(X_train, y_train)\n",
    "\n",
    "# dump(logRegCVL1, './data/Iteration_1/logRegCVL1.pkl')\n",
    "\n",
    "logRegCVL1 = load('./data/Iteration_1/logRegCVL1.pkl')\n",
    "model_results(logRegCVL1)"
   ]
  },
  {
   "cell_type": "code",
   "execution_count": 11,
   "metadata": {
    "scrolled": false
   },
   "outputs": [
    {
     "name": "stdout",
     "output_type": "stream",
     "text": [
      "Model details: LogisticRegression(C=0.07838383838383839, class_weight='balanced', n_jobs=-1,\n",
      "                   penalty='l1', random_state=0, solver='liblinear') \n",
      "\n",
      "Train Set Recall Score: 91.81%\n",
      "Test Set Recall Score: 91.45%\n",
      "\n",
      "Train Set Confusion Matrix:\n",
      " [[2576  857]\n",
      " [  29  325]]\n",
      "Test Set Confusion Matrix:\n",
      " [[1117  354]\n",
      " [  13  139]]\n"
     ]
    }
   ],
   "source": [
    "# # grid search (fine-tuned)\n",
    "\n",
    "# logRegModel = \\\n",
    "#     LogisticRegression(penalty='l1', solver='liblinear',\n",
    "#                        class_weight='balanced', random_state=0,\n",
    "#                        n_jobs=(-1))\n",
    "\n",
    "# params = {'C': np.linspace(0.06, 0.2, 100)}\n",
    "\n",
    "# logRegGS = ms.GridSearchCV(logRegModel, param_grid=params,\n",
    "#                            scoring='recall', cv=skfold, verbose=1,\n",
    "#                            return_train_score=True\n",
    "#                           ).fit(X_train, y_train)\n",
    "\n",
    "# bestLogReg = logRegGS.best_estimator_\n",
    "\n",
    "# dump(bestLogReg, './data/Iteration_1/bestLogReg.pkl')\n",
    "\n",
    "bestLogReg = load('./data/Iteration_1/bestLogReg.pkl')\n",
    "model_results(bestLogReg)\n",
    "\n",
    "# --------------------------------------------------------------------\n",
    "# params = {'C': np.logspace(-2, 2, 50)}\n",
    "# Model details:\n",
    "# LogisticRegression(C=0.07906043210907697,\n",
    "#                    class_weight='balanced', n_jobs=-1,\n",
    "#                    penalty='l1', random_state=0, solver='liblinear') \n",
    "\n",
    "# Train Set Recall Score: 91.81%\n",
    "# Test Set Recall Score: 91.45%"
   ]
  },
  {
   "cell_type": "markdown",
   "metadata": {},
   "source": [
    "### Results"
   ]
  },
  {
   "cell_type": "code",
   "execution_count": 12,
   "metadata": {
    "scrolled": false
   },
   "outputs": [
    {
     "data": {
      "text/html": [
       "<div>\n",
       "<style scoped>\n",
       "    .dataframe tbody tr th:only-of-type {\n",
       "        vertical-align: middle;\n",
       "    }\n",
       "\n",
       "    .dataframe tbody tr th {\n",
       "        vertical-align: top;\n",
       "    }\n",
       "\n",
       "    .dataframe thead th {\n",
       "        text-align: right;\n",
       "    }\n",
       "</style>\n",
       "<table border=\"1\" class=\"dataframe\">\n",
       "  <thead>\n",
       "    <tr style=\"text-align: right;\">\n",
       "      <th></th>\n",
       "      <th>Coefficient</th>\n",
       "    </tr>\n",
       "  </thead>\n",
       "  <tbody>\n",
       "    <tr>\n",
       "      <th>OP_Count_UniquePatients</th>\n",
       "      <td>7.767074</td>\n",
       "    </tr>\n",
       "    <tr>\n",
       "      <th>IP_Count_UniquePatients</th>\n",
       "      <td>4.806858</td>\n",
       "    </tr>\n",
       "    <tr>\n",
       "      <th>Ratio_ClaimsPerPatient</th>\n",
       "      <td>4.380360</td>\n",
       "    </tr>\n",
       "    <tr>\n",
       "      <th>Perc_Outpatient</th>\n",
       "      <td>2.021702</td>\n",
       "    </tr>\n",
       "    <tr>\n",
       "      <th>DualPatientProvider</th>\n",
       "      <td>1.601835</td>\n",
       "    </tr>\n",
       "    <tr>\n",
       "      <th>OP_Perc_MultHosp</th>\n",
       "      <td>0.631752</td>\n",
       "    </tr>\n",
       "    <tr>\n",
       "      <th>OP_Count_UniqueState</th>\n",
       "      <td>0.629165</td>\n",
       "    </tr>\n",
       "    <tr>\n",
       "      <th>IP_Mean_AdmitDuration</th>\n",
       "      <td>0.349614</td>\n",
       "    </tr>\n",
       "    <tr>\n",
       "      <th>IP_Mean_InsReimbursementRatio</th>\n",
       "      <td>0.223584</td>\n",
       "    </tr>\n",
       "    <tr>\n",
       "      <th>IP_Perc_HeartFailure_Chronic</th>\n",
       "      <td>0.127918</td>\n",
       "    </tr>\n",
       "    <tr>\n",
       "      <th>Perc_MultHospAttPhys</th>\n",
       "      <td>0.097548</td>\n",
       "    </tr>\n",
       "    <tr>\n",
       "      <th>OP_Perc_KidneyDisease_Chronic</th>\n",
       "      <td>0.057487</td>\n",
       "    </tr>\n",
       "    <tr>\n",
       "      <th>IP_Perc_Depression_Chronic</th>\n",
       "      <td>0.026489</td>\n",
       "    </tr>\n",
       "  </tbody>\n",
       "</table>\n",
       "</div>"
      ],
      "text/plain": [
       "                               Coefficient\n",
       "OP_Count_UniquePatients           7.767074\n",
       "IP_Count_UniquePatients           4.806858\n",
       "Ratio_ClaimsPerPatient            4.380360\n",
       "Perc_Outpatient                   2.021702\n",
       "DualPatientProvider               1.601835\n",
       "OP_Perc_MultHosp                  0.631752\n",
       "OP_Count_UniqueState              0.629165\n",
       "IP_Mean_AdmitDuration             0.349614\n",
       "IP_Mean_InsReimbursementRatio     0.223584\n",
       "IP_Perc_HeartFailure_Chronic      0.127918\n",
       "Perc_MultHospAttPhys              0.097548\n",
       "OP_Perc_KidneyDisease_Chronic     0.057487\n",
       "IP_Perc_Depression_Chronic        0.026489"
      ]
     },
     "execution_count": 12,
     "metadata": {},
     "output_type": "execute_result"
    }
   ],
   "source": [
    "coefficients = pd.DataFrame(bestLogReg.coef_.T, index=X.columns\n",
    "                           ).rename(columns = {0:'Coefficient'}\n",
    "                           ).abs().sort_values(by='Coefficient',\n",
    "                                               ascending=False)\n",
    "coefficients[coefficients.Coefficient > 0]"
   ]
  },
  {
   "cell_type": "markdown",
   "metadata": {},
   "source": [
    "## K-nearest Neighbors"
   ]
  },
  {
   "cell_type": "code",
   "execution_count": 13,
   "metadata": {
    "scrolled": true
   },
   "outputs": [
    {
     "name": "stdout",
     "output_type": "stream",
     "text": [
      "Model details: KNeighborsClassifier() \n",
      "\n",
      "Train Set Recall Score: 100.0%\n",
      "Test Set Recall Score: 92.75999999999999%\n",
      "\n",
      "Train Set Confusion Matrix:\n",
      " [[2612  821]\n",
      " [   0 3433]]\n",
      "Test Set Confusion Matrix:\n",
      " [[1062  409]\n",
      " [  11  141]]\n"
     ]
    }
   ],
   "source": [
    "# # baseline model with SMOTE\n",
    "\n",
    "# knn = KNeighborsClassifier().fit(X_train_SMOTE, y_train_SMOTE)\n",
    "\n",
    "# dump(knn, './data/Iteration_1/knn.pkl')\n",
    "\n",
    "knn = load('./data/Iteration_1/knn.pkl')\n",
    "model_results(knn, X_train_SMOTE, y_train_SMOTE)"
   ]
  },
  {
   "cell_type": "code",
   "execution_count": 14,
   "metadata": {
    "scrolled": true
   },
   "outputs": [
    {
     "name": "stdout",
     "output_type": "stream",
     "text": [
      "Model details: KNeighborsClassifier(n_neighbors=21) \n",
      "\n",
      "Train Set Recall Score: 98.98%\n",
      "Test Set Recall Score: 96.05%\n",
      "\n",
      "Train Set Confusion Matrix:\n",
      " [[2259 1174]\n",
      " [  35 3398]]\n",
      "Test Set Confusion Matrix:\n",
      " [[970 501]\n",
      " [  6 146]]\n"
     ]
    }
   ],
   "source": [
    "# # grid search (fine-tuned)\n",
    "\n",
    "# params = {'n_neighbors': np.arange(20, 30)}\n",
    "\n",
    "# knnGS = \\\n",
    "#     ms.GridSearchCV(knn, param_grid=params,\n",
    "#                           cv=skfold, n_jobs=(-1), verbose = 1,\n",
    "#                           return_train_score = True,\n",
    "#                           scoring = 'recall').fit(X_train_SMOTE,\n",
    "#                                                   y_train_SMOTE)\n",
    "\n",
    "# bestKNN = knnGS.best_estimator_\n",
    "# dump(bestKNN, './data/Iteration_1/bestKNN.pkl')\n",
    "\n",
    "bestKNN = load('./data/Iteration_1/bestKNN.pkl')\n",
    "model_results(bestKNN, X_train_SMOTE, y_train_SMOTE)"
   ]
  },
  {
   "cell_type": "code",
   "execution_count": 15,
   "metadata": {},
   "outputs": [],
   "source": [
    "# # grid search tuning steps\n",
    "\n",
    "# params = {'n_neighbors': [60, 75, 90, 200, 500, 1000]}\n",
    "# Model details: KNeighborsClassifier(n_neighbors=60) \n",
    "# Train Set Recall Score: 97.44%\n",
    "# Test Set Recall Score: 94.74000000000001%\n",
    "# Train Set Confusion Matrix:\n",
    "#  [[2160 1273]\n",
    "#  [  88 3345]]\n",
    "# Test Set Confusion Matrix:\n",
    "#  [[942 529]\n",
    "#  [  8 144]]\n",
    "\n",
    "# params = {'n_neighbors': np.arange(50, 75, 5)}\n",
    "# Model details: KNeighborsClassifier(n_neighbors=50) \n",
    "# Train Set Recall Score: 97.64%\n",
    "# Test Set Recall Score: 94.74000000000001%\n",
    "# Train Set Confusion Matrix:\n",
    "#  [[2167 1266]\n",
    "#  [  81 3352]]\n",
    "# Test Set Confusion Matrix:\n",
    "#  [[949 522]\n",
    "#  [  8 144]]\n",
    "\n",
    "# params = {'n_neighbors': np.arange(30, 55, 5)}\n",
    "# Model details: KNeighborsClassifier(n_neighbors=30) \n",
    "# Train Set Recall Score: 98.08%\n",
    "# Test Set Recall Score: 96.05%\n",
    "# Train Set Confusion Matrix:\n",
    "#  [[2226 1207]\n",
    "#  [  66 3367]]\n",
    "# Test Set Confusion Matrix:\n",
    "#  [[961 510]\n",
    "#  [  6 146]]"
   ]
  },
  {
   "cell_type": "markdown",
   "metadata": {},
   "source": [
    "## Gaussian Naive Bayes"
   ]
  },
  {
   "cell_type": "code",
   "execution_count": 16,
   "metadata": {
    "scrolled": false
   },
   "outputs": [
    {
     "name": "stdout",
     "output_type": "stream",
     "text": [
      "Model details: GaussianNB() \n",
      "\n",
      "Train Set Recall Score: 85.03%\n",
      "Test Set Recall Score: 82.24000000000001%\n",
      "\n",
      "Train Set Confusion Matrix:\n",
      " [[2709  724]\n",
      " [  53  301]]\n",
      "Test Set Confusion Matrix:\n",
      " [[1188  283]\n",
      " [  27  125]]\n"
     ]
    }
   ],
   "source": [
    "# # baseline model\n",
    "\n",
    "# gnb = GaussianNB().fit(X_train, y_train)\n",
    "\n",
    "# dump(gnb, './data/Iteration_1/gnb.pkl')\n",
    "\n",
    "gnb = load('./data/Iteration_1/gnb.pkl')\n",
    "model_results(gnb)"
   ]
  },
  {
   "cell_type": "code",
   "execution_count": 17,
   "metadata": {
    "scrolled": true
   },
   "outputs": [
    {
     "name": "stdout",
     "output_type": "stream",
     "text": [
      "Model details: GaussianNB(var_smoothing=0.016199999999999964) \n",
      "\n",
      "Train Set Recall Score: 88.55%\n",
      "Test Set Recall Score: 87.5%\n",
      "\n",
      "Train Set Confusion Matrix:\n",
      " [[2503  930]\n",
      " [ 393 3040]]\n",
      "Test Set Confusion Matrix:\n",
      " [[1098  373]\n",
      " [  19  133]]\n"
     ]
    }
   ],
   "source": [
    "# # grid search (fine-tuned)\n",
    "\n",
    "# params = {'var_smoothing': np.arange(0.01, 0.2, .0001)}\n",
    "\n",
    "# gnbModel = ms.GridSearchCV(gnb, param_grid=params,\n",
    "#                              scoring='recall', cv=skfold,\n",
    "#                              n_jobs=(-1), verbose=1\n",
    "#                             ).fit(X_train_SMOTE, y_train_SMOTE)\n",
    "\n",
    "# bestGNB = gnbModel.best_estimator_\n",
    "# dump(bestGNB, './data/Iteration_1/bestGNB.pkl')\n",
    "\n",
    "bestGNB = load('./data/Iteration_1/bestGNB.pkl')\n",
    "model_results(bestGNB, X_train_SMOTE, y_train_SMOTE)\n",
    "\n",
    "# ----------------------------------------------\n",
    "# params = {'var_smoothing': [0.001, 0.01, 0.1]}\n",
    "# Model details: GaussianNB(var_smoothing=0.1) \n",
    "# Train Set Recall Score: 87.29%\n",
    "# Test Set Recall Score: 86.18%\n",
    "# Train Set Confusion Matrix:\n",
    "#  [[2289 1144]\n",
    "#  [  45  309]]\n",
    "# Test Set Confusion Matrix:\n",
    "#  [[1019  452]\n",
    "#  [  21  131]]\n",
    "\n",
    "# params = {'var_smoothing': np.arange(0.005, 0.25, .001)}\n",
    "# Model details: GaussianNB(var_smoothing=0.008) \n",
    "\n",
    "# Train Set Recall Score: 88.67%\n",
    "# Test Set Recall Score: 86.83999999999999%\n",
    "\n",
    "# Train Set Confusion Matrix:\n",
    "#  [[2576  857]\n",
    "#  [ 389 3044]]\n",
    "# Test Set Confusion Matrix:\n",
    "#  [[1128  343]\n",
    "#  [  20  132]]"
   ]
  },
  {
   "cell_type": "markdown",
   "metadata": {},
   "source": [
    "## Tree Models"
   ]
  },
  {
   "cell_type": "markdown",
   "metadata": {},
   "source": [
    "### Random Forest"
   ]
  },
  {
   "cell_type": "code",
   "execution_count": 18,
   "metadata": {
    "scrolled": true
   },
   "outputs": [
    {
     "name": "stdout",
     "output_type": "stream",
     "text": [
      "Model details: RandomForestClassifier(class_weight='balanced', random_state=0) \n",
      "\n",
      "Train Set Recall Score: 99.72%\n",
      "Test Set Recall Score: 41.449999999999996%\n",
      "\n",
      "Train Set Confusion Matrix:\n",
      " [[3433    0]\n",
      " [   1  353]]\n",
      "Test Set Confusion Matrix:\n",
      " [[1455   16]\n",
      " [  89   63]]\n"
     ]
    }
   ],
   "source": [
    "# # baseline model\n",
    "\n",
    "# randForest = \\\n",
    "#     RandomForestClassifier(class_weight='balanced', random_state=0\n",
    "#                           ).fit(X_train, y_train)\n",
    "\n",
    "# dump(randForest, './data/Iteration_1/randForest.pkl')\n",
    "\n",
    "randForest = load('./data/Iteration_1/randForest.pkl')\n",
    "model_results(randForest)"
   ]
  },
  {
   "cell_type": "code",
   "execution_count": 19,
   "metadata": {
    "scrolled": false
   },
   "outputs": [
    {
     "name": "stdout",
     "output_type": "stream",
     "text": [
      "Model details: RandomForestClassifier(class_weight='balanced', max_depth=3, min_samples_leaf=3,\n",
      "                       min_samples_split=3, random_state=0) \n",
      "\n",
      "Train Set Recall Score: 90.96%\n",
      "Test Set Recall Score: 90.13%\n",
      "\n",
      "Train Set Confusion Matrix:\n",
      " [[2822  611]\n",
      " [  32  322]]\n",
      "Test Set Confusion Matrix:\n",
      " [[1233  238]\n",
      " [  15  137]]\n"
     ]
    }
   ],
   "source": [
    "# # grid search (fine-tuned)\n",
    "\n",
    "# params = {'max_depth': np.arange(2, 5),\n",
    "#           'min_samples_split': np.arange(3, 7),\n",
    "#           'min_samples_leaf': np.arange(3, 7)}\n",
    "\n",
    "# randForestGS = \\\n",
    "#     ms.GridSearchCV(randForest,\n",
    "#                           param_grid=params,\n",
    "#                           scoring='recall', cv=skfold,\n",
    "#                           n_jobs=(-1), verbose=1,\n",
    "#                           return_train_score=True\n",
    "#                           ).fit(X_train, y_train)\n",
    "\n",
    "# bestRandForest = randForestGS.best_estimator_\n",
    "# dump(bestRandForest, './data/Iteration_1/bestRandForest.pkl')\n",
    "\n",
    "bestRandForest = load('./data/Iteration_1/bestRandForest.pkl')\n",
    "model_results(bestRandForest)\n",
    "\n",
    "# --------------------------------------------------------------\n",
    "# RandomizedSearchCV\n",
    "# params = {'n_estimators': [50, 100, 200, 500],\n",
    "#           'max_depth': np.arange(2, 7),\n",
    "#           'min_samples_split': np.arange(2, 7),\n",
    "#           'min_samples_leaf': np.arange(2, 7),\n",
    "#           'class_weight': ['balanced', 'balanced_subsample']}\n",
    "# Model details: RandomForestClassifier(class_weight='balanced',\n",
    "#                    max_depth=3, min_samples_leaf=5,\n",
    "#                    min_samples_split=5, random_state=0) \n",
    "# Train Set Recall Score: 90.96%\n",
    "# Test Set Recall Score: 90.13%\n",
    "# Train Set Confusion Matrix:\n",
    "#  [[2822  611]\n",
    "#  [  32  322]]\n",
    "# Test Set Confusion Matrix:\n",
    "#  [[1233  238]\n",
    "#  [  15  137]]"
   ]
  },
  {
   "cell_type": "markdown",
   "metadata": {},
   "source": [
    "### Gradient Boosting"
   ]
  },
  {
   "cell_type": "code",
   "execution_count": 20,
   "metadata": {
    "scrolled": true
   },
   "outputs": [
    {
     "name": "stdout",
     "output_type": "stream",
     "text": [
      "Model details: GradientBoostingClassifier(max_features='auto', random_state=0) \n",
      "\n",
      "Train Set Recall Score: 98.87%\n",
      "Test Set Recall Score: 80.92%\n",
      "\n",
      "Train Set Confusion Matrix:\n",
      " [[3228  205]\n",
      " [   4  350]]\n",
      "Test Set Confusion Matrix:\n",
      " [[1353  118]\n",
      " [  29  123]]\n"
     ]
    }
   ],
   "source": [
    "# # baseline model with sample_weight\n",
    "\n",
    "# gradBoostModel = \\\n",
    "#     GradientBoostingClassifier(max_features='auto', random_state=0)\n",
    "# gradBoostModel.fit(X_train, y_train, sample_weight=\n",
    "#     compute_sample_weight(class_weight='balanced', y=y_train))\n",
    "\n",
    "# dump(gradBoostModel, './data/Iteration_1/gradBoostModel.pkl')\n",
    "\n",
    "gradBoostModel = load('./data/Iteration_1/gradBoostModel.pkl')\n",
    "model_results(gradBoostModel)\n",
    "\n",
    "# ---------------------------------------------------------------\n",
    "# # baseline model with SMOTE\n",
    "# Model details:\n",
    "# GradientBoostingClassifier(max_features='auto', random_state=0) \n",
    "\n",
    "# Train Set Recall Score: 98.08%\n",
    "# Test Set Recall Score: 74.33999999999999%\n",
    "\n",
    "# Train Set Confusion Matrix:\n",
    "#  [[3324  109]\n",
    "#  [  66 3367]]\n",
    "# Test Set Confusion Matrix:\n",
    "#  [[1391   80]\n",
    "#  [  39  113]]"
   ]
  },
  {
   "cell_type": "code",
   "execution_count": 21,
   "metadata": {
    "scrolled": false
   },
   "outputs": [
    {
     "name": "stdout",
     "output_type": "stream",
     "text": [
      "Model details: GradientBoostingClassifier(learning_rate=0.007, max_depth=2,\n",
      "                           max_features='auto', min_samples_leaf=12,\n",
      "                           min_samples_split=26, n_estimators=350,\n",
      "                           random_state=0) \n",
      "\n",
      "Train Set Recall Score: 92.66%\n",
      "Test Set Recall Score: 92.11%\n",
      "\n",
      "Train Set Confusion Matrix:\n",
      " [[2954  479]\n",
      " [  26  328]]\n",
      "Test Set Confusion Matrix:\n",
      " [[1282  189]\n",
      " [  12  140]]\n"
     ]
    }
   ],
   "source": [
    "# # grid search (fine-tuned)\n",
    "\n",
    "# params = {'learning_rate':[0.003, 0.005, 0.007],\n",
    "#           'min_samples_split': [22, 24, 26],\n",
    "#           'min_samples_leaf': [8, 12, 16],\n",
    "#           'max_depth': [1, 2],\n",
    "#           'n_estimators': [250, 300, 350]}\n",
    "\n",
    "# gradBoostRS = ms.RandomizedSearchCV(gradBoostModel,\n",
    "#                                     param_distributions=params,\n",
    "#                                     scoring='recall', cv=skfold,\n",
    "#                                     n_jobs=(-1), verbose=1,\n",
    "#                                     return_train_score=True)\n",
    "# gradBoostRS.fit(X_train, y_train,\n",
    "#     sample_weight=\\\n",
    "#         compute_sample_weight(class_weight='balanced', y=y_train))\n",
    "\n",
    "# bestGradBoost = gradBoostRS.best_estimator_\n",
    "# dump(bestGradBoost, './data/Iteration_1/bestGradBoost.pkl')\n",
    "\n",
    "bestGradBoost = load('./data/Iteration_1/bestGradBoost.pkl')\n",
    "model_results(bestGradBoost)"
   ]
  },
  {
   "cell_type": "code",
   "execution_count": 22,
   "metadata": {},
   "outputs": [],
   "source": [
    "# # grid search tuning steps\n",
    "\n",
    "# params = {'learning_rate':[0.001, 0.01, 0.1],\n",
    "#           'n_estimators': [500, 850, 1200],\n",
    "#           'min_samples_split': [2, 8, 20],\n",
    "#           'min_samples_leaf': [1, 5, 12]}\n",
    "# Model details: GradientBoostingClassifier(learning_rate=0.001, max_features='auto',\n",
    "#                            min_samples_leaf=12, min_samples_split=20,\n",
    "#                            n_estimators=1200, random_state=0) \n",
    "# Train Set Recall Score: 92.66%\n",
    "# Test Set Recall Score: 90.79%\n",
    "# Train Set Confusion Matrix:\n",
    "#  [[2971  462]\n",
    "#  [  26  328]]\n",
    "# Test Set Confusion Matrix:\n",
    "#  [[1291  180]\n",
    "#  [  14  138]]\n",
    "\n",
    "# params = {'learning_rate':[0.0005, 0.001, 0.005],\n",
    "#           'n_estimators': [50, 100, 150, 200],\n",
    "#           'min_samples_split': [16, 20, 24],\n",
    "#           'min_samples_leaf': [8, 12, 16]}\n",
    "# Model details: GradientBoostingClassifier(learning_rate=0.005, max_features='auto',\n",
    "#                            min_samples_leaf=12, min_samples_split=24,\n",
    "#                            random_state=0) \n",
    "# Train Set Recall Score: 93.5%\n",
    "# Test Set Recall Score: 92.11%\n",
    "# Train Set Confusion Matrix:\n",
    "#  [[2788  645]\n",
    "#  [  23  331]]\n",
    "# Test Set Confusion Matrix:\n",
    "#  [[1216  255]\n",
    "#  [  12  140]]\n",
    "\n",
    "# params = {'learning_rate':[0.003, 0.005, 0.007],\n",
    "#           'min_samples_split': [22, 24, 26],\n",
    "#           'min_samples_leaf': [8, 12, 16],\n",
    "#           'max_depth': [1, 2]}\n",
    "# Model details: GradientBoostingClassifier(learning_rate=0.003, max_depth=2,\n",
    "#                            max_features='auto', min_samples_leaf=8,\n",
    "#                            min_samples_split=24, random_state=0) \n",
    "# Train Set Recall Score: 88.14%\n",
    "# Test Set Recall Score: 91.45%\n",
    "# Train Set Confusion Matrix:\n",
    "#  [[2832  601]\n",
    "#  [  42  312]]\n",
    "# Test Set Confusion Matrix:\n",
    "#  [[1231  240]\n",
    "#  [  13  139]]\n",
    "\n",
    "# params = {'learning_rate':[0.003, 0.005, 0.007],\n",
    "#           'min_samples_split': [22, 24, 26],\n",
    "#           'min_samples_leaf': [8, 12, 16],\n",
    "#           'max_depth': [1, 2],\n",
    "#           'n_estimators': [150, 300]}\n",
    "# Model details: GradientBoostingClassifier(learning_rate=0.005, max_depth=2,\n",
    "#                            max_features='auto', min_samples_leaf=16,\n",
    "#                            min_samples_split=26, n_estimators=300,\n",
    "#                            random_state=0) \n",
    "\n",
    "# Train Set Recall Score: 91.81%\n",
    "# Test Set Recall Score: 92.11%\n",
    "\n",
    "# Train Set Confusion Matrix:\n",
    "#  [[2897  536]\n",
    "#  [  29  325]]\n",
    "# Test Set Confusion Matrix:\n",
    "#  [[1267  204]\n",
    "#  [  12  140]]"
   ]
  },
  {
   "cell_type": "markdown",
   "metadata": {},
   "source": [
    "## Support Vector Machine"
   ]
  },
  {
   "cell_type": "code",
   "execution_count": 23,
   "metadata": {},
   "outputs": [
    {
     "name": "stdout",
     "output_type": "stream",
     "text": [
      "Model details: SVC(class_weight='balanced', random_state=0) \n",
      "\n",
      "Train Set Recall Score: 93.78999999999999%\n",
      "Test Set Recall Score: 92.11%\n",
      "\n",
      "Train Set Confusion Matrix:\n",
      " [[2722  711]\n",
      " [  22  332]]\n",
      "Test Set Confusion Matrix:\n",
      " [[1177  294]\n",
      " [  12  140]]\n"
     ]
    }
   ],
   "source": [
    "# # baseline model\n",
    "\n",
    "# svm = \\\n",
    "#     SVC(random_state=0, class_weight='balanced').fit(X_train, y_train)\n",
    "\n",
    "# dump(svm, './data/Iteration_1/svm.pkl')\n",
    "\n",
    "svm = load('./data/Iteration_1/svm.pkl')\n",
    "model_results(svm)"
   ]
  },
  {
   "cell_type": "code",
   "execution_count": 24,
   "metadata": {
    "scrolled": true
   },
   "outputs": [
    {
     "name": "stdout",
     "output_type": "stream",
     "text": [
      "Model details: SVC(C=0.5689866029018299, class_weight='balanced', random_state=0) \n",
      "\n",
      "Train Set Recall Score: 92.09%\n",
      "Test Set Recall Score: 92.11%\n",
      "\n",
      "Train Set Confusion Matrix:\n",
      " [[2598  835]\n",
      " [  28  326]]\n",
      "Test Set Confusion Matrix:\n",
      " [[1131  340]\n",
      " [  12  140]]\n"
     ]
    }
   ],
   "source": [
    "# # grid search\n",
    "\n",
    "# params = {'C': np.logspace(-3, 2, 100),\n",
    "#           'kernel': ['linear', 'poly', 'rbf'],\n",
    "#           'degree': [1, 3, 5],\n",
    "#           'gamma': ['scale', 'auto']}\n",
    "\n",
    "# svmRS = \\\n",
    "#     ms.RandomizedSearchCV(svm, param_grid=params,\n",
    "#                           scoring='recall', cv=skfold,\n",
    "#                           n_jobs=(-1), verbose=1,\n",
    "#                           return_train_score=True\n",
    "#                          ).fit(X_train, y_train)\n",
    "\n",
    "# bestSVM = svmRS.best_estimator_\n",
    "# dump(bestSVM, './data/Iteration_1/bestSVM.pkl')\n",
    "\n",
    "bestSVM = load('./data/Iteration_1/bestSVM.pkl')\n",
    "model_results(bestSVM)\n",
    "\n",
    "# Model details: SVC(C=0.5689866029018299,\n",
    "#                    class_weight='balanced', random_state=0)\n",
    "# Train Set Recall Score: 92.09%\n",
    "# Test Set Recall Score: 92.11%"
   ]
  }
 ],
 "metadata": {
  "kernelspec": {
   "display_name": "Python 3",
   "language": "python",
   "name": "python3"
  },
  "language_info": {
   "codemirror_mode": {
    "name": "ipython",
    "version": 3
   },
   "file_extension": ".py",
   "mimetype": "text/x-python",
   "name": "python",
   "nbconvert_exporter": "python",
   "pygments_lexer": "ipython3",
   "version": "3.7.6"
  },
  "toc": {
   "base_numbering": 1,
   "nav_menu": {},
   "number_sections": true,
   "sideBar": true,
   "skip_h1_title": true,
   "title_cell": "Table of Contents",
   "title_sidebar": "Contents",
   "toc_cell": false,
   "toc_position": {
    "height": "calc(100% - 180px)",
    "left": "10px",
    "top": "150px",
    "width": "165px"
   },
   "toc_section_display": true,
   "toc_window_display": true
  }
 },
 "nbformat": 4,
 "nbformat_minor": 4
}
